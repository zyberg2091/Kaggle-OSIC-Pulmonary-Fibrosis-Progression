{
  "nbformat": 4,
  "nbformat_minor": 0,
  "metadata": {
    "colab": {
      "name": "OSIC Pulmonary Fibrosis Progression",
      "provenance": [],
      "collapsed_sections": [],
      "authorship_tag": "ABX9TyOKcUqT5CMar+L5g/HiZLzC",
      "include_colab_link": true
    },
    "kernelspec": {
      "name": "python3",
      "display_name": "Python 3"
    }
  },
  "cells": [
    {
      "cell_type": "markdown",
      "metadata": {
        "id": "view-in-github",
        "colab_type": "text"
      },
      "source": [
        "<a href=\"https://colab.research.google.com/github/zyberg2091/OSIC-Pulmonary-Fibrosis-Progression/blob/master/OSIC_Pulmonary_Fibrosis_Progression.ipynb\" target=\"_parent\"><img src=\"https://colab.research.google.com/assets/colab-badge.svg\" alt=\"Open In Colab\"/></a>"
      ]
    },
    {
      "cell_type": "code",
      "metadata": {
        "id": "i8paC-WSbIuz",
        "colab": {
          "base_uri": "https://localhost:8080/",
          "height": 255
        },
        "outputId": "5da15307-af08-4c8e-e6fb-dc649d2415d8"
      },
      "source": [
        "from google.colab import files\n",
        "# Install Kaggle library\n",
        "!pip install --upgrade --force-reinstall --no-deps kaggle"
      ],
      "execution_count": null,
      "outputs": [
        {
          "output_type": "stream",
          "text": [
            "Collecting kaggle\n",
            "\u001b[?25l  Downloading https://files.pythonhosted.org/packages/62/ab/bb20f9b9e24f9a6250f95a432f8d9a7d745f8d24039d7a5a6eaadb7783ba/kaggle-1.5.6.tar.gz (58kB)\n",
            "\r\u001b[K     |█████▋                          | 10kB 19.4MB/s eta 0:00:01\r\u001b[K     |███████████▎                    | 20kB 6.4MB/s eta 0:00:01\r\u001b[K     |█████████████████               | 30kB 7.3MB/s eta 0:00:01\r\u001b[K     |██████████████████████▌         | 40kB 8.2MB/s eta 0:00:01\r\u001b[K     |████████████████████████████▏   | 51kB 6.9MB/s eta 0:00:01\r\u001b[K     |████████████████████████████████| 61kB 3.3MB/s \n",
            "\u001b[?25hBuilding wheels for collected packages: kaggle\n",
            "  Building wheel for kaggle (setup.py) ... \u001b[?25l\u001b[?25hdone\n",
            "  Created wheel for kaggle: filename=kaggle-1.5.6-cp36-none-any.whl size=72859 sha256=2f8877f15c3fe5afba6c44aa7d566acd46578dfb459b46a610e3c0e1656e9c63\n",
            "  Stored in directory: /root/.cache/pip/wheels/57/4e/e8/bb28d035162fb8f17f8ca5d42c3230e284c6aa565b42b72674\n",
            "Successfully built kaggle\n",
            "Installing collected packages: kaggle\n",
            "  Found existing installation: kaggle 1.5.6\n",
            "    Uninstalling kaggle-1.5.6:\n",
            "      Successfully uninstalled kaggle-1.5.6\n",
            "Successfully installed kaggle-1.5.6\n"
          ],
          "name": "stdout"
        }
      ]
    },
    {
      "cell_type": "code",
      "metadata": {
        "id": "NvRxLmPXjA4U"
      },
      "source": [
        "!mkdir -p ~/.kaggle"
      ],
      "execution_count": null,
      "outputs": []
    },
    {
      "cell_type": "code",
      "metadata": {
        "id": "1V4PyagijWMj"
      },
      "source": [
        "!cp kaggle.json ~/.kaggle/"
      ],
      "execution_count": null,
      "outputs": []
    },
    {
      "cell_type": "code",
      "metadata": {
        "id": "lurkrORkjj53"
      },
      "source": [
        "! chmod 600 ~/.kaggle/kaggle.json"
      ],
      "execution_count": null,
      "outputs": []
    },
    {
      "cell_type": "code",
      "metadata": {
        "id": "Nu2G6ejOlIRZ",
        "colab": {
          "base_uri": "https://localhost:8080/",
          "height": 1000
        },
        "outputId": "36ec9480-db91-44ba-b7de-72f7e3c93166"
      },
      "source": [
        "!kaggle competitions download -c osic-pulmonary-fibrosis-progression"
      ],
      "execution_count": null,
      "outputs": [
        {
          "output_type": "stream",
          "text": [
            "Warning: Looks like you're using an outdated API Version, please consider updating (server 1.5.6 / client 1.5.4)\n",
            "Downloading 107.dcm to /content\n",
            "  0% 0.00/513k [00:00<?, ?B/s]\n",
            "100% 513k/513k [00:00<00:00, 74.7MB/s]\n",
            "Downloading 106.dcm to /content\n",
            "  0% 0.00/513k [00:00<?, ?B/s]\n",
            "100% 513k/513k [00:00<00:00, 70.4MB/s]\n",
            "Downloading 116.dcm to /content\n",
            "  0% 0.00/513k [00:00<?, ?B/s]\n",
            "100% 513k/513k [00:00<00:00, 70.7MB/s]\n",
            "Downloading 100.dcm to /content\n",
            "  0% 0.00/513k [00:00<?, ?B/s]\n",
            "100% 513k/513k [00:00<00:00, 71.5MB/s]\n",
            "Downloading 109.dcm to /content\n",
            "  0% 0.00/513k [00:00<?, ?B/s]\n",
            "100% 513k/513k [00:00<00:00, 67.6MB/s]\n",
            "Downloading 115.dcm to /content\n",
            "  0% 0.00/513k [00:00<?, ?B/s]\n",
            "100% 513k/513k [00:00<00:00, 70.6MB/s]\n",
            "Downloading 10.dcm to /content\n",
            "  0% 0.00/513k [00:00<?, ?B/s]\n",
            "100% 513k/513k [00:00<00:00, 72.1MB/s]\n",
            "Downloading 110.dcm to /content\n",
            "  0% 0.00/513k [00:00<?, ?B/s]\n",
            "100% 513k/513k [00:00<00:00, 72.4MB/s]\n",
            "Downloading 108.dcm to /content\n",
            "  0% 0.00/513k [00:00<?, ?B/s]\n",
            "100% 513k/513k [00:00<00:00, 69.0MB/s]\n",
            "Downloading 104.dcm to /content\n",
            "  0% 0.00/513k [00:00<?, ?B/s]\n",
            "100% 513k/513k [00:00<00:00, 71.0MB/s]\n",
            "Downloading 105.dcm to /content\n",
            "  0% 0.00/513k [00:00<?, ?B/s]\n",
            "100% 513k/513k [00:00<00:00, 66.3MB/s]\n",
            "Downloading 112.dcm to /content\n",
            "  0% 0.00/513k [00:00<?, ?B/s]\n",
            "100% 513k/513k [00:00<00:00, 72.1MB/s]\n",
            "Downloading 103.dcm to /content\n",
            "  0% 0.00/513k [00:00<?, ?B/s]\n",
            "100% 513k/513k [00:00<00:00, 68.1MB/s]\n",
            "Downloading 113.dcm to /content\n",
            "  0% 0.00/513k [00:00<?, ?B/s]\n",
            "100% 513k/513k [00:00<00:00, 169MB/s]\n",
            "Downloading 111.dcm to /content\n",
            "  0% 0.00/513k [00:00<?, ?B/s]\n",
            "100% 513k/513k [00:00<00:00, 69.9MB/s]\n",
            "Downloading 11.dcm to /content\n",
            "  0% 0.00/513k [00:00<?, ?B/s]\n",
            "100% 513k/513k [00:00<00:00, 69.2MB/s]\n",
            "Downloading 114.dcm to /content\n",
            "  0% 0.00/513k [00:00<?, ?B/s]\n",
            "100% 513k/513k [00:00<00:00, 73.2MB/s]\n",
            "Downloading 102.dcm to /content\n",
            "  0% 0.00/513k [00:00<?, ?B/s]\n",
            "100% 513k/513k [00:00<00:00, 70.9MB/s]\n",
            "Downloading 1.dcm to /content\n",
            "  0% 0.00/513k [00:00<?, ?B/s]\n",
            "100% 513k/513k [00:00<00:00, 72.1MB/s]\n",
            "Downloading 101.dcm to /content\n",
            "  0% 0.00/513k [00:00<?, ?B/s]\n",
            "100% 513k/513k [00:00<00:00, 71.5MB/s]\n",
            "107.dcm: Skipping, found more recently modified local copy (use --force to force download)\n",
            "106.dcm: Skipping, found more recently modified local copy (use --force to force download)\n",
            "116.dcm: Skipping, found more recently modified local copy (use --force to force download)\n",
            "100.dcm: Skipping, found more recently modified local copy (use --force to force download)\n",
            "109.dcm: Skipping, found more recently modified local copy (use --force to force download)\n",
            "115.dcm: Skipping, found more recently modified local copy (use --force to force download)\n",
            "10.dcm: Skipping, found more recently modified local copy (use --force to force download)\n",
            "110.dcm: Skipping, found more recently modified local copy (use --force to force download)\n",
            "108.dcm: Skipping, found more recently modified local copy (use --force to force download)\n",
            "104.dcm: Skipping, found more recently modified local copy (use --force to force download)\n",
            "105.dcm: Skipping, found more recently modified local copy (use --force to force download)\n",
            "112.dcm: Skipping, found more recently modified local copy (use --force to force download)\n",
            "103.dcm: Skipping, found more recently modified local copy (use --force to force download)\n",
            "113.dcm: Skipping, found more recently modified local copy (use --force to force download)\n",
            "111.dcm: Skipping, found more recently modified local copy (use --force to force download)\n",
            "11.dcm: Skipping, found more recently modified local copy (use --force to force download)\n",
            "114.dcm: Skipping, found more recently modified local copy (use --force to force download)\n",
            "102.dcm: Skipping, found more recently modified local copy (use --force to force download)\n",
            "1.dcm: Skipping, found more recently modified local copy (use --force to force download)\n",
            "101.dcm: Skipping, found more recently modified local copy (use --force to force download)\n",
            "Downloading 24.dcm.zip to /content\n",
            "  0% 0.00/789k [00:00<?, ?B/s]\n",
            "100% 789k/789k [00:00<00:00, 66.6MB/s]\n",
            "Downloading 12.dcm.zip to /content\n",
            "  0% 0.00/782k [00:00<?, ?B/s]\n",
            "100% 782k/782k [00:00<00:00, 52.0MB/s]\n",
            "Downloading 19.dcm.zip to /content\n",
            "  0% 0.00/790k [00:00<?, ?B/s]\n",
            "100% 790k/790k [00:00<00:00, 110MB/s]\n",
            "Downloading 13.dcm.zip to /content\n",
            "  0% 0.00/787k [00:00<?, ?B/s]\n",
            "100% 787k/787k [00:00<00:00, 109MB/s]\n",
            "Downloading 1.dcm.zip to /content\n",
            "  0% 0.00/770k [00:00<?, ?B/s]\n",
            "100% 770k/770k [00:00<00:00, 105MB/s]\n",
            "Downloading 20.dcm.zip to /content\n",
            "  0% 0.00/786k [00:00<?, ?B/s]\n",
            "100% 786k/786k [00:00<00:00, 104MB/s]\n",
            "Downloading 17.dcm.zip to /content\n",
            "  0% 0.00/789k [00:00<?, ?B/s]\n",
            "100% 789k/789k [00:00<00:00, 110MB/s]\n",
            "Downloading 27.dcm.zip to /content\n",
            "  0% 0.00/795k [00:00<?, ?B/s]\n",
            "100% 795k/795k [00:00<00:00, 113MB/s]\n",
            "Downloading 15.dcm.zip to /content\n",
            "  0% 0.00/785k [00:00<?, ?B/s]\n",
            "100% 785k/785k [00:00<00:00, 99.2MB/s]\n",
            "Downloading 21.dcm.zip to /content\n",
            "  0% 0.00/790k [00:00<?, ?B/s]\n",
            "100% 790k/790k [00:00<00:00, 110MB/s]\n",
            "Downloading 11.dcm.zip to /content\n",
            "  0% 0.00/781k [00:00<?, ?B/s]\n",
            "100% 781k/781k [00:00<00:00, 101MB/s]\n",
            "Downloading 26.dcm.zip to /content\n",
            "  0% 0.00/790k [00:00<?, ?B/s]\n",
            "100% 790k/790k [00:00<00:00, 81.7MB/s]\n",
            "Downloading 16.dcm.zip to /content\n",
            "  0% 0.00/785k [00:00<?, ?B/s]\n",
            "100% 785k/785k [00:00<00:00, 103MB/s]\n",
            "Downloading 25.dcm.zip to /content\n",
            "  0% 0.00/793k [00:00<?, ?B/s]\n",
            "100% 793k/793k [00:00<00:00, 112MB/s]\n",
            "Downloading 10.dcm.zip to /content\n",
            "  0% 0.00/777k [00:00<?, ?B/s]\n",
            "100% 777k/777k [00:00<00:00, 109MB/s]\n",
            "Downloading 18.dcm.zip to /content\n",
            "  0% 0.00/788k [00:00<?, ?B/s]\n",
            "100% 788k/788k [00:00<00:00, 51.8MB/s]\n",
            "Downloading 14.dcm.zip to /content\n",
            "  0% 0.00/782k [00:00<?, ?B/s]\n",
            "100% 782k/782k [00:00<00:00, 106MB/s]\n",
            "Downloading 2.dcm.zip to /content\n",
            "  0% 0.00/772k [00:00<?, ?B/s]\n",
            "100% 772k/772k [00:00<00:00, 99.4MB/s]\n",
            "Downloading 22.dcm.zip to /content\n",
            "  0% 0.00/794k [00:00<?, ?B/s]\n",
            "100% 794k/794k [00:00<00:00, 110MB/s]\n",
            "Downloading 23.dcm.zip to /content\n",
            "  0% 0.00/798k [00:00<?, ?B/s]\n",
            "100% 798k/798k [00:00<00:00, 52.5MB/s]\n",
            "24.dcm.zip: Skipping, found more recently modified local copy (use --force to force download)\n",
            "12.dcm.zip: Skipping, found more recently modified local copy (use --force to force download)\n",
            "19.dcm.zip: Skipping, found more recently modified local copy (use --force to force download)\n",
            "13.dcm.zip: Skipping, found more recently modified local copy (use --force to force download)\n",
            "1.dcm.zip: Skipping, found more recently modified local copy (use --force to force download)\n",
            "20.dcm.zip: Skipping, found more recently modified local copy (use --force to force download)\n",
            "429 - Too Many Requests\n"
          ],
          "name": "stdout"
        }
      ]
    },
    {
      "cell_type": "code",
      "metadata": {
        "id": "JDVqSf-Om0Ys",
        "colab": {
          "base_uri": "https://localhost:8080/",
          "height": 168
        },
        "outputId": "62786667-73c9-4792-8a46-51a50848a381"
      },
      "source": [
        "!ls\n"
      ],
      "execution_count": null,
      "outputs": [
        {
          "output_type": "stream",
          "text": [
            " 100.dcm   109.dcm      116.dcm      18.dcm.zip   25.dcm.zip\n",
            " 101.dcm   10.dcm       11.dcm\t     19.dcm.zip   26.dcm.zip\n",
            " 102.dcm   10.dcm.zip   11.dcm.zip   1.dcm\t  27.dcm.zip\n",
            " 103.dcm   110.dcm      12.dcm.zip   1.dcm.zip\t  2.dcm.zip\n",
            " 104.dcm   111.dcm      13.dcm.zip   20.dcm.zip   kaggle.json\n",
            " 105.dcm   112.dcm      14.dcm.zip   21.dcm.zip   sample_data\n",
            " 106.dcm   113.dcm      15.dcm.zip   22.dcm.zip  'sample_submission (1).csv'\n",
            " 107.dcm   114.dcm      16.dcm.zip   23.dcm.zip   test.csv\n",
            " 108.dcm   115.dcm      17.dcm.zip   24.dcm.zip   train.csv\n"
          ],
          "name": "stdout"
        }
      ]
    },
    {
      "cell_type": "code",
      "metadata": {
        "id": "7cC6BLFdnAVY"
      },
      "source": [
        "import os"
      ],
      "execution_count": null,
      "outputs": []
    },
    {
      "cell_type": "code",
      "metadata": {
        "id": "esvhdJpLf19h"
      },
      "source": [
        "import pandas as pd\n",
        "import numpy as np\n",
        "import tensorflow as tf\n",
        "from tensorflow.keras.layers import Input,Dense,Dropout,Lambda"
      ],
      "execution_count": null,
      "outputs": []
    },
    {
      "cell_type": "code",
      "metadata": {
        "id": "6pbjWw1Km_Lh"
      },
      "source": [
        "#lets work with csv files\n",
        "\n",
        "train_df=pd.read_csv(\"/content/train.csv\")\n",
        "test_df=pd.read_csv(\"/content/test.csv\")\n",
        "sub_df=pd.read_csv(\"/content/sample_submission (1).csv\")\n"
      ],
      "execution_count": null,
      "outputs": []
    },
    {
      "cell_type": "code",
      "metadata": {
        "id": "t3-7CoKtf0VF",
        "colab": {
          "base_uri": "https://localhost:8080/",
          "height": 195
        },
        "outputId": "ce9efdde-4d35-4634-b415-552b1133fcc3"
      },
      "source": [
        "train_df.head()"
      ],
      "execution_count": null,
      "outputs": [
        {
          "output_type": "execute_result",
          "data": {
            "text/html": [
              "<div>\n",
              "<style scoped>\n",
              "    .dataframe tbody tr th:only-of-type {\n",
              "        vertical-align: middle;\n",
              "    }\n",
              "\n",
              "    .dataframe tbody tr th {\n",
              "        vertical-align: top;\n",
              "    }\n",
              "\n",
              "    .dataframe thead th {\n",
              "        text-align: right;\n",
              "    }\n",
              "</style>\n",
              "<table border=\"1\" class=\"dataframe\">\n",
              "  <thead>\n",
              "    <tr style=\"text-align: right;\">\n",
              "      <th></th>\n",
              "      <th>Patient</th>\n",
              "      <th>Weeks</th>\n",
              "      <th>FVC</th>\n",
              "      <th>Percent</th>\n",
              "      <th>Age</th>\n",
              "      <th>Sex</th>\n",
              "      <th>SmokingStatus</th>\n",
              "    </tr>\n",
              "  </thead>\n",
              "  <tbody>\n",
              "    <tr>\n",
              "      <th>0</th>\n",
              "      <td>ID00007637202177411956430</td>\n",
              "      <td>-4</td>\n",
              "      <td>2315</td>\n",
              "      <td>58.253649</td>\n",
              "      <td>79</td>\n",
              "      <td>Male</td>\n",
              "      <td>Ex-smoker</td>\n",
              "    </tr>\n",
              "    <tr>\n",
              "      <th>1</th>\n",
              "      <td>ID00007637202177411956430</td>\n",
              "      <td>5</td>\n",
              "      <td>2214</td>\n",
              "      <td>55.712129</td>\n",
              "      <td>79</td>\n",
              "      <td>Male</td>\n",
              "      <td>Ex-smoker</td>\n",
              "    </tr>\n",
              "    <tr>\n",
              "      <th>2</th>\n",
              "      <td>ID00007637202177411956430</td>\n",
              "      <td>7</td>\n",
              "      <td>2061</td>\n",
              "      <td>51.862104</td>\n",
              "      <td>79</td>\n",
              "      <td>Male</td>\n",
              "      <td>Ex-smoker</td>\n",
              "    </tr>\n",
              "    <tr>\n",
              "      <th>3</th>\n",
              "      <td>ID00007637202177411956430</td>\n",
              "      <td>9</td>\n",
              "      <td>2144</td>\n",
              "      <td>53.950679</td>\n",
              "      <td>79</td>\n",
              "      <td>Male</td>\n",
              "      <td>Ex-smoker</td>\n",
              "    </tr>\n",
              "    <tr>\n",
              "      <th>4</th>\n",
              "      <td>ID00007637202177411956430</td>\n",
              "      <td>11</td>\n",
              "      <td>2069</td>\n",
              "      <td>52.063412</td>\n",
              "      <td>79</td>\n",
              "      <td>Male</td>\n",
              "      <td>Ex-smoker</td>\n",
              "    </tr>\n",
              "  </tbody>\n",
              "</table>\n",
              "</div>"
            ],
            "text/plain": [
              "                     Patient  Weeks   FVC    Percent  Age   Sex SmokingStatus\n",
              "0  ID00007637202177411956430     -4  2315  58.253649   79  Male     Ex-smoker\n",
              "1  ID00007637202177411956430      5  2214  55.712129   79  Male     Ex-smoker\n",
              "2  ID00007637202177411956430      7  2061  51.862104   79  Male     Ex-smoker\n",
              "3  ID00007637202177411956430      9  2144  53.950679   79  Male     Ex-smoker\n",
              "4  ID00007637202177411956430     11  2069  52.063412   79  Male     Ex-smoker"
            ]
          },
          "metadata": {
            "tags": []
          },
          "execution_count": 17
        }
      ]
    },
    {
      "cell_type": "code",
      "metadata": {
        "id": "HHMD-AxrgNYs",
        "colab": {
          "base_uri": "https://localhost:8080/",
          "height": 34
        },
        "outputId": "407d39e0-cccd-46cf-9568-567481878652"
      },
      "source": [
        "len(train_df['Patient'].unique())"
      ],
      "execution_count": null,
      "outputs": [
        {
          "output_type": "execute_result",
          "data": {
            "text/plain": [
              "176"
            ]
          },
          "metadata": {
            "tags": []
          },
          "execution_count": 18
        }
      ]
    },
    {
      "cell_type": "code",
      "metadata": {
        "id": "Bugqm3rPgcPg",
        "colab": {
          "base_uri": "https://localhost:8080/",
          "height": 101
        },
        "outputId": "03db65d4-7fc7-4a34-d39b-4282f15ddf90"
      },
      "source": [
        "train_df.groupby(['SmokingStatus']).count()['Sex']"
      ],
      "execution_count": null,
      "outputs": [
        {
          "output_type": "execute_result",
          "data": {
            "text/plain": [
              "SmokingStatus\n",
              "Currently smokes      82\n",
              "Ex-smoker           1038\n",
              "Never smoked         429\n",
              "Name: Sex, dtype: int64"
            ]
          },
          "metadata": {
            "tags": []
          },
          "execution_count": 19
        }
      ]
    },
    {
      "cell_type": "code",
      "metadata": {
        "id": "BdrnEoBOg5AW",
        "colab": {
          "base_uri": "https://localhost:8080/",
          "height": 252
        },
        "outputId": "4f6d0cc2-b845-4fd8-9a65-5469caba8ada"
      },
      "source": [
        "#EDA\n",
        "train_df.info()"
      ],
      "execution_count": null,
      "outputs": [
        {
          "output_type": "stream",
          "text": [
            "<class 'pandas.core.frame.DataFrame'>\n",
            "RangeIndex: 1549 entries, 0 to 1548\n",
            "Data columns (total 7 columns):\n",
            " #   Column         Non-Null Count  Dtype  \n",
            "---  ------         --------------  -----  \n",
            " 0   Patient        1549 non-null   object \n",
            " 1   Weeks          1549 non-null   int64  \n",
            " 2   FVC            1549 non-null   int64  \n",
            " 3   Percent        1549 non-null   float64\n",
            " 4   Age            1549 non-null   int64  \n",
            " 5   Sex            1549 non-null   object \n",
            " 6   SmokingStatus  1549 non-null   object \n",
            "dtypes: float64(1), int64(3), object(3)\n",
            "memory usage: 84.8+ KB\n"
          ],
          "name": "stdout"
        }
      ]
    },
    {
      "cell_type": "code",
      "metadata": {
        "id": "LWoTGcqOxf-m",
        "colab": {
          "base_uri": "https://localhost:8080/",
          "height": 151
        },
        "outputId": "45c533bb-7500-4d9d-fc4a-fc96c870a8dd"
      },
      "source": [
        "train_df.count()"
      ],
      "execution_count": null,
      "outputs": [
        {
          "output_type": "execute_result",
          "data": {
            "text/plain": [
              "Patient          1549\n",
              "Weeks            1549\n",
              "FVC              1549\n",
              "Percent          1549\n",
              "Age              1549\n",
              "Sex              1549\n",
              "SmokingStatus    1549\n",
              "dtype: int64"
            ]
          },
          "metadata": {
            "tags": []
          },
          "execution_count": 21
        }
      ]
    },
    {
      "cell_type": "code",
      "metadata": {
        "id": "d2bep91Kyae_",
        "colab": {
          "base_uri": "https://localhost:8080/",
          "height": 34
        },
        "outputId": "6db54dd8-1273-4b2a-b354-6d91c9469947"
      },
      "source": [
        "train_df.columns"
      ],
      "execution_count": null,
      "outputs": [
        {
          "output_type": "execute_result",
          "data": {
            "text/plain": [
              "Index(['Patient', 'Weeks', 'FVC', 'Percent', 'Age', 'Sex', 'SmokingStatus'], dtype='object')"
            ]
          },
          "metadata": {
            "tags": []
          },
          "execution_count": 22
        }
      ]
    },
    {
      "cell_type": "code",
      "metadata": {
        "id": "nky8K0FkyMDi"
      },
      "source": [
        "patient_train_df=set(train_df['Patient'].unique())\n",
        "patient_test_df= set(test_df['Patient'].unique())"
      ],
      "execution_count": null,
      "outputs": []
    },
    {
      "cell_type": "code",
      "metadata": {
        "id": "-VI1axyHzFxs",
        "colab": {
          "base_uri": "https://localhost:8080/",
          "height": 101
        },
        "outputId": "61071e2f-f940-45ad-a93b-e559ace1e4e2"
      },
      "source": [
        "patient_train_df.intersection(patient_test_df)"
      ],
      "execution_count": null,
      "outputs": [
        {
          "output_type": "execute_result",
          "data": {
            "text/plain": [
              "{'ID00419637202311204720264',\n",
              " 'ID00421637202311550012437',\n",
              " 'ID00422637202311677017371',\n",
              " 'ID00423637202312137826377',\n",
              " 'ID00426637202313170790466'}"
            ]
          },
          "metadata": {
            "tags": []
          },
          "execution_count": 24
        }
      ]
    },
    {
      "cell_type": "code",
      "metadata": {
        "id": "aKbusJJh0UGW",
        "colab": {
          "base_uri": "https://localhost:8080/",
          "height": 195
        },
        "outputId": "af2004c7-6471-466e-f39e-53deb6e0d8f8"
      },
      "source": [
        "unique_train_df=train_df[['Patient', 'Age', 'Sex', 'SmokingStatus']].drop_duplicates()\n",
        "unique_train_df.head()"
      ],
      "execution_count": null,
      "outputs": [
        {
          "output_type": "execute_result",
          "data": {
            "text/html": [
              "<div>\n",
              "<style scoped>\n",
              "    .dataframe tbody tr th:only-of-type {\n",
              "        vertical-align: middle;\n",
              "    }\n",
              "\n",
              "    .dataframe tbody tr th {\n",
              "        vertical-align: top;\n",
              "    }\n",
              "\n",
              "    .dataframe thead th {\n",
              "        text-align: right;\n",
              "    }\n",
              "</style>\n",
              "<table border=\"1\" class=\"dataframe\">\n",
              "  <thead>\n",
              "    <tr style=\"text-align: right;\">\n",
              "      <th></th>\n",
              "      <th>Patient</th>\n",
              "      <th>Age</th>\n",
              "      <th>Sex</th>\n",
              "      <th>SmokingStatus</th>\n",
              "    </tr>\n",
              "  </thead>\n",
              "  <tbody>\n",
              "    <tr>\n",
              "      <th>0</th>\n",
              "      <td>ID00007637202177411956430</td>\n",
              "      <td>79</td>\n",
              "      <td>Male</td>\n",
              "      <td>Ex-smoker</td>\n",
              "    </tr>\n",
              "    <tr>\n",
              "      <th>9</th>\n",
              "      <td>ID00009637202177434476278</td>\n",
              "      <td>69</td>\n",
              "      <td>Male</td>\n",
              "      <td>Ex-smoker</td>\n",
              "    </tr>\n",
              "    <tr>\n",
              "      <th>18</th>\n",
              "      <td>ID00010637202177584971671</td>\n",
              "      <td>60</td>\n",
              "      <td>Male</td>\n",
              "      <td>Ex-smoker</td>\n",
              "    </tr>\n",
              "    <tr>\n",
              "      <th>27</th>\n",
              "      <td>ID00011637202177653955184</td>\n",
              "      <td>72</td>\n",
              "      <td>Male</td>\n",
              "      <td>Ex-smoker</td>\n",
              "    </tr>\n",
              "    <tr>\n",
              "      <th>36</th>\n",
              "      <td>ID00012637202177665765362</td>\n",
              "      <td>65</td>\n",
              "      <td>Male</td>\n",
              "      <td>Never smoked</td>\n",
              "    </tr>\n",
              "  </tbody>\n",
              "</table>\n",
              "</div>"
            ],
            "text/plain": [
              "                      Patient  Age   Sex SmokingStatus\n",
              "0   ID00007637202177411956430   79  Male     Ex-smoker\n",
              "9   ID00009637202177434476278   69  Male     Ex-smoker\n",
              "18  ID00010637202177584971671   60  Male     Ex-smoker\n",
              "27  ID00011637202177653955184   72  Male     Ex-smoker\n",
              "36  ID00012637202177665765362   65  Male  Never smoked"
            ]
          },
          "metadata": {
            "tags": []
          },
          "execution_count": 25
        }
      ]
    },
    {
      "cell_type": "code",
      "metadata": {
        "id": "GOdu8gYE5PPD",
        "colab": {
          "base_uri": "https://localhost:8080/",
          "height": 34
        },
        "outputId": "a6eb6cc5-fc17-4794-e7d6-ce322f7dc1ad"
      },
      "source": [
        "train_df['Patient'].value_counts().max()"
      ],
      "execution_count": null,
      "outputs": [
        {
          "output_type": "execute_result",
          "data": {
            "text/plain": [
              "10"
            ]
          },
          "metadata": {
            "tags": []
          },
          "execution_count": 26
        }
      ]
    },
    {
      "cell_type": "code",
      "metadata": {
        "id": "IgpPunVv5iXv",
        "colab": {
          "base_uri": "https://localhost:8080/",
          "height": 34
        },
        "outputId": "65058a09-b53d-4e36-f7ee-43ac28ec1a82"
      },
      "source": [
        "train_df['Patient'].value_counts().min()"
      ],
      "execution_count": null,
      "outputs": [
        {
          "output_type": "execute_result",
          "data": {
            "text/plain": [
              "6"
            ]
          },
          "metadata": {
            "tags": []
          },
          "execution_count": 27
        }
      ]
    },
    {
      "cell_type": "code",
      "metadata": {
        "id": "Zhc-897t5s43",
        "colab": {
          "base_uri": "https://localhost:8080/",
          "height": 34
        },
        "outputId": "7eec04fe-7cd0-4252-a030-4e188fa6c583"
      },
      "source": [
        "len(test_df)"
      ],
      "execution_count": null,
      "outputs": [
        {
          "output_type": "execute_result",
          "data": {
            "text/plain": [
              "5"
            ]
          },
          "metadata": {
            "tags": []
          },
          "execution_count": 28
        }
      ]
    },
    {
      "cell_type": "code",
      "metadata": {
        "id": "CtdvoU6_dYG8",
        "colab": {
          "base_uri": "https://localhost:8080/",
          "height": 284
        },
        "outputId": "51644b7f-5013-46c2-b920-f69d797ba083"
      },
      "source": [
        "train_df[train_df['Patient']=='ID00422637202311677017371']"
      ],
      "execution_count": null,
      "outputs": [
        {
          "output_type": "execute_result",
          "data": {
            "text/html": [
              "<div>\n",
              "<style scoped>\n",
              "    .dataframe tbody tr th:only-of-type {\n",
              "        vertical-align: middle;\n",
              "    }\n",
              "\n",
              "    .dataframe tbody tr th {\n",
              "        vertical-align: top;\n",
              "    }\n",
              "\n",
              "    .dataframe thead th {\n",
              "        text-align: right;\n",
              "    }\n",
              "</style>\n",
              "<table border=\"1\" class=\"dataframe\">\n",
              "  <thead>\n",
              "    <tr style=\"text-align: right;\">\n",
              "      <th></th>\n",
              "      <th>Patient</th>\n",
              "      <th>Weeks</th>\n",
              "      <th>FVC</th>\n",
              "      <th>Percent</th>\n",
              "      <th>Age</th>\n",
              "      <th>Sex</th>\n",
              "      <th>SmokingStatus</th>\n",
              "    </tr>\n",
              "  </thead>\n",
              "  <tbody>\n",
              "    <tr>\n",
              "      <th>1523</th>\n",
              "      <td>ID00422637202311677017371</td>\n",
              "      <td>6</td>\n",
              "      <td>1930</td>\n",
              "      <td>76.672493</td>\n",
              "      <td>73</td>\n",
              "      <td>Male</td>\n",
              "      <td>Ex-smoker</td>\n",
              "    </tr>\n",
              "    <tr>\n",
              "      <th>1524</th>\n",
              "      <td>ID00422637202311677017371</td>\n",
              "      <td>11</td>\n",
              "      <td>1936</td>\n",
              "      <td>76.910853</td>\n",
              "      <td>73</td>\n",
              "      <td>Male</td>\n",
              "      <td>Ex-smoker</td>\n",
              "    </tr>\n",
              "    <tr>\n",
              "      <th>1525</th>\n",
              "      <td>ID00422637202311677017371</td>\n",
              "      <td>13</td>\n",
              "      <td>1955</td>\n",
              "      <td>77.665660</td>\n",
              "      <td>73</td>\n",
              "      <td>Male</td>\n",
              "      <td>Ex-smoker</td>\n",
              "    </tr>\n",
              "    <tr>\n",
              "      <th>1526</th>\n",
              "      <td>ID00422637202311677017371</td>\n",
              "      <td>15</td>\n",
              "      <td>1848</td>\n",
              "      <td>73.414905</td>\n",
              "      <td>73</td>\n",
              "      <td>Male</td>\n",
              "      <td>Ex-smoker</td>\n",
              "    </tr>\n",
              "    <tr>\n",
              "      <th>1527</th>\n",
              "      <td>ID00422637202311677017371</td>\n",
              "      <td>17</td>\n",
              "      <td>1897</td>\n",
              "      <td>75.361513</td>\n",
              "      <td>73</td>\n",
              "      <td>Male</td>\n",
              "      <td>Ex-smoker</td>\n",
              "    </tr>\n",
              "    <tr>\n",
              "      <th>1528</th>\n",
              "      <td>ID00422637202311677017371</td>\n",
              "      <td>23</td>\n",
              "      <td>1946</td>\n",
              "      <td>77.308120</td>\n",
              "      <td>73</td>\n",
              "      <td>Male</td>\n",
              "      <td>Ex-smoker</td>\n",
              "    </tr>\n",
              "    <tr>\n",
              "      <th>1529</th>\n",
              "      <td>ID00422637202311677017371</td>\n",
              "      <td>35</td>\n",
              "      <td>1862</td>\n",
              "      <td>73.971079</td>\n",
              "      <td>73</td>\n",
              "      <td>Male</td>\n",
              "      <td>Ex-smoker</td>\n",
              "    </tr>\n",
              "    <tr>\n",
              "      <th>1530</th>\n",
              "      <td>ID00422637202311677017371</td>\n",
              "      <td>47</td>\n",
              "      <td>1713</td>\n",
              "      <td>68.051804</td>\n",
              "      <td>73</td>\n",
              "      <td>Male</td>\n",
              "      <td>Ex-smoker</td>\n",
              "    </tr>\n",
              "  </tbody>\n",
              "</table>\n",
              "</div>"
            ],
            "text/plain": [
              "                        Patient  Weeks   FVC  ...  Age   Sex SmokingStatus\n",
              "1523  ID00422637202311677017371      6  1930  ...   73  Male     Ex-smoker\n",
              "1524  ID00422637202311677017371     11  1936  ...   73  Male     Ex-smoker\n",
              "1525  ID00422637202311677017371     13  1955  ...   73  Male     Ex-smoker\n",
              "1526  ID00422637202311677017371     15  1848  ...   73  Male     Ex-smoker\n",
              "1527  ID00422637202311677017371     17  1897  ...   73  Male     Ex-smoker\n",
              "1528  ID00422637202311677017371     23  1946  ...   73  Male     Ex-smoker\n",
              "1529  ID00422637202311677017371     35  1862  ...   73  Male     Ex-smoker\n",
              "1530  ID00422637202311677017371     47  1713  ...   73  Male     Ex-smoker\n",
              "\n",
              "[8 rows x 7 columns]"
            ]
          },
          "metadata": {
            "tags": []
          },
          "execution_count": 29
        }
      ]
    },
    {
      "cell_type": "code",
      "metadata": {
        "id": "Iu5F9AxjCp19"
      },
      "source": [
        "import matplotlib.pyplot as plt"
      ],
      "execution_count": null,
      "outputs": []
    },
    {
      "cell_type": "code",
      "metadata": {
        "id": "Y5euBlcPt-6c",
        "colab": {
          "base_uri": "https://localhost:8080/",
          "height": 298
        },
        "outputId": "279760ff-5aeb-4096-d6c9-802c9e5a725f"
      },
      "source": [
        "#1 visualization\n",
        "\n",
        "#smoking status\n",
        "\n",
        "unique_train_df['SmokingStatus'].value_counts().plot(kind='bar', \n",
        "                                              color='blue',\n",
        "                                              title='Distribution of the SmokingStatus column')\n",
        "\n",
        "plt.ylabel('counts')\n",
        "plt.xticks(rotation = 0)"
      ],
      "execution_count": null,
      "outputs": [
        {
          "output_type": "execute_result",
          "data": {
            "text/plain": [
              "(array([0, 1, 2]), <a list of 3 Text major ticklabel objects>)"
            ]
          },
          "metadata": {
            "tags": []
          },
          "execution_count": 31
        },
        {
          "output_type": "display_data",
          "data": {
            "image/png": "[encoded data removed]",
            "text/plain": [
              "<Figure size 432x288 with 1 Axes>"
            ]
          },
          "metadata": {
            "tags": [],
            "needs_background": "light"
          }
        }
      ]
    },
    {
      "cell_type": "code",
      "metadata": {
        "id": "XQc8uh6WyB4b",
        "colab": {
          "base_uri": "https://localhost:8080/",
          "height": 118
        },
        "outputId": "6995bbe4-3651-49cf-cb55-14dfbaca22b4"
      },
      "source": [
        "train_df['Weeks'].value_counts().head()"
      ],
      "execution_count": null,
      "outputs": [
        {
          "output_type": "execute_result",
          "data": {
            "text/plain": [
              "8     45\n",
              "12    44\n",
              "18    42\n",
              "10    41\n",
              "6     40\n",
              "Name: Weeks, dtype: int64"
            ]
          },
          "metadata": {
            "tags": []
          },
          "execution_count": 32
        }
      ]
    },
    {
      "cell_type": "code",
      "metadata": {
        "id": "6gNeSw-Q19v3",
        "colab": {
          "base_uri": "https://localhost:8080/",
          "height": 195
        },
        "outputId": "bb006e48-4d0b-4df9-df7b-fd2e9e461177"
      },
      "source": [
        "unique_train_df.head()"
      ],
      "execution_count": null,
      "outputs": [
        {
          "output_type": "execute_result",
          "data": {
            "text/html": [
              "<div>\n",
              "<style scoped>\n",
              "    .dataframe tbody tr th:only-of-type {\n",
              "        vertical-align: middle;\n",
              "    }\n",
              "\n",
              "    .dataframe tbody tr th {\n",
              "        vertical-align: top;\n",
              "    }\n",
              "\n",
              "    .dataframe thead th {\n",
              "        text-align: right;\n",
              "    }\n",
              "</style>\n",
              "<table border=\"1\" class=\"dataframe\">\n",
              "  <thead>\n",
              "    <tr style=\"text-align: right;\">\n",
              "      <th></th>\n",
              "      <th>Patient</th>\n",
              "      <th>Age</th>\n",
              "      <th>Sex</th>\n",
              "      <th>SmokingStatus</th>\n",
              "    </tr>\n",
              "  </thead>\n",
              "  <tbody>\n",
              "    <tr>\n",
              "      <th>0</th>\n",
              "      <td>ID00007637202177411956430</td>\n",
              "      <td>79</td>\n",
              "      <td>Male</td>\n",
              "      <td>Ex-smoker</td>\n",
              "    </tr>\n",
              "    <tr>\n",
              "      <th>9</th>\n",
              "      <td>ID00009637202177434476278</td>\n",
              "      <td>69</td>\n",
              "      <td>Male</td>\n",
              "      <td>Ex-smoker</td>\n",
              "    </tr>\n",
              "    <tr>\n",
              "      <th>18</th>\n",
              "      <td>ID00010637202177584971671</td>\n",
              "      <td>60</td>\n",
              "      <td>Male</td>\n",
              "      <td>Ex-smoker</td>\n",
              "    </tr>\n",
              "    <tr>\n",
              "      <th>27</th>\n",
              "      <td>ID00011637202177653955184</td>\n",
              "      <td>72</td>\n",
              "      <td>Male</td>\n",
              "      <td>Ex-smoker</td>\n",
              "    </tr>\n",
              "    <tr>\n",
              "      <th>36</th>\n",
              "      <td>ID00012637202177665765362</td>\n",
              "      <td>65</td>\n",
              "      <td>Male</td>\n",
              "      <td>Never smoked</td>\n",
              "    </tr>\n",
              "  </tbody>\n",
              "</table>\n",
              "</div>"
            ],
            "text/plain": [
              "                      Patient  Age   Sex SmokingStatus\n",
              "0   ID00007637202177411956430   79  Male     Ex-smoker\n",
              "9   ID00009637202177434476278   69  Male     Ex-smoker\n",
              "18  ID00010637202177584971671   60  Male     Ex-smoker\n",
              "27  ID00011637202177653955184   72  Male     Ex-smoker\n",
              "36  ID00012637202177665765362   65  Male  Never smoked"
            ]
          },
          "metadata": {
            "tags": []
          },
          "execution_count": 33
        }
      ]
    },
    {
      "cell_type": "code",
      "metadata": {
        "id": "HBcsZrpkqXRj",
        "colab": {
          "base_uri": "https://localhost:8080/",
          "height": 892
        },
        "outputId": "e53ad13d-8388-453e-f6cb-ab07ee66b97d"
      },
      "source": [
        "#week distribution\n",
        "plt.figure(figsize=(50,40))\n",
        "train_df['Weeks'][:int(len(train_df['Weeks'].unique())/2)].value_counts().plot(kind='barh', color='blue',\n",
        "                                              title='Distribution of the weeks column')\n",
        "plt.tick_params(axis=\"x\", labelsize=20)\n",
        "plt.tick_params(axis=\"y\", labelsize=20)\n"
      ],
      "execution_count": null,
      "outputs": [
        {
          "output_type": "display_data",
          "data": {
            "image/png": "[encoded data removed]",
            "text/plain": [
              "<Figure size 3600x2880 with 1 Axes>"
            ]
          },
          "metadata": {
            "tags": [],
            "needs_background": "light"
          }
        }
      ]
    },
    {
      "cell_type": "code",
      "metadata": {
        "id": "bG9t2Q2H1w9D",
        "colab": {
          "base_uri": "https://localhost:8080/",
          "height": 195
        },
        "outputId": "780ced9b-7edf-4d41-f09a-bde18f270c2a"
      },
      "source": [
        "train_df.head()"
      ],
      "execution_count": null,
      "outputs": [
        {
          "output_type": "execute_result",
          "data": {
            "text/html": [
              "<div>\n",
              "<style scoped>\n",
              "    .dataframe tbody tr th:only-of-type {\n",
              "        vertical-align: middle;\n",
              "    }\n",
              "\n",
              "    .dataframe tbody tr th {\n",
              "        vertical-align: top;\n",
              "    }\n",
              "\n",
              "    .dataframe thead th {\n",
              "        text-align: right;\n",
              "    }\n",
              "</style>\n",
              "<table border=\"1\" class=\"dataframe\">\n",
              "  <thead>\n",
              "    <tr style=\"text-align: right;\">\n",
              "      <th></th>\n",
              "      <th>Patient</th>\n",
              "      <th>Weeks</th>\n",
              "      <th>FVC</th>\n",
              "      <th>Percent</th>\n",
              "      <th>Age</th>\n",
              "      <th>Sex</th>\n",
              "      <th>SmokingStatus</th>\n",
              "    </tr>\n",
              "  </thead>\n",
              "  <tbody>\n",
              "    <tr>\n",
              "      <th>0</th>\n",
              "      <td>ID00007637202177411956430</td>\n",
              "      <td>-4</td>\n",
              "      <td>2315</td>\n",
              "      <td>58.253649</td>\n",
              "      <td>79</td>\n",
              "      <td>Male</td>\n",
              "      <td>Ex-smoker</td>\n",
              "    </tr>\n",
              "    <tr>\n",
              "      <th>1</th>\n",
              "      <td>ID00007637202177411956430</td>\n",
              "      <td>5</td>\n",
              "      <td>2214</td>\n",
              "      <td>55.712129</td>\n",
              "      <td>79</td>\n",
              "      <td>Male</td>\n",
              "      <td>Ex-smoker</td>\n",
              "    </tr>\n",
              "    <tr>\n",
              "      <th>2</th>\n",
              "      <td>ID00007637202177411956430</td>\n",
              "      <td>7</td>\n",
              "      <td>2061</td>\n",
              "      <td>51.862104</td>\n",
              "      <td>79</td>\n",
              "      <td>Male</td>\n",
              "      <td>Ex-smoker</td>\n",
              "    </tr>\n",
              "    <tr>\n",
              "      <th>3</th>\n",
              "      <td>ID00007637202177411956430</td>\n",
              "      <td>9</td>\n",
              "      <td>2144</td>\n",
              "      <td>53.950679</td>\n",
              "      <td>79</td>\n",
              "      <td>Male</td>\n",
              "      <td>Ex-smoker</td>\n",
              "    </tr>\n",
              "    <tr>\n",
              "      <th>4</th>\n",
              "      <td>ID00007637202177411956430</td>\n",
              "      <td>11</td>\n",
              "      <td>2069</td>\n",
              "      <td>52.063412</td>\n",
              "      <td>79</td>\n",
              "      <td>Male</td>\n",
              "      <td>Ex-smoker</td>\n",
              "    </tr>\n",
              "  </tbody>\n",
              "</table>\n",
              "</div>"
            ],
            "text/plain": [
              "                     Patient  Weeks   FVC    Percent  Age   Sex SmokingStatus\n",
              "0  ID00007637202177411956430     -4  2315  58.253649   79  Male     Ex-smoker\n",
              "1  ID00007637202177411956430      5  2214  55.712129   79  Male     Ex-smoker\n",
              "2  ID00007637202177411956430      7  2061  51.862104   79  Male     Ex-smoker\n",
              "3  ID00007637202177411956430      9  2144  53.950679   79  Male     Ex-smoker\n",
              "4  ID00007637202177411956430     11  2069  52.063412   79  Male     Ex-smoker"
            ]
          },
          "metadata": {
            "tags": []
          },
          "execution_count": 35
        }
      ]
    },
    {
      "cell_type": "code",
      "metadata": {
        "id": "BSKNVst85JdL",
        "colab": {
          "base_uri": "https://localhost:8080/",
          "height": 34
        },
        "outputId": "526c969d-5994-4c25-d28f-b25bcc1d09ad"
      },
      "source": [
        "train_df['FVC'].max()"
      ],
      "execution_count": null,
      "outputs": [
        {
          "output_type": "execute_result",
          "data": {
            "text/plain": [
              "6399"
            ]
          },
          "metadata": {
            "tags": []
          },
          "execution_count": 36
        }
      ]
    },
    {
      "cell_type": "code",
      "metadata": {
        "id": "nAcveedH4wDG",
        "colab": {
          "base_uri": "https://localhost:8080/",
          "height": 559
        },
        "outputId": "426aa686-76dc-4d38-ac46-59afe515872b"
      },
      "source": [
        "#fvc vs percent \n",
        "import plotly.express as px\n",
        "plt.figure(figsize=(30,20))\n",
        "px.scatter(train_df,x='Percent',y='FVC',color='Age')"
      ],
      "execution_count": null,
      "outputs": [
        {
          "output_type": "display_data",
          "data": {
            "text/html": [
              "<html>\n",
              "<head><meta charset=\"utf-8\" /></head>\n",
              "<body>\n",
              "    <div>\n",
              "            <script src=\"https://cdnjs.cloudflare.com/ajax/libs/mathjax/2.7.5/MathJax.js?config=TeX-AMS-MML_SVG\"></script><script type=\"text/javascript\">if (window.MathJax) {MathJax.Hub.Config({SVG: {font: \"STIX-Web\"}});}</script>\n",
              "                <script type=\"text/javascript\">window.PlotlyConfig = {MathJaxConfig: 'local'};</script>\n",
              "        <script src=\"https://cdn.plot.ly/plotly-latest.min.js\"></script>    \n",
              "            <div id=\"336d02e1-d3aa-4b6e-8e59-e0c8d1105879\" class=\"plotly-graph-div\" style=\"height:525px; width:100%;\"></div>\n",
              "            <script type=\"text/javascript\">\n",
              "                \n",
              "                    window.PLOTLYENV=window.PLOTLYENV || {};\n",
              "                    \n",
              "                if (document.getElementById(\"336d02e1-d3aa-4b6e-8e59-e0c8d1105879\")) {\n",
              "                    Plotly.newPlot(\n",
              "                        '336d02e1-d3aa-4b6e-8e59-e0c8d1105879',\n",
              "                        [{\"hoverlabel\": {\"namelength\": 0}, \"hovertemplate\": \"Percent=%{x}<br>FVC=%{y}<br>Age=%{marker.color}\", \"legendgroup\": \"\", \"marker\": {\"color\": [79, 79, 79, 79, 79, 79, 79, 79, 79, 69, 69, 69, 69, 69, 69, 69, 69, 69, 60, 60, 60, 60, 60, 60, 60, 60, 60, 72, 72, 72, 72, 72, 72, 72, 72, 72, 65, 65, 65, 65, 65, 65, 65, 65, 65, 56, 56, 56, 56, 56, 56, 56, 56, 56, 71, 71, 71, 71, 71, 71, 71, 71, 83, 83, 83, 83, 83, 83, 83, 83, 83, 66, 66, 66, 66, 66, 66, 66, 66, 66, 71, 71, 71, 71, 71, 71, 71, 71, 71, 65, 65, 65, 65, 65, 65, 65, 65, 65, 57, 57, 57, 57, 57, 57, 57, 57, 57, 73, 73, 73, 73, 73, 73, 73, 73, 73, 69, 69, 69, 69, 69, 69, 69, 69, 63, 63, 63, 63, 63, 63, 63, 63, 63, 69, 69, 69, 69, 69, 69, 69, 69, 69, 71, 71, 71, 71, 71, 71, 71, 71, 71, 58, 58, 58, 58, 58, 58, 58, 58, 58, 68, 68, 68, 68, 68, 68, 70, 70, 70, 70, 70, 70, 70, 70, 70, 73, 73, 73, 73, 73, 73, 73, 73, 73, 54, 54, 54, 54, 54, 54, 54, 63, 63, 63, 63, 63, 63, 63, 63, 63, 68, 68, 68, 68, 68, 68, 68, 68, 68, 74, 74, 74, 74, 74, 74, 74, 74, 74, 64, 64, 64, 64, 64, 64, 64, 64, 73, 73, 73, 73, 73, 73, 73, 73, 73, 71, 71, 71, 71, 71, 71, 71, 71, 71, 69, 69, 69, 69, 69, 69, 69, 69, 52, 52, 52, 52, 52, 52, 52, 52, 52, 51, 51, 51, 51, 51, 51, 51, 51, 51, 70, 70, 70, 70, 70, 70, 70, 70, 70, 55, 55, 55, 55, 55, 55, 55, 55, 55, 49, 49, 49, 49, 49, 49, 49, 49, 49, 65, 65, 65, 65, 65, 65, 65, 65, 65, 63, 63, 63, 63, 63, 63, 63, 63, 63, 69, 69, 69, 69, 69, 69, 69, 69, 69, 69, 69, 69, 69, 69, 69, 69, 69, 64, 64, 64, 64, 64, 64, 64, 64, 64, 68, 68, 68, 68, 68, 68, 68, 68, 68, 68, 60, 60, 60, 60, 60, 60, 60, 60, 60, 74, 74, 74, 74, 74, 74, 74, 74, 64, 64, 64, 64, 64, 64, 64, 64, 64, 64, 73, 73, 73, 73, 73, 73, 73, 73, 73, 73, 73, 73, 73, 73, 73, 73, 73, 73, 74, 74, 74, 74, 74, 74, 74, 74, 72, 72, 72, 72, 72, 72, 72, 77, 77, 77, 77, 77, 77, 77, 77, 68, 68, 68, 68, 68, 68, 68, 68, 68, 57, 57, 57, 57, 57, 57, 57, 57, 57, 57, 58, 58, 58, 58, 58, 58, 58, 58, 58, 69, 69, 69, 69, 69, 69, 69, 69, 69, 60, 60, 60, 60, 60, 60, 60, 60, 60, 65, 65, 65, 65, 65, 65, 65, 65, 78, 78, 78, 78, 78, 78, 78, 78, 78, 55, 55, 55, 55, 55, 55, 55, 55, 55, 87, 87, 87, 87, 87, 87, 87, 71, 71, 71, 71, 71, 71, 71, 71, 71, 65, 65, 65, 65, 65, 65, 65, 65, 65, 61, 61, 61, 61, 61, 61, 61, 61, 61, 69, 69, 69, 69, 69, 69, 69, 69, 69, 83, 83, 83, 83, 83, 83, 83, 83, 83, 67, 67, 67, 67, 67, 67, 67, 67, 67, 65, 65, 65, 65, 65, 65, 65, 65, 65, 64, 64, 64, 64, 64, 64, 64, 64, 64, 66, 66, 66, 66, 66, 66, 66, 66, 66, 76, 76, 76, 76, 76, 76, 76, 76, 76, 58, 58, 58, 58, 58, 58, 58, 58, 58, 58, 66, 66, 66, 66, 66, 66, 66, 66, 66, 63, 63, 63, 63, 63, 63, 63, 63, 63, 54, 54, 54, 54, 54, 54, 54, 54, 54, 58, 58, 58, 58, 58, 58, 58, 58, 58, 58, 62, 62, 62, 62, 62, 62, 62, 62, 62, 66, 66, 66, 66, 66, 66, 66, 66, 66, 79, 79, 79, 79, 79, 79, 79, 79, 79, 73, 73, 73, 73, 73, 73, 73, 73, 73, 73, 73, 73, 73, 73, 73, 73, 73, 73, 68, 68, 68, 68, 68, 68, 68, 68, 68, 71, 71, 71, 71, 71, 71, 71, 71, 71, 52, 52, 52, 52, 52, 52, 52, 52, 52, 69, 69, 69, 69, 69, 69, 69, 69, 69, 69, 69, 69, 69, 69, 69, 69, 56, 56, 56, 56, 56, 56, 56, 56, 56, 65, 65, 65, 65, 65, 65, 65, 65, 65, 65, 65, 65, 65, 65, 65, 65, 65, 65, 62, 62, 62, 62, 62, 62, 62, 62, 62, 64, 64, 64, 64, 64, 64, 64, 64, 64, 67, 67, 67, 67, 67, 67, 67, 67, 67, 76, 76, 76, 76, 76, 76, 76, 76, 76, 70, 70, 70, 70, 70, 70, 70, 70, 70, 69, 69, 69, 69, 69, 69, 69, 69, 69, 65, 65, 65, 65, 65, 65, 65, 65, 65, 81, 81, 81, 81, 81, 81, 81, 81, 81, 71, 71, 71, 71, 71, 71, 71, 71, 71, 76, 76, 76, 76, 76, 76, 76, 76, 76, 70, 70, 70, 70, 70, 70, 70, 70, 70, 72, 72, 72, 72, 72, 72, 72, 72, 72, 77, 77, 77, 77, 77, 77, 77, 77, 58, 58, 58, 58, 58, 58, 58, 58, 58, 71, 71, 71, 71, 71, 71, 71, 71, 71, 71, 74, 74, 74, 74, 74, 74, 74, 74, 74, 68, 68, 68, 68, 68, 68, 68, 68, 68, 66, 66, 66, 66, 66, 66, 66, 66, 67, 67, 67, 67, 67, 67, 67, 67, 67, 63, 63, 63, 63, 63, 63, 63, 63, 63, 66, 66, 66, 66, 66, 66, 66, 66, 66, 64, 64, 64, 64, 64, 64, 64, 64, 64, 71, 71, 71, 71, 71, 71, 71, 71, 71, 56, 56, 56, 56, 56, 56, 56, 56, 88, 88, 88, 88, 88, 88, 88, 88, 88, 62, 62, 62, 62, 62, 62, 62, 62, 76, 76, 76, 76, 76, 76, 76, 76, 70, 70, 70, 70, 70, 70, 60, 60, 60, 60, 60, 60, 60, 60, 60, 62, 62, 62, 62, 62, 62, 62, 62, 62, 77, 77, 77, 77, 77, 77, 77, 70, 70, 70, 70, 70, 70, 70, 70, 70, 60, 60, 60, 60, 60, 60, 60, 60, 60, 61, 61, 61, 61, 61, 61, 61, 61, 61, 63, 63, 63, 63, 63, 63, 63, 63, 75, 75, 75, 75, 75, 75, 75, 75, 72, 72, 72, 72, 72, 72, 72, 72, 72, 74, 74, 74, 74, 74, 74, 74, 74, 74, 58, 58, 58, 58, 58, 58, 58, 58, 67, 67, 67, 67, 67, 67, 67, 67, 67, 78, 78, 78, 78, 78, 78, 78, 78, 78, 62, 62, 62, 62, 62, 62, 62, 62, 62, 65, 65, 65, 65, 65, 65, 65, 65, 65, 73, 73, 73, 73, 73, 73, 73, 73, 73, 72, 72, 72, 72, 72, 72, 72, 72, 72, 64, 64, 64, 64, 64, 64, 64, 64, 72, 72, 72, 72, 72, 72, 72, 72, 72, 59, 59, 59, 59, 59, 59, 59, 59, 59, 77, 77, 77, 77, 77, 77, 77, 77, 69, 69, 69, 69, 69, 69, 69, 69, 69, 69, 69, 69, 69, 69, 69, 69, 69, 69, 74, 74, 74, 74, 74, 74, 74, 74, 74, 56, 56, 56, 56, 56, 56, 56, 56, 69, 69, 69, 69, 69, 69, 69, 69, 69, 64, 64, 64, 64, 64, 64, 64, 64, 64, 68, 68, 68, 68, 68, 68, 68, 68, 68, 68, 68, 68, 68, 68, 68, 68, 68, 68, 72, 72, 72, 72, 72, 72, 72, 72, 72, 68, 68, 68, 68, 68, 68, 68, 68, 68, 68, 58, 58, 58, 58, 58, 58, 58, 78, 78, 78, 78, 78, 78, 78, 78, 78, 65, 65, 65, 65, 65, 65, 65, 65, 65, 65, 65, 65, 65, 65, 65, 65, 65, 79, 79, 79, 79, 79, 79, 79, 79, 79, 64, 64, 64, 64, 64, 64, 64, 64, 64, 71, 71, 71, 71, 71, 71, 71, 71, 57, 57, 57, 57, 57, 57, 57, 57, 57, 65, 65, 65, 65, 65, 65, 65, 65, 65, 75, 75, 75, 75, 75, 75, 75, 75, 75, 71, 71, 71, 71, 71, 71, 71, 71, 71, 72, 72, 72, 72, 72, 72, 72, 72, 72, 56, 56, 56, 56, 56, 56, 56, 56, 56, 62, 62, 62, 62, 62, 62, 62, 64, 64, 64, 64, 64, 64, 64, 64, 64, 53, 53, 53, 53, 53, 53, 53, 53, 53, 53, 66, 66, 66, 66, 66, 66, 66, 66, 66, 67, 67, 67, 67, 67, 67, 67, 67, 67, 70, 70, 70, 70, 70, 70, 70, 70, 55, 55, 55, 55, 55, 55, 55, 55, 55, 55, 74, 74, 74, 74, 74, 74, 74, 74, 74, 61, 61, 61, 61, 61, 61, 61, 61, 61, 66, 66, 66, 66, 66, 66, 66, 66, 66, 74, 74, 74, 74, 74, 74, 74, 74, 65, 65, 65, 65, 65, 65, 65, 65, 65, 65, 65, 65, 65, 65, 65, 65, 65, 65, 66, 66, 66, 66, 66, 66, 66, 66, 66, 73, 73, 73, 73, 73, 73, 73, 73, 73, 68, 68, 68, 68, 68, 68, 68, 68, 68, 68, 73, 73, 73, 73, 73, 73, 73, 73, 72, 72, 72, 72, 72, 72, 72, 72, 72, 73, 73, 73, 73, 73, 73, 73, 73, 73], \"coloraxis\": \"coloraxis\", \"symbol\": \"circle\"}, \"mode\": \"markers\", \"name\": \"\", \"showlegend\": false, \"type\": \"scattergl\", \"x\": [58.2536487166583, 55.7121288374434, 51.862103673880206, 53.950679416205304, 52.0634121791646, 52.868646200302, 50.3271263210871, 51.9375943633618, 51.761449421238005, 85.28287818063191, 84.11781153881999, 90.7586913971479, 87.58971013141951, 84.7935501910709, 83.3721688880604, 84.4673315313636, 78.9915183148476, 74.8904837356697, 94.72467197246719, 90.6915465691547, 89.4547214454722, 80.47429554742959, 81.4691331469133, 83.43192084319209, 80.47429554742959, 66.5196816519682, 67.7027317702732, 85.9875904860393, 88.3919338159255, 91.54601861427089, 90.5377456049638, 88.15925542916241, 89.89141675284391, 84.5139607032058, 86.50465356773529, 82.5491209927611, 93.7260063617418, 103.07666995722299, 89.832181638697, 94.4115388834046, 89.6128112317648, 94.5760666886037, 91.1484040802896, 88.5982230997039, 81.46868487441041, 90.076660988075, 92.206132879046, 85.53378762067008, 89.5797842135151, 88.869960249858, 76.61366647738029, 76.21143289797459, 81.3694870338823, 71.62123793299259, 78.64529472595659, 80.6618407445708, 74.7156153050672, 68.9503619441572, 76.7321613236815, 69.7259565667011, 69.3381592554292, 66.8304033092037, 92.8587220871103, 90.515144815388, 88.48109661728941, 90.8246738890117, 88.5253150563785, 93.56621711253591, 86.0490824673889, 79.94693787309309, 78.62038470042009, 117.77071369975401, 109.977440525021, 115.10459392944999, 115.36095159967199, 107.46513535685, 108.439294503692, 105.516817063167, 99.4667760459393, 95.4163248564397, 65.3061224489796, 58.163265306122504, 57.865646258503396, 62.28741496598639, 71.4710884353742, 62.1173469387755, 56.8452380952381, 55.4421768707483, 59.7789115646259, 73.7775744637593, 80.28362305580971, 83.2825048287079, 77.3101555352242, 83.2825048287079, 78.42838263698279, 73.1930466605672, 71.4394632509912, 64.3743011080614, 79.57179119302509, 76.3160799028805, 82.9654563513961, 82.2480962366185, 79.13033881470041, 80.4822867233197, 82.8275024831697, 77.06103079130341, 74.4950888422912, 64.3414888079125, 72.7485684539302, 71.5773034877668, 70.1978136387298, 75.1431546069755, 66.2935970848516, 66.7360749609578, 66.0853722019781, 61.8948464341489, 59.18752952290979, 60.486537553141204, 56.40056683986771, 63.6277751535191, 61.289560699102495, 60.273972602739704, 54.9834671705243, 56.1643835616438, 119.629137816561, 114.41240633595699, 115.621739542825, 110.61841980461, 112.705112396851, 106.397609788485, 110.95039362610301, 112.46798823864201, 91.1979512472731, 74.5762711864407, 71.15910333515579, 72.0065609622745, 72.9360306178239, 73.37342810278841, 76.1891744122471, 65.36358665937671, 60.005467468562095, 62.1104428649535, 97.0296055867021, 96.02144191993709, 93.1198977082719, 98.06235861119309, 98.3574309039048, 94.20182944821491, 94.5706698141045, 95.3575292613357, 95.80013770040328, 103.69256017505501, 97.2374179431072, 96.1159737417943, 94.3927789934355, 99.17943107221011, 96.1433260393873, 100.629102844639, 108.34245076586399, 93.84573304157551, 89.92942453854499, 87.8121606948969, 91.4766558089034, 84.93485342019541, 87.8393051031487, 81.75895765472309, 60.0594042107102, 64.5147200139775, 61.107713811478995, 63.2043330130165, 64.0342447802918, 62.9422556128243, 61.762907311959495, 60.5835590110946, 59.8410063772168, 81.6454173682945, 75.4871301419293, 85.44623526581671, 82.65576136636999, 80.9237430839548, 78.1332691845081, 77.7483762328603, 73.1296608130864, 73.70700024055809, 58.969863532979495, 59.7517058377559, 59.63324488248671, 54.3025018953753, 53.33112206216829, 57.7141774071266, 43.7831690674754, 85.34347142108021, 88.3586785527006, 89.6171997902465, 86.10382800209749, 79.9685369690614, 82.1971683272155, 86.31358154168849, 80.33560566334559, 75.7734661772417, 108.501913613997, 68.6440677966102, 113.01257517769301, 110.00546746856199, 110.524876981957, 110.66156369600901, 112.84855112083099, 106.67031164570801, 111.78239475123002, 76.4553429027113, 77.61828814460391, 77.78442317916, 71.70388091440721, 75.09303561935141, 73.498139287613, 74.39526847421591, 72.1690590111643, 68.8131313131313, 91.2354804646251, 86.98521647307291, 90.28511087645201, 95.2481520591341, 88.78035902851109, 90.0211193241816, 85.9556494192186, 85.26927138331571, 82.63338459718442, 83.6093694546315, 82.3376316100793, 81.0363184668165, 83.37276706494741, 76.65917425766, 72.7256595291613, 77.6647344138176, 73.22843960724, 72.3530855109803, 72.291743344375, 72.8744939271255, 72.1383879278617, 74.03999509262671, 70.7888602625445, 68.4885290148448, 72.26107226107229, 68.9179241810821, 70.74213976224871, 66.9092323075214, 65.57604710587711, 65.38162426397069, 66.93700699922229, 65.3538495722698, 59.16009332296411, 47.4669481168759, 67.0534875168553, 62.967351775425996, 62.4770154864545, 65.9093695092551, 65.9910922240837, 66.317983083398, 60.0253340415969, 52.9563192089241, 48.42070853593761, 52.749977045266704, 59.131392893214596, 50.0872279864108, 54.49453677348271, 54.4027178404187, 56.927738499678604, 61.5875493526765, 66.8900927371224, 65.4898540078964, 82.07332228666121, 80.8046810273405, 83.44552609776309, 87.5103562551781, 84.2740265120133, 87.7951532725766, 90.7207953603977, 87.45857497928749, 87.7951532725766, 68.2894591915409, 69.7947644747953, 66.93101296031139, 66.0498586481624, 64.360979549877, 65.3522781510445, 64.7281271799391, 63.0759628446598, 50.8499467635936, 99.79480164158691, 101.060191518468, 98.25581395348841, 101.333789329685, 98.66621067031471, 97.02462380300959, 101.744186046512, 101.12859097127199, 98.3242134062928, 117.62856344326401, 115.392677473449, 119.61989938513099, 120.24874231414199, 121.78591391839, 107.46226942425899, 117.069591950811, 120.91252096143101, 116.23113471213001, 57.967624216337605, 59.39459155983911, 60.1431645924956, 58.7395901562646, 53.7335080003743, 52.4235051932254, 48.5636754935904, 47.510994666417204, 44.8675961448489, 95.0576430401367, 80.7002561912895, 78.9389410760034, 79.2324935952178, 79.57941929974379, 76.7773270708796, 78.67207514944491, 77.57792485055509, 84.95815322358129, 82.084061436586, 88.1541432907201, 87.23443391888159, 82.5899015910972, 62.724179159385606, 79.89975167846958, 88.3150924307919, 84.33734939759029, 117.29337659858801, 114.501813323153, 113.0463828975, 115.861805688108, 111.94884519946599, 113.475854170643, 113.404275625119, 109.133422408857, 113.38041610994499, 82.2125084061869, 80.30710603003809, 85.8832100425913, 86.55570499887921, 84.2019726518718, 84.0898901591571, 77.5891055817081, 75.8798475678099, 80.19502353732351, 79.3824254651423, 68.6437943643794, 67.48763174876319, 61.6799311679931, 64.53000645300071, 57.35104323510429, 44.3912669391267, 59.0449559044956, 62.8092062809206, 64.6375564637557, 68.4935454126326, 67.3985707699401, 67.6002766251729, 68.608805901337, 63.479714153988, 60.194790225910594, 58.66758875057629, 49.9366067312125, 66.4539995710916, 64.2826506540854, 65.0600471799271, 68.2768603903067, 67.6334977482308, 66.5612266781042, 64.30945743083849, 62.245335620845005, 59.96675959682611, 55.650868539566794, 82.5963718820862, 79.2233560090703, 79.59183673469391, 76.7290249433107, 76.13378684807259, 80.7823129251701, 75.59523809523809, 74.8582766439909, 74.00793650793649, 53.956272774596606, 55.7522123893805, 59.1879229567933, 56.897449245184795, 59.0577824049974, 57.9906298802707, 60.567412805830294, 54.9713690786049, 44.8984903695992, 62.6885369532429, 59.2006033182504, 56.7496229260935, 52.350427350427395, 41.352438411262, 34.0937657114128, 29.4746103569633, 28.877576671694303, 68.9505887785731, 69.8164396213346, 69.268067420919, 62.947356268760096, 65.6603555760794, 64.5058877857308, 60.1189101824059, 77.74929818137441, 76.559257903088, 77.59672891492741, 73.2027340412547, 76.4982301965092, 65.7878676919321, 65.1165629195655, 74.6368851458562, 79.614549402823, 81.46036916395221, 78.82736156351791, 76.87296416938109, 77.79587404994571, 75.6786102062975, 82.0304017372421, 79.0445168295331, 82.4375678610206, 66.7017287112412, 65.1925363578158, 66.4273301015275, 66.0614652885759, 67.7993231500961, 67.4563248879539, 65.9928656361474, 66.2901307966706, 68.4624531235708, 66.49592975395589, 69.50129254631621, 65.35437311503661, 64.73502800517021, 62.8769926755709, 61.3690219732874, 60.6958207669108, 57.7875915553641, 58.02994398965961, 56.3065489013356, 57.8978314253104, 57.8978314253104, 61.0797910974302, 58.3474561615882, 54.8542178258915, 50.288797426763104, 48.628644554352704, 51.3263929720195, 54.1624874623872, 88.8151327610301, 89.5138750249551, 86.2946695947295, 90.18766220802559, 91.3605510081853, 90.0878418846077, 86.19484927131158, 83.59952086244759, 78.50868436813741, 53.757781032588795, 59.1358476748444, 53.483156352984295, 53.322958623215, 53.094104723544504, 47.899121201025295, 46.38868546320029, 42.841450018308294, 59.375, 57.025, 56.9, 57.375, 56.125, 55.675, 57.9, 57.675, 61.375, 65.8550952287454, 69.9391321421559, 69.62497545650889, 69.5464362850972, 65.4623993716866, 64.51992931474571, 62.20302375809939, 60.2002748871, 60.907127429805605, 96.9263010827803, 99.283967865875, 94.9179182675516, 95.74746769123301, 97.84317149842829, 91.7743625567587, 88.36884387006641, 59.622102254684, 57.79612575420771, 59.145760558907604, 61.73917645813479, 59.9661268127448, 61.368688472531005, 59.0134434211919, 57.0022229279136, 56.4729543770509, 69.852029428784, 68.1160618335125, 65.5947755641895, 62.122840373646405, 63.5281474745805, 59.353558733570296, 57.5349260147144, 55.840290981235, 49.4750764652393, 69.49202105439049, 71.1630044281059, 68.76096582839001, 70.34840003341971, 70.2648508647339, 67.38240454507479, 68.384994569304, 67.00643328598879, 62.453003592614294, 60.1640413831671, 60.909684033926794, 63.9155559698015, 62.307764004101, 60.094137384658396, 60.769876036909295, 60.3038493801846, 61.282505359306604, 60.443657377201994, 92.85631248546851, 93.0888165542897, 90.0081376424087, 92.1588002790049, 90.53127179725641, 90.24064171122991, 88.2062311090444, 88.6712392466868, 88.14810509183908, 67.7088698877099, 70.28433089523021, 67.1165138559802, 66.1378386731225, 65.9318017925209, 68.8935819511693, 62.1973833316164, 54.3937364788297, 57.4842896878541, 106.09606597570499, 112.44845648055299, 113.869385935585, 107.79560904937, 108.82647943831499, 105.31594784353099, 109.355845313719, 108.854340800178, 108.687172628998, 93.2354634427173, 97.5820379965458, 95.68221070811751, 95.1352907311457, 94.300518134715, 97.1790443293034, 94.3580886586068, 96.77605066206101, 92.0264824409902, 108.95825280247401, 107.33958252802499, 104.82701971395399, 104.46463084653999, 102.604367993815, 101.372245844608, 104.36799381523001, 103.08755315036699, 100.28507924236601, 100.77045696068001, 99.41551540913919, 104.03825717321999, 109.72369819341101, 107.59829968119, 104.914984059511, 107.890541976621, 101.886291179596, 94.7927736450584, 90.09087731562391, 86.96696959105209, 89.39182104159391, 91.77298147500879, 90.22195036700458, 86.79220552254459, 84.43289059769309, 84.14889898636841, 88.5180006990563, 89.32628451590358, 130.82191780821898, 130.58017727639, 129.975825946817, 127.155519742143, 127.31668009669599, 119.460112812248, 125.100725221596, 118.93634165995199, 108.219178082192, 68.29983652274261, 67.4584094624483, 66.977593999423, 70.77603615732279, 72.53101259736509, 69.7422829118185, 67.5305317819021, 69.6461198192134, 67.7468987402635, 53.80362444967749, 53.80362444967749, 55.59537217159821, 54.6739019146104, 52.9077505887171, 55.313811815296404, 58.769325279000704, 54.4947271424183, 55.9025289239275, 92.6633084172896, 97.3147546311342, 95.0601234969126, 94.14608384790381, 94.69450763730909, 91.3227169320767, 92.15550861228469, 89.8602534936627, 87.09782255443609, 76.0480987975301, 79.3959330143541, 77.12818979266349, 78.3243620414673, 74.58632376395529, 75.7824960127592, 74.13775917065391, 71.24700956937801, 68.8297448165869, 67.5588118022329, 106.445890005914, 104.50283010898, 103.99594491847601, 105.009715299485, 104.756272704233, 106.741573033708, 105.009715299485, 104.376108811354, 95.5900988426122, 91.884328358209, 115.391791044776, 102.84514925373101, 96.22201492537322, 100.51305970149299, 94.21641791044779, 105.97014925373101, 109.048507462687, 111.380597014925, 70.9418946909408, 73.9943311893601, 74.675678622043, 74.9209636978088, 77.2102910716232, 77.1285293797013, 75.54780333587699, 76.3381663577892, 71.48697263708709, 77.003605909038, 79.3299988368035, 83.1976270792137, 84.01186460393158, 82.5869489356752, 78.4285215772944, 77.7887635221589, 74.90985227404909, 74.5318134232872, 85.69719753930279, 84.1307814992026, 88.3458646616542, 84.3586238323081, 86.9788106630212, 86.8364092048303, 81.6245158350422, 78.6340852130326, 81.453634085213, 70.46589018302832, 65.3910149750416, 65.16916250693289, 65.0582362728785, 67.3044925124792, 67.9145867997782, 70.35496394897389, 68.2473655019412, 66.36161952301721, 67.3118279569892, 63.7634408602151, 68.752688172043, 59.3763440860215, 64.7096774193548, 68.27956989247309, 64.9677419354839, 64.3225806451613, 58.989247311828, 77.3304026376262, 69.4624837646119, 70.5864721750425, 68.9129783195125, 64.7167549205715, 60.6454191227895, 52.927365371166, 112.01315652083099, 117.155685496502, 117.207893912499, 115.485016184609, 112.430823848804, 113.031220632766, 108.828443145035, 109.454944136995, 116.45087188054701, 56.279312141740505, 62.825690463783204, 61.034392912975505, 59.6339239187077, 58.070609692548196, 59.568785825951004, 60.2527357998958, 53.8366336633663, 51.068264721209005, 89.9215026633025, 88.7533875338753, 90.4354733202504, 91.1830670030838, 91.81384917297449, 101.859639286048, 89.0337351649379, 88.5898514157555, 90.08503878142228, 73.79053694843171, 63.795853269537496, 51.834130781499205, 58.2668793195109, 62.73258904837849, 51.5948963317384, 90.35087719298251, 61.45667198298779, 87.2674109516215, 64.7286821705426, 64.9951550387597, 69.47674418604649, 71.43895348837209, 70.421511627907, 65.0678294573643, 68.6046511627907, 68.8953488372093, 69.9854651162791, 107.281505076647, 106.48516822616, 107.405932709536, 104.145928727852, 100.26378658172399, 101.831574756122, 100.537527374079, 90.60820226956, 90.7326299024487, 65.6022501654534, 75.0606662254578, 75.4191484667991, 80.63092874476071, 78.01125082726671, 77.37701301566291, 74.3437017427752, 69.5455548202074, 69.6558570483124, 80.54109123839709, 80.9372877518678, 78.47520941815709, 78.6733076748925, 79.494000452796, 80.28639347973741, 80.48449173647279, 80.5127914874349, 80.71088974417029, 83.5627753303965, 92.9515418502203, 84.16850220264321, 86.068281938326, 88.65638766519821, 85.0770925110132, 81.8281938325991, 90.5561674008811, 83.06718061674009, 83.70288248337029, 83.2360835570078, 84.95740459796941, 85.4533784572295, 84.1988563426304, 83.644532617575, 82.53588516746409, 83.84875714785849, 81.42723771735321, 70.65390749601279, 60.8452950558214, 57.3365231259968, 53.083466241360995, 56.087187666134994, 58.346624136097795, 64.4338118022329, 55.31632110579479, 55.9542796384902, 78.94225789746241, 82.53495598135679, 83.82962195753491, 82.9880890730192, 83.5706887622993, 81.79052304505441, 93.4748834800621, 90.69135163127909, 84.1532884515795, 153.012912482066, 135.77235772357702, 141.319942611191, 137.230989956958, 137.80487804878, 139.74175035868, 134.218077474892, 140.961262553802, 137.92443806791002, 75.016063396873, 75.81923324052259, 76.2475904904691, 73.7309916470337, 77.63975155279509, 81.8697793960163, 77.96101949025491, 74.48061683444, 68.8048832726494, 62.8326996197719, 55.7271863117871, 59.2205323193916, 60.361216730038, 60.575095057034204, 61.2880228136882, 56.3450570342205, 56.6539923954373, 55.0380228136882, 64.0082149580695, 56.4136573677905, 56.5420160876262, 57.8683895259285, 57.312168406640396, 51.0867704946089, 58.23207256546289, 56.8201266472702, 60.1574533629985, 80.1721954925298, 50.696378830083596, 50.4937958976956, 52.2157508229932, 49.07571537097999, 49.328944036464996, 41.8840212712079, 41.9346670043049, 85.57679211876341, 86.4847686929677, 86.4847686929677, 89.5264902165524, 84.03323194261591, 76.8602170064012, 83.21605302583201, 75.22585917283341, 75.45285331638449, 78.7024608501119, 78.9932885906041, 76.1073825503356, 79.17225950783, 81.63310961968679, 80.60402684563759, 78.0536912751678, 76.2863534675615, 75.05592841163309, 74.765100671141, 115.431128310558, 119.542870963841, 126.677953803362, 111.319385657274, 109.021647115734, 104.72850405127599, 126.677953803362, 109.626315152981, 111.561252872173, 100.78437565803301, 91.2560539060855, 93.8092229943146, 94.0724363023795, 94.9936828806064, 96.9941040218993, 90.2558433354391, 85.5969677826911, 94.23036428721839, 57.445868316394204, 55.84401237295629, 48.8566062748564, 55.2916482545294, 48.49756959787889, 55.457357490057404, 51.038444542642495, 52.391736632788295, 53.8795357105511, 55.6572205374882, 54.7683781240197, 55.997072048520295, 55.4219387221583, 57.121196277318795, 55.5265084178605, 56.9643417337656, 59.0034507999582, 78.4216046145779, 82.1185107498689, 75.301520713162, 73.5972732039853, 72.86313581541691, 71.1326691137913, 65.6266386995281, 72.41740954378609, 72.9417933927635, 78.8969095420708, 76.9794721407625, 76.0771486577938, 77.4306338822468, 75.06203473945409, 75.79517256936609, 74.04692082111441, 72.749830814347, 66.9975186104218, 54.7447411959348, 50.667690853226205, 53.9175135901678, 56.6650909950366, 52.7357598676436, 54.449302765303706, 48.18600803592529, 48.570077995745706, 52.0267076341291, 79.55469385202329, 92.62618049909321, 82.3065857777222, 83.4323597473263, 86.55950966289329, 86.55950966289329, 79.17943586215529, 89.0612295953469, 90.1244605666396, 92.0739986422268, 91.81941615750169, 91.73455532926, 89.8110432224485, 87.7460964019009, 66.0217243720299, 60.5057705363205, 61.1280832767595, 62.18532725965, 62.9345480700072, 61.885638935507096, 61.885638935507096, 58.049628386478005, 61.1064492927355, 60.71685447134979, 51.3965475905059, 54.1836490050348, 64.88708070408511, 65.7588840916639, 68.37429425440061, 62.1886416472933, 61.7319827299901, 54.6745267353039, 54.591497841248795, 66.7137163732979, 114.647420728822, 116.362991008045, 119.380028395646, 132.45385707524798, 122.10127780407, 114.23331755797399, 120.918125887364, 119.55750118315201, 50.158134018580796, 52.6289780589049, 50.355801541806706, 50.9488041114845, 46.2047835540621, 42.7456018976082, 79.9618724846431, 75.7254818894302, 75.38127515356909, 71.700910823978, 74.0574030925651, 75.328320271129, 77.0758313916543, 76.4138953611523, 78.4261808938784, 82.6807647970744, 75.6449497157849, 84.7875342846922, 86.1390467861828, 81.249751560202, 79.0634813372024, 78.1094725126208, 58.8702945502246, 65.5086059546051, 87.14798608773701, 80.7528329406485, 79.3223381577471, 81.5662515426905, 84.2028497699989, 76.23695725345, 76.79793559968591, 90.9390372452565, 91.51001405481381, 89.7312016865777, 88.633169360506, 90.4998243148278, 89.79708362614201, 87.3594518622628, 88.85277582572029, 83.36261419536191, 54.52275249722529, 51.4428412874584, 54.3007769145394, 54.578246392896794, 58.518312985571605, 54.2452830188679, 53.4128745837958, 55.9100998890122, 55.049944506104296, 66.4093754412388, 62.832399868216704, 60.4320609968466, 64.5267567185956, 60.055537252318004, 71.91603520497009, 68.0096013554855, 67.6801430790229, 61.3733703581682, 78.7979504223792, 73.4662789087384, 68.2038498822878, 70.17726076720679, 72.9815814984075, 81.8792411023404, 81.70613488436508, 82.640908461432, 67.4087634345104, 64.2199126018661, 68.3536081256643, 67.910712176686, 62.0940120467698, 68.3240817290658, 63.0388567379237, 53.5608834297862, 100.25242526232401, 99.65848346862009, 100.945357354979, 98.0498911106712, 100.054444664423, 95.03068699267469, 99.0150465254405, 89.5367254009107, 88.6210651356167, 78.8279132791328, 79.979674796748, 76.0162601626016, 77.4390243902439, 73.6449864498645, 69.7154471544716, 70.96883468834692, 72.62872628726291, 69.95257452574529, 66.0035629453682, 62.3218527315915, 67.04275534441811, 63.2422802850356, 64.2220902612827, 59.085510688836095, 65.6175771971497, 64.3111638954869, 107.600732600733, 102.564102564103, 105.36858974359001, 108.17307692307699, 103.19368131868099, 110.57692307692301, 100.16025641025601, 91.34615384615391, 80.64331501831501, 77.1735948477752, 79.84484777517571, 84.0529859484778, 83.90661592505859, 85.1873536299766, 63.7075526932084, 72.8922716627635, 78.34455503512879, 77.7956674473068, 78.8917089678511, 77.6755499153977, 73.3925549915398, 71.5947546531303, 73.6304991539763, 74.47652284263958, 77.75486463620979, 71.75338409475471, 67.549703891709, 81.76003301351491, 83.74600226967921, 84.9066336531518, 82.61116269472821, 81.6568657794285, 80.1093572681317, 73.0939853502528, 71.2369751366966, 74.3577839678118, 83.0854446609909, 81.6493999384552, 81.54682531541701, 79.4696891988922, 89.7271515027182, 79.956918658324, 75.05898040824701, 72.5202584880501, 81.7263309057339, 97.4939033881596, 96.50806828205259, 90.5411715871946, 91.5788927515177, 91.5788927515177, 99.5693457168059, 90.3336273543299, 83.64032584444558, 81.5129974575832, 57.45597058254311, 55.7625314495839, 54.7464679698084, 56.246371201858, 55.0851557964002, 52.56918908457521, 39.98935552545, 45.021288949100104, 121.595444940127, 86.6107067386711, 125.821789152383, 121.595444940127, 123.20967363230801, 125.586992251702, 124.383658135713, 124.64780464897899, 123.79666588401001, 60.134936931651495, 63.606140608193996, 63.3372445487435, 63.190573970861394, 68.3240441967341, 60.0371565463968, 57.6170920113425, 56.4926175809133, 56.8348489293048, 59.148793565683604, 68.8672922252011, 64.9296246648793, 65.39041554959779, 76.1561662198391, 71.50636729222519, 66.2282171581769, 73.7265415549598, 66.2494095418044, 67.2649976381672, 61.8327822390175, 67.0288143599433, 66.8398677373642, 65.3991497401984, 72.0595181861124, 64.5725082664147, 63.2262635805385, 94.64436662238859, 90.14611761864509, 89.512136215433, 95.912329428813, 98.78034053858231, 94.64436662238859, 97.57275691341628, 95.1877792537133, 97.24067141649559, 82.22546476437529, 72.7950713359274, 69.6335927367056, 70.9576307825335, 69.0931690445309, 71.9574146130566, 70.20103761348899, 67.6880674448768, 66.6612624297449, 65.2295348364818, 64.7217144017875, 65.0264066626041, 65.2549258582166, 64.5439772496446, 64.6201503148487, 63.6045094454601, 58.2470038594353, 96.1202291929688, 99.4464407108867, 95.877440031077, 94.1050791492668, 94.2507526464019, 94.78488880256391, 88.0110711857823, 95.68320870156359, 98.5238418956978, 81.897341888176, 81.6911090742438, 78.96425297891841, 77.7956003666361, 78.3913840513291, 79.147571035747, 75.5957836846929, 74.56461961503209, 68.0109990834097, 59.0382678751259, 57.779456193353504, 59.0634441087613, 57.301107754280004, 56.44511581067471, 56.72205438066461, 54.380664652567994, 50.3524672708963, 55.941591137965794, 143.381982888777, 143.482637141419, 140.815299446402, 143.633618520383, 145.495722194263, 139.557121288374, 144.489179667841, 141.57020634121798, 135.933568193256, 67.8514649102885, 65.9209629797865, 65.438337497161, 60.0726777197366, 57.8014989779696, 58.5396320690439, 52.9468544174427, 54.7354076765842, 53.968884851237796, 71.2637673588438, 70.65430325192641, 67.1281180619041, 65.60445779461061, 69.7401070915502, 66.1703887510339, 60.206347133342, 64.95146053719911, 73.962822689478, 65.778590396587, 53.95946510656079, 54.1684078562474, 53.0714584203928, 51.8961554534058, 52.758044295862895, 51.0342666109486, 47.32553280401171, 82.0093457943925, 71.2908878504673, 74.9707943925234, 81.4252336448598, 72.13785046728971, 72.28387850467291, 76.7231308411215, 78.67990654205609, 78.5630841121495, 141.22235008311, 117.663981588032, 141.158419639432, 138.185654008439, 144.291011379619, 152.218386395602, 151.195499296765, 153.145377828922, 142.14934151642998, 48.0723690442361, 50.62991380126929, 45.91740077673579, 48.16709292412621, 48.190773894098704, 47.030406365444705, 43.1704082599223, 50.9377664109122, 91.4361389052384, 88.2283696291936, 79.87051206592109, 80.31194820482641, 81.22424955856391, 85.46203649205421, 80.3708063566804, 79.07592701589171, 85.02060035314891, 91.17142857142859, 87.62857142857142, 86.6857142857143, 80.4285714285714, 80.8, 86.62857142857142, 87.54285714285709, 70.45714285714291, 62.0, 71.72058300746541, 69.1728877829127, 76.46048109965629, 71.5724611920844, 71.03922265671291, 66.0623296599123, 67.9582888967887, 62.8628984476834, 55.750550975430606, 56.6892498571545, 59.8726634560444, 54.036405191413, 54.3629091502735, 65.0151008080973, 54.2404701657008, 53.6690882376949, 34.1604766957799, 83.1472620946305, 80.595427963849, 82.5890483785221, 77.93726741095159, 78.7878787878788, 74.7474747474748, 78.7612971823498, 74.455077086656, 80.24986709197229, 63.8062589848502, 61.1246267831472, 61.8434147959748, 62.0369346455822, 62.755722658409795, 61.069335397545096, 62.0092889527812, 61.345792325555706, 62.2028088023886, 57.0596932175199, 57.1520975790057, 57.9375346516356, 57.0134910367769, 56.6438735908335, 57.983736832378504, 57.26760303086311, 55.88153760857511, 51.5616337091111, 119.664804469274, 120.55865921787701, 122.51396648044701, 120.64245810055901, 120.670391061453, 116.117318435754, 116.92737430167601, 118.74301675977699, 115.223463687151, 77.9178338001867, 75.67693744164329, 77.8711484593837, 76.35387488328671, 74.4631185807656, 84.7105508870215, 84.5704948646125, 76.79738562091501, 68.6041083099907, 56.914592760180994, 52.837481146304704, 55.0292232277526, 51.894796380090504, 48.736802413273004, 47.063536953242796, 47.03996983408749, 114.864625102019, 108.725737198822, 110.322557751677, 115.18398921258999, 112.983925339768, 110.74837656577101, 106.73858273304701, 101.557787161563, 107.732159965935, 79.74638779428109, 82.90391027584121, 76.84146711124579, 78.3318177225422, 76.9425078306558, 76.5130847731636, 76.9172476508033, 72.9261392341113, 75.50267757906441, 69.6170556734364, 55.4423459244533, 52.286282306162995, 55.019880715705796, 53.6530815109344, 50.695825049701796, 51.1431411530815, 49.602385685884705, 45.4771371769384, 44.93041749502979, 89.09454727363679, 98.4492246123062, 89.7698849424712, 90.92046023011508, 97.17358679339671, 93.671835917959, 89.4697348674337, 89.4447223611806, 88.544272136068, 89.5460959548448, 84.607243650047, 83.46072436500471, 82.549388523048, 76.1994355597366, 72.3483066792098, 69.0557384760113, 61.235888993414896, 88.38226108682069, 87.8022664406175, 86.8876594985277, 87.53457660390829, 86.01766752922279, 88.0922637637191, 89.51994289283479, 89.5422503792273, 84.70152583206931, 86.4192022842866, 80.38277511961721, 72.5432462274568, 65.9919028340081, 67.90577843209421, 63.8203901361796, 64.4092749355907, 73.31615752668391, 69.5252116304748, 69.6356275303644, 61.8213521439328, 61.26654513751289, 62.0194975033685, 58.29436474597771, 63.525402235079696, 62.7724498692241, 60.3550764841088, 55.9562495046366, 61.3061742094, 93.7647475224163, 94.4136385087306, 94.0891930155734, 89.4289759320434, 94.03020292590851, 91.31665880132141, 90.46130250117979, 86.83341198678619, 87.3938178386031, 97.40593768371549, 87.338330393886, 88.6978248089359, 87.5955320399765, 80.136684303351, 87.22810111698999, 92.00470311581421, 88.7713109935332, 43.352279059400395, 49.8161150117018, 51.348489914187, 49.3703332218879, 46.4727515880976, 50.122589992198805, 46.8628106541848, 48.64593781344029, 45.971247074557, 69.61722488038279, 79.9043062200957, 69.6969696969697, 76.10313662945241, 69.43115364168, 61.164274322169106, 57.7086656034025, 57.442849548112704, 42.849548112705996, 82.2471579772638, 83.2271658173266, 80.1891415131321, 82.17365738925909, 80.97314778518229, 79.9931399451196, 82.4186593492748, 79.38063504508041, 80.92414739317921, 70.18685507111651, 66.4451055126894, 64.67881379566789, 63.191410244492, 63.6329831737473, 62.6103932323138, 62.9357627591336, 64.91122060053921, 63.377335688388996, 82.0452911574407, 82.55451713395641, 82.5245626647496, 84.471603163192, 85.46010064701659, 81.35633836568421, 84.8610112628804, 83.00383417205849, 78.7203450754853, 81.4462017733046, 76.6724932464643, 76.91085332909579, 77.6656602574289, 73.4149054505005, 75.36151279199109, 77.30812013348171, 73.9710789766407, 68.0518035912919, 79.2589027911453, 66.8190567853705, 64.9663137632339, 72.5216554379211, 64.0279114533205, 66.8431183830606, 60.5389797882579, 58.517805582290706, 62.0307988450433, 71.824968077792, 71.2847460956684, 71.60396817601409, 73.07730085453301, 66.59463706905021, 73.1264119438169, 71.4075238188783, 73.05274530989101, 68.11708083685299], \"xaxis\": \"x\", \"y\": [2315, 2214, 2061, 2144, 2069, 2101, 2000, 2064, 2057, 3660, 3610, 3895, 3759, 3639, 3578, 3625, 3390, 3214, 3523, 3373, 3327, 2993, 3030, 3103, 2993, 2474, 2518, 3326, 3419, 3541, 3502, 3410, 3477, 3269, 3346, 3193, 3418, 3759, 3276, 3443, 3268, 3449, 3324, 3231, 2971, 3807, 3897, 3615, 3786, 3756, 3238, 3221, 3439, 3027, 3042, 3120, 2890, 2667, 2968, 2697, 2682, 2585, 2100, 2047, 2001, 2054, 2002, 2116, 1946, 1808, 1778, 2297, 2145, 2245, 2250, 2096, 2115, 2058, 1940, 1861, 1536, 1368, 1361, 1465, 1681, 1461, 1337, 1304, 1406, 2903, 3159, 3277, 3042, 3277, 3086, 2880, 2811, 2533, 2884, 2766, 3007, 2981, 2868, 2917, 3002, 2793, 2700, 2472, 2795, 2750, 2697, 2887, 2547, 2564, 2539, 2378, 2506, 2561, 2388, 2694, 2595, 2552, 2328, 2378, 5045, 4825, 4876, 4665, 4753, 4487, 4679, 4743, 3846, 2728, 2603, 2634, 2668, 2684, 2787, 2391, 2195, 2272, 3946, 3905, 3787, 3988, 4000, 3831, 3846, 3878, 3896, 3791, 3555, 3514, 3451, 3626, 3515, 3679, 3961, 3431, 3313, 3235, 3370, 3129, 3236, 3012, 1375, 1477, 1399, 1447, 1466, 1441, 1414, 1387, 1370, 1697, 1569, 1776, 1718, 1682, 1624, 1616, 1520, 1532, 2489, 2522, 2517, 2292, 2251, 2436, 1848, 3255, 3370, 3418, 3284, 3050, 3135, 3292, 3064, 2890, 3969, 2511, 4134, 4024, 4043, 4048, 4128, 3902, 4089, 2301, 2336, 2341, 2158, 2260, 2212, 2239, 2172, 2071, 3456, 3295, 3420, 3608, 3363, 3410, 3256, 3230, 2794, 2827, 2784, 2740, 2819, 2592, 2459, 2626, 2476, 2359, 2357, 2376, 2352, 2414, 2308, 2233, 2356, 2247, 2547, 2409, 2361, 2354, 2410, 2353, 2130, 1709, 1641, 1541, 1529, 1613, 1615, 1623, 1469, 1296, 1185, 2298, 2576, 2182, 2374, 2370, 2480, 2683, 2914, 2853, 3170, 3121, 3223, 3380, 3255, 3391, 3504, 3378, 3391, 1860, 1901, 1823, 1799, 1753, 1780, 1763, 1718, 1385, 2918, 2955, 2873, 2963, 2885, 2837, 2975, 2957, 2875, 3367, 3303, 3424, 3442, 3486, 3076, 3351, 3461, 3327, 2478, 2539, 2571, 2511, 2297, 2241, 2076, 2031, 1918, 3562, 3024, 2958, 2969, 2982, 2877, 2948, 2907, 3695, 3570, 3834, 3794, 3592, 2728, 3475, 3841, 3668, 4916, 4799, 4738, 4856, 4692, 4756, 4753, 4574, 4752, 2934, 2866, 3065, 3089, 3005, 3001, 2769, 2708, 2862, 2833, 2553, 2510, 2294, 2400, 2133, 1651, 2196, 2336, 2404, 2377, 2339, 2346, 2381, 2203, 2089, 2036, 1733, 2479, 2398, 2427, 2547, 2523, 2483, 2399, 2322, 2237, 2076, 2914, 2795, 2808, 2707, 2686, 2850, 2667, 2641, 2611, 2073, 2142, 2274, 2186, 2269, 2228, 2327, 2112, 1725, 1995, 1884, 1806, 1666, 1316, 1085, 938, 919, 2389, 2419, 2400, 2181, 2275, 2235, 2083, 2548, 2509, 2543, 2399, 2507, 2156, 2134, 2446, 2933, 3001, 2904, 2832, 2866, 2788, 3022, 2912, 3037, 2917, 2851, 2905, 2889, 2965, 2950, 2886, 2899, 2994, 2908, 2581, 2427, 2404, 2335, 2279, 2254, 2146, 2155, 2091, 1674, 1674, 1766, 1687, 1586, 1454, 1406, 1484, 1566, 3559, 3587, 3458, 3614, 3661, 3610, 3454, 3350, 3146, 2349, 2584, 2337, 2330, 2320, 2093, 2027, 1872, 2375, 2281, 2276, 2295, 2245, 2227, 2316, 2307, 2455, 1677, 1781, 1773, 1771, 1667, 1643, 1584, 1533, 1551, 2220, 2274, 2174, 2193, 2241, 2102, 2024, 2253, 2184, 2235, 2333, 2266, 2319, 2230, 2154, 2134, 1690, 1648, 1587, 1503, 1537, 1436, 1392, 1351, 1197, 3327, 3407, 3292, 3368, 3364, 3226, 3274, 3208, 2990, 2582, 2614, 2743, 2674, 2579, 2608, 2588, 2630, 2594, 3195, 3203, 3097, 3171, 3115, 3105, 3035, 3051, 3033, 2629, 2729, 2606, 2568, 2560, 2675, 2415, 2112, 2232, 3808, 4036, 4087, 3869, 3906, 3780, 3925, 3907, 3901, 3239, 3390, 3324, 3305, 3276, 3376, 3278, 3362, 3197, 4510, 4443, 4339, 4324, 4247, 4196, 4320, 4267, 4151, 3793, 3742, 3916, 4130, 4050, 3949, 4061, 3835, 3568, 4124, 3981, 4092, 4201, 4130, 3973, 3865, 3852, 4052, 4089, 3247, 3241, 3226, 3156, 3160, 2965, 3105, 2952, 2686, 2841, 2806, 2786, 2944, 3017, 2901, 2809, 2897, 2818, 2102, 2102, 2172, 2136, 2067, 2161, 2296, 2129, 2184, 4562, 4791, 4680, 4635, 4662, 4496, 4537, 4424, 4288, 3744, 3186, 3095, 3143, 2993, 3041, 2975, 2859, 2762, 2711, 2520, 2474, 2462, 2486, 2480, 2527, 2486, 2471, 2263, 1970, 2474, 2205, 2063, 2155, 2020, 2272, 2338, 2388, 2603, 2715, 2740, 2749, 2833, 2830, 2772, 2801, 2623, 2648, 2728, 2861, 2889, 2840, 2697, 2675, 2576, 2563, 3009, 2954, 3102, 2962, 3054, 3049, 2866, 2761, 2860, 2541, 2358, 2350, 2346, 2427, 2449, 2537, 2461, 2393, 3130, 2965, 3197, 2761, 3009, 3175, 3021, 2991, 2743, 3096, 2781, 2826, 2759, 2591, 2428, 2119, 4291, 4488, 4490, 4424, 4307, 4330, 4169, 4193, 4461, 1728, 1929, 1874, 1831, 1783, 1829, 1850, 1653, 1568, 3849, 3799, 3871, 3903, 3930, 4360, 3811, 3792, 3856, 2776, 2400, 1950, 2192, 2360, 1941, 3399, 2312, 3283, 2672, 2683, 2868, 2949, 2907, 2686, 2832, 2844, 2889, 4311, 4279, 4316, 4185, 4029, 4092, 4040, 3641, 3646, 2379, 2722, 2735, 2924, 2829, 2806, 2696, 2522, 2526, 2846, 2860, 2773, 2780, 2809, 2837, 2844, 2845, 2852, 3035, 3376, 3057, 3126, 3220, 3090, 2972, 3289, 3017, 2869, 2853, 2912, 2929, 2886, 2867, 2829, 2874, 2791, 2658, 2289, 2157, 1997, 2110, 2195, 2424, 2081, 2105, 2439, 2550, 2590, 2564, 2582, 2527, 2888, 2802, 2600, 6399, 5678, 5910, 5739, 5763, 5844, 5613, 5895, 5768, 1401, 1416, 1424, 1377, 1450, 1529, 1456, 1391, 1285, 2644, 2345, 2492, 2540, 2549, 2579, 2371, 2384, 2316, 2992, 2637, 2643, 2705, 2679, 2388, 2722, 2656, 2812, 1583, 1001, 997, 1031, 969, 974, 827, 828, 1885, 1905, 1905, 1972, 1851, 1693, 1833, 1657, 1662, 3518, 3531, 3402, 3539, 3649, 3603, 3489, 3410, 3355, 3342, 1909, 1977, 2095, 1841, 1803, 1732, 2095, 1813, 1845, 3829, 3467, 3564, 3574, 3609, 3685, 3429, 3252, 3580, 2080, 2022, 1769, 2002, 1756, 2008, 1848, 1897, 2061, 2129, 2095, 2142, 2120, 2185, 2124, 2179, 2257, 2991, 3132, 2872, 2807, 2779, 2713, 2503, 2762, 2782, 1399, 1365, 1349, 1373, 1331, 1344, 1313, 1290, 1188, 1853, 1715, 1825, 1918, 1785, 1843, 1631, 1644, 1761, 1272, 1481, 1316, 1334, 1384, 1384, 1266, 1424, 1441, 3255, 3246, 3243, 3175, 3102, 2334, 2139, 2161, 2075, 2100, 2065, 2065, 1937, 2039, 2026, 1715, 1808, 1563, 1584, 1647, 1498, 1487, 1317, 1315, 1607, 1938, 1967, 2018, 2239, 2064, 1931, 2044, 2021, 1015, 1065, 1019, 1031, 935, 865, 3020, 2860, 2847, 2708, 2797, 2845, 2911, 2886, 2962, 2080, 1903, 2133, 2167, 2044, 1989, 1965, 1481, 1648, 3107, 2879, 2828, 2908, 3002, 2718, 2738, 4141, 4167, 4086, 4036, 4121, 4089, 3978, 4046, 3796, 1965, 1854, 1957, 1967, 2109, 1955, 1925, 2015, 1984, 1411, 1335, 1284, 1371, 1276, 1528, 1445, 1438, 1304, 2276, 2122, 1970, 2027, 2108, 2365, 2360, 2387, 2283, 2175, 2315, 2300, 2103, 2314, 2135, 1814, 4051, 4027, 4079, 3962, 4043, 3840, 4001, 3618, 3581, 2327, 2361, 2244, 2286, 2174, 2058, 2095, 2144, 2065, 2223, 2099, 2258, 2130, 2163, 1990, 2210, 2166, 1880, 1792, 1841, 1890, 1803, 1932, 1750, 1596, 1409, 2109, 2182, 2297, 2293, 2328, 1741, 1992, 2141, 2126, 2984, 2938, 2776, 2708, 2785, 2817, 2941, 2714, 2555, 3170, 3247, 3292, 3203, 3166, 3106, 2834, 2762, 2883, 3240, 3184, 3180, 3099, 3499, 3118, 2927, 2828, 3187, 1879, 1860, 1745, 1765, 1765, 1919, 1741, 1612, 1571, 2375, 2305, 2263, 2325, 2277, 2173, 1653, 1861, 4143, 2951, 4287, 4143, 4198, 4279, 4238, 4247, 4218, 2460, 2602, 2591, 2585, 2795, 2456, 2357, 2311, 2325, 1412, 1644, 1550, 1561, 1818, 1707, 1581, 1760, 2805, 2848, 2618, 2838, 2830, 2769, 3051, 2734, 2677, 3135, 2986, 2965, 3177, 3272, 3135, 3232, 3153, 3221, 3043, 2694, 2577, 2626, 2557, 2663, 2598, 2505, 2467, 2569, 2549, 2561, 2570, 2542, 2545, 2505, 2294, 3959, 4096, 3949, 3876, 3882, 3904, 3625, 3941, 4058, 3574, 3565, 3446, 3395, 3421, 3454, 3299, 3254, 2968, 2345, 2295, 2346, 2276, 2242, 2253, 2160, 2000, 2222, 2849, 2851, 2798, 2854, 2891, 2773, 2871, 2813, 2701, 2390, 2322, 2305, 2116, 2036, 2062, 1865, 1928, 1901, 1637, 1623, 1542, 1507, 1602, 1520, 1383, 1492, 1699, 1511, 2066, 2074, 2032, 1987, 2020, 1954, 1812, 2808, 2441, 2567, 2788, 2470, 2475, 2627, 2694, 2690, 4418, 3681, 4416, 4323, 4514, 4762, 4730, 4791, 4447, 2030, 2138, 1939, 2034, 2035, 1986, 1823, 2151, 3107, 2998, 2714, 2729, 2760, 2904, 2731, 2687, 2889, 3191, 3067, 3034, 2815, 2828, 3032, 3064, 2466, 2170, 2421, 2335, 2581, 2416, 2398, 2230, 2294, 2122, 1366, 1389, 1467, 1324, 1332, 1593, 1329, 1315, 837, 3128, 3032, 3107, 2932, 2964, 2812, 2963, 2801, 3019, 2308, 2211, 2237, 2244, 2270, 2209, 2243, 2219, 2250, 2470, 2474, 2508, 2468, 2452, 2510, 2479, 2419, 2232, 4284, 4316, 4386, 4319, 4320, 4157, 4186, 4251, 4125, 3338, 3242, 3336, 3271, 3190, 3629, 3623, 3290, 2939, 2415, 2242, 2335, 2202, 2068, 1997, 1996, 3237, 3064, 3109, 3246, 3184, 3121, 3008, 2862, 3036, 3157, 3282, 3042, 3101, 3046, 3029, 3045, 2887, 2989, 2756, 2231, 2104, 2214, 2159, 2040, 2058, 1996, 1830, 1808, 3562, 3936, 3589, 3635, 3885, 3745, 3577, 3576, 3540, 3046, 2878, 2839, 2808, 2592, 2461, 2349, 2083, 3962, 3936, 3895, 3924, 3856, 3949, 4013, 4014, 3797, 3874, 2184, 1971, 1793, 1845, 1734, 1750, 1992, 1889, 1892, 1560, 1546, 1565, 1471, 1603, 1584, 1523, 1412, 1547, 3179, 3201, 3190, 3032, 3188, 3096, 3067, 2944, 2963, 2651, 2377, 2414, 2384, 2181, 2374, 2504, 2416, 1556, 1788, 1843, 1772, 1668, 1799, 1682, 1746, 1650, 2619, 3006, 2622, 2863, 2612, 2301, 2171, 2161, 1612, 3357, 3397, 3273, 3354, 3305, 3265, 3364, 3240, 3303, 3020, 2859, 2783, 2719, 2738, 2694, 2708, 2793, 2727, 2739, 2756, 2755, 2820, 2853, 2716, 2833, 2771, 2628, 2719, 1930, 1936, 1955, 1848, 1897, 1946, 1862, 1713, 3294, 2777, 2700, 3014, 2661, 2778, 2516, 2432, 2578, 2925, 2903, 2916, 2976, 2712, 2978, 2908, 2975, 2774], \"yaxis\": \"y\"}],\n",
              "                        {\"coloraxis\": {\"colorbar\": {\"title\": {\"text\": \"Age\"}}, \"colorscale\": [[0.0, \"#0d0887\"], [0.1111111111111111, \"#46039f\"], [0.2222222222222222, \"#7201a8\"], [0.3333333333333333, \"#9c179e\"], [0.4444444444444444, \"#bd3786\"], [0.5555555555555556, \"#d8576b\"], [0.6666666666666666, \"#ed7953\"], [0.7777777777777778, \"#fb9f3a\"], [0.8888888888888888, \"#fdca26\"], [1.0, \"#f0f921\"]]}, \"legend\": {\"tracegroupgap\": 0}, \"margin\": {\"t\": 60}, \"template\": {\"data\": {\"bar\": [{\"error_x\": {\"color\": \"#2a3f5f\"}, \"error_y\": {\"color\": \"#2a3f5f\"}, \"marker\": {\"line\": {\"color\": \"#E5ECF6\", \"width\": 0.5}}, \"type\": \"bar\"}], \"barpolar\": [{\"marker\": {\"line\": {\"color\": \"#E5ECF6\", \"width\": 0.5}}, \"type\": \"barpolar\"}], \"carpet\": [{\"aaxis\": {\"endlinecolor\": \"#2a3f5f\", \"gridcolor\": \"white\", \"linecolor\": \"white\", \"minorgridcolor\": \"white\", \"startlinecolor\": \"#2a3f5f\"}, \"baxis\": {\"endlinecolor\": \"#2a3f5f\", \"gridcolor\": \"white\", \"linecolor\": \"white\", \"minorgridcolor\": \"white\", \"startlinecolor\": \"#2a3f5f\"}, \"type\": \"carpet\"}], \"choropleth\": [{\"colorbar\": {\"outlinewidth\": 0, \"ticks\": \"\"}, \"type\": \"choropleth\"}], \"contour\": [{\"colorbar\": {\"outlinewidth\": 0, \"ticks\": \"\"}, \"colorscale\": [[0.0, \"#0d0887\"], [0.1111111111111111, \"#46039f\"], [0.2222222222222222, \"#7201a8\"], [0.3333333333333333, \"#9c179e\"], [0.4444444444444444, \"#bd3786\"], [0.5555555555555556, \"#d8576b\"], [0.6666666666666666, \"#ed7953\"], [0.7777777777777778, \"#fb9f3a\"], [0.8888888888888888, \"#fdca26\"], [1.0, \"#f0f921\"]], \"type\": \"contour\"}], \"contourcarpet\": [{\"colorbar\": {\"outlinewidth\": 0, \"ticks\": \"\"}, \"type\": \"contourcarpet\"}], \"heatmap\": [{\"colorbar\": {\"outlinewidth\": 0, \"ticks\": \"\"}, \"colorscale\": [[0.0, \"#0d0887\"], [0.1111111111111111, \"#46039f\"], [0.2222222222222222, \"#7201a8\"], [0.3333333333333333, \"#9c179e\"], [0.4444444444444444, \"#bd3786\"], [0.5555555555555556, \"#d8576b\"], [0.6666666666666666, \"#ed7953\"], [0.7777777777777778, \"#fb9f3a\"], [0.8888888888888888, \"#fdca26\"], [1.0, \"#f0f921\"]], \"type\": \"heatmap\"}], \"heatmapgl\": [{\"colorbar\": {\"outlinewidth\": 0, \"ticks\": \"\"}, \"colorscale\": [[0.0, \"#0d0887\"], [0.1111111111111111, \"#46039f\"], [0.2222222222222222, \"#7201a8\"], [0.3333333333333333, \"#9c179e\"], [0.4444444444444444, \"#bd3786\"], [0.5555555555555556, \"#d8576b\"], [0.6666666666666666, \"#ed7953\"], [0.7777777777777778, \"#fb9f3a\"], [0.8888888888888888, \"#fdca26\"], [1.0, \"#f0f921\"]], \"type\": \"heatmapgl\"}], \"histogram\": [{\"marker\": {\"colorbar\": {\"outlinewidth\": 0, \"ticks\": \"\"}}, \"type\": \"histogram\"}], \"histogram2d\": [{\"colorbar\": {\"outlinewidth\": 0, \"ticks\": \"\"}, \"colorscale\": [[0.0, \"#0d0887\"], [0.1111111111111111, \"#46039f\"], [0.2222222222222222, \"#7201a8\"], [0.3333333333333333, \"#9c179e\"], [0.4444444444444444, \"#bd3786\"], [0.5555555555555556, \"#d8576b\"], [0.6666666666666666, \"#ed7953\"], [0.7777777777777778, \"#fb9f3a\"], [0.8888888888888888, \"#fdca26\"], [1.0, \"#f0f921\"]], \"type\": \"histogram2d\"}], \"histogram2dcontour\": [{\"colorbar\": {\"outlinewidth\": 0, \"ticks\": \"\"}, \"colorscale\": [[0.0, \"#0d0887\"], [0.1111111111111111, \"#46039f\"], [0.2222222222222222, \"#7201a8\"], [0.3333333333333333, \"#9c179e\"], [0.4444444444444444, \"#bd3786\"], [0.5555555555555556, \"#d8576b\"], [0.6666666666666666, \"#ed7953\"], [0.7777777777777778, \"#fb9f3a\"], [0.8888888888888888, \"#fdca26\"], [1.0, \"#f0f921\"]], \"type\": \"histogram2dcontour\"}], \"mesh3d\": [{\"colorbar\": {\"outlinewidth\": 0, \"ticks\": \"\"}, \"type\": \"mesh3d\"}], \"parcoords\": [{\"line\": {\"colorbar\": {\"outlinewidth\": 0, \"ticks\": \"\"}}, \"type\": \"parcoords\"}], \"pie\": [{\"automargin\": true, \"type\": \"pie\"}], \"scatter\": [{\"marker\": {\"colorbar\": {\"outlinewidth\": 0, \"ticks\": \"\"}}, \"type\": \"scatter\"}], \"scatter3d\": [{\"line\": {\"colorbar\": {\"outlinewidth\": 0, \"ticks\": \"\"}}, \"marker\": {\"colorbar\": {\"outlinewidth\": 0, \"ticks\": \"\"}}, \"type\": \"scatter3d\"}], \"scattercarpet\": [{\"marker\": {\"colorbar\": {\"outlinewidth\": 0, \"ticks\": \"\"}}, \"type\": \"scattercarpet\"}], \"scattergeo\": [{\"marker\": {\"colorbar\": {\"outlinewidth\": 0, \"ticks\": \"\"}}, \"type\": \"scattergeo\"}], \"scattergl\": [{\"marker\": {\"colorbar\": {\"outlinewidth\": 0, \"ticks\": \"\"}}, \"type\": \"scattergl\"}], \"scattermapbox\": [{\"marker\": {\"colorbar\": {\"outlinewidth\": 0, \"ticks\": \"\"}}, \"type\": \"scattermapbox\"}], \"scatterpolar\": [{\"marker\": {\"colorbar\": {\"outlinewidth\": 0, \"ticks\": \"\"}}, \"type\": \"scatterpolar\"}], \"scatterpolargl\": [{\"marker\": {\"colorbar\": {\"outlinewidth\": 0, \"ticks\": \"\"}}, \"type\": \"scatterpolargl\"}], \"scatterternary\": [{\"marker\": {\"colorbar\": {\"outlinewidth\": 0, \"ticks\": \"\"}}, \"type\": \"scatterternary\"}], \"surface\": [{\"colorbar\": {\"outlinewidth\": 0, \"ticks\": \"\"}, \"colorscale\": [[0.0, \"#0d0887\"], [0.1111111111111111, \"#46039f\"], [0.2222222222222222, \"#7201a8\"], [0.3333333333333333, \"#9c179e\"], [0.4444444444444444, \"#bd3786\"], [0.5555555555555556, \"#d8576b\"], [0.6666666666666666, \"#ed7953\"], [0.7777777777777778, \"#fb9f3a\"], [0.8888888888888888, \"#fdca26\"], [1.0, \"#f0f921\"]], \"type\": \"surface\"}], \"table\": [{\"cells\": {\"fill\": {\"color\": \"#EBF0F8\"}, \"line\": {\"color\": \"white\"}}, \"header\": {\"fill\": {\"color\": \"#C8D4E3\"}, \"line\": {\"color\": \"white\"}}, \"type\": \"table\"}]}, \"layout\": {\"annotationdefaults\": {\"arrowcolor\": \"#2a3f5f\", \"arrowhead\": 0, \"arrowwidth\": 1}, \"coloraxis\": {\"colorbar\": {\"outlinewidth\": 0, \"ticks\": \"\"}}, \"colorscale\": {\"diverging\": [[0, \"#8e0152\"], [0.1, \"#c51b7d\"], [0.2, \"#de77ae\"], [0.3, \"#f1b6da\"], [0.4, \"#fde0ef\"], [0.5, \"#f7f7f7\"], [0.6, \"#e6f5d0\"], [0.7, \"#b8e186\"], [0.8, \"#7fbc41\"], [0.9, \"#4d9221\"], [1, \"#276419\"]], \"sequential\": [[0.0, \"#0d0887\"], [0.1111111111111111, \"#46039f\"], [0.2222222222222222, \"#7201a8\"], [0.3333333333333333, \"#9c179e\"], [0.4444444444444444, \"#bd3786\"], [0.5555555555555556, \"#d8576b\"], [0.6666666666666666, \"#ed7953\"], [0.7777777777777778, \"#fb9f3a\"], [0.8888888888888888, \"#fdca26\"], [1.0, \"#f0f921\"]], \"sequentialminus\": [[0.0, \"#0d0887\"], [0.1111111111111111, \"#46039f\"], [0.2222222222222222, \"#7201a8\"], [0.3333333333333333, \"#9c179e\"], [0.4444444444444444, \"#bd3786\"], [0.5555555555555556, \"#d8576b\"], [0.6666666666666666, \"#ed7953\"], [0.7777777777777778, \"#fb9f3a\"], [0.8888888888888888, \"#fdca26\"], [1.0, \"#f0f921\"]]}, \"colorway\": [\"#636efa\", \"#EF553B\", \"#00cc96\", \"#ab63fa\", \"#FFA15A\", \"#19d3f3\", \"#FF6692\", \"#B6E880\", \"#FF97FF\", \"#FECB52\"], \"font\": {\"color\": \"#2a3f5f\"}, \"geo\": {\"bgcolor\": \"white\", \"lakecolor\": \"white\", \"landcolor\": \"#E5ECF6\", \"showlakes\": true, \"showland\": true, \"subunitcolor\": \"white\"}, \"hoverlabel\": {\"align\": \"left\"}, \"hovermode\": \"closest\", \"mapbox\": {\"style\": \"light\"}, \"paper_bgcolor\": \"white\", \"plot_bgcolor\": \"#E5ECF6\", \"polar\": {\"angularaxis\": {\"gridcolor\": \"white\", \"linecolor\": \"white\", \"ticks\": \"\"}, \"bgcolor\": \"#E5ECF6\", \"radialaxis\": {\"gridcolor\": \"white\", \"linecolor\": \"white\", \"ticks\": \"\"}}, \"scene\": {\"xaxis\": {\"backgroundcolor\": \"#E5ECF6\", \"gridcolor\": \"white\", \"gridwidth\": 2, \"linecolor\": \"white\", \"showbackground\": true, \"ticks\": \"\", \"zerolinecolor\": \"white\"}, \"yaxis\": {\"backgroundcolor\": \"#E5ECF6\", \"gridcolor\": \"white\", \"gridwidth\": 2, \"linecolor\": \"white\", \"showbackground\": true, \"ticks\": \"\", \"zerolinecolor\": \"white\"}, \"zaxis\": {\"backgroundcolor\": \"#E5ECF6\", \"gridcolor\": \"white\", \"gridwidth\": 2, \"linecolor\": \"white\", \"showbackground\": true, \"ticks\": \"\", \"zerolinecolor\": \"white\"}}, \"shapedefaults\": {\"line\": {\"color\": \"#2a3f5f\"}}, \"ternary\": {\"aaxis\": {\"gridcolor\": \"white\", \"linecolor\": \"white\", \"ticks\": \"\"}, \"baxis\": {\"gridcolor\": \"white\", \"linecolor\": \"white\", \"ticks\": \"\"}, \"bgcolor\": \"#E5ECF6\", \"caxis\": {\"gridcolor\": \"white\", \"linecolor\": \"white\", \"ticks\": \"\"}}, \"title\": {\"x\": 0.05}, \"xaxis\": {\"automargin\": true, \"gridcolor\": \"white\", \"linecolor\": \"white\", \"ticks\": \"\", \"title\": {\"standoff\": 15}, \"zerolinecolor\": \"white\", \"zerolinewidth\": 2}, \"yaxis\": {\"automargin\": true, \"gridcolor\": \"white\", \"linecolor\": \"white\", \"ticks\": \"\", \"title\": {\"standoff\": 15}, \"zerolinecolor\": \"white\", \"zerolinewidth\": 2}}}, \"xaxis\": {\"anchor\": \"y\", \"domain\": [0.0, 1.0], \"title\": {\"text\": \"Percent\"}}, \"yaxis\": {\"anchor\": \"x\", \"domain\": [0.0, 1.0], \"title\": {\"text\": \"FVC\"}}},\n",
              "                        {\"responsive\": true}\n",
              "                    ).then(function(){\n",
              "                            \n",
              "var gd = document.getElementById('336d02e1-d3aa-4b6e-8e59-e0c8d1105879');\n",
              "var x = new MutationObserver(function (mutations, observer) {{\n",
              "        var display = window.getComputedStyle(gd).display;\n",
              "        if (!display || display === 'none') {{\n",
              "            console.log([gd, 'removed!']);\n",
              "            Plotly.purge(gd);\n",
              "            observer.disconnect();\n",
              "        }}\n",
              "}});\n",
              "\n",
              "// Listen for the removal of the full notebook cells\n",
              "var notebookContainer = gd.closest('#notebook-container');\n",
              "if (notebookContainer) {{\n",
              "    x.observe(notebookContainer, {childList: true});\n",
              "}}\n",
              "\n",
              "// Listen for the clearing of the current output cell\n",
              "var outputEl = gd.closest('.output');\n",
              "if (outputEl) {{\n",
              "    x.observe(outputEl, {childList: true});\n",
              "}}\n",
              "\n",
              "                        })\n",
              "                };\n",
              "                \n",
              "            </script>\n",
              "        </div>\n",
              "</body>\n",
              "</html>"
            ]
          },
          "metadata": {
            "tags": []
          }
        },
        {
          "output_type": "display_data",
          "data": {
            "text/plain": [
              "<Figure size 2160x1440 with 0 Axes>"
            ]
          },
          "metadata": {
            "tags": []
          }
        }
      ]
    },
    {
      "cell_type": "code",
      "metadata": {
        "id": "op8JLbZ07FuN",
        "colab": {
          "base_uri": "https://localhost:8080/",
          "height": 542
        },
        "outputId": "93d04515-5cd1-4c88-ef06-5c1ff3d1d1be"
      },
      "source": [
        "#FVC vs age\n",
        "\n",
        "px.bar(train_df,x='SmokingStatus',y='FVC',color='Age')"
      ],
      "execution_count": null,
      "outputs": [
        {
          "output_type": "display_data",
          "data": {
            "text/html": [
              "<html>\n",
              "<head><meta charset=\"utf-8\" /></head>\n",
              "<body>\n",
              "    <div>\n",
              "            <script src=\"https://cdnjs.cloudflare.com/ajax/libs/mathjax/2.7.5/MathJax.js?config=TeX-AMS-MML_SVG\"></script><script type=\"text/javascript\">if (window.MathJax) {MathJax.Hub.Config({SVG: {font: \"STIX-Web\"}});}</script>\n",
              "                <script type=\"text/javascript\">window.PlotlyConfig = {MathJaxConfig: 'local'};</script>\n",
              "        <script src=\"https://cdn.plot.ly/plotly-latest.min.js\"></script>    \n",
              "            <div id=\"b065b456-ee66-4641-ab0c-66a6e4a62584\" class=\"plotly-graph-div\" style=\"height:525px; width:100%;\"></div>\n",
              "            <script type=\"text/javascript\">\n",
              "                \n",
              "                    window.PLOTLYENV=window.PLOTLYENV || {};\n",
              "                    \n",
              "                if (document.getElementById(\"b065b456-ee66-4641-ab0c-66a6e4a62584\")) {\n",
              "                    Plotly.newPlot(\n",
              "                        'b065b456-ee66-4641-ab0c-66a6e4a62584',\n",
              "                        [{\"alignmentgroup\": \"True\", \"hoverlabel\": {\"namelength\": 0}, \"hovertemplate\": \"SmokingStatus=%{x}<br>FVC=%{y}<br>Age=%{marker.color}\", \"legendgroup\": \"\", \"marker\": {\"color\": [79, 79, 79, 79, 79, 79, 79, 79, 79, 69, 69, 69, 69, 69, 69, 69, 69, 69, 60, 60, 60, 60, 60, 60, 60, 60, 60, 72, 72, 72, 72, 72, 72, 72, 72, 72, 65, 65, 65, 65, 65, 65, 65, 65, 65, 56, 56, 56, 56, 56, 56, 56, 56, 56, 71, 71, 71, 71, 71, 71, 71, 71, 83, 83, 83, 83, 83, 83, 83, 83, 83, 66, 66, 66, 66, 66, 66, 66, 66, 66, 71, 71, 71, 71, 71, 71, 71, 71, 71, 65, 65, 65, 65, 65, 65, 65, 65, 65, 57, 57, 57, 57, 57, 57, 57, 57, 57, 73, 73, 73, 73, 73, 73, 73, 73, 73, 69, 69, 69, 69, 69, 69, 69, 69, 63, 63, 63, 63, 63, 63, 63, 63, 63, 69, 69, 69, 69, 69, 69, 69, 69, 69, 71, 71, 71, 71, 71, 71, 71, 71, 71, 58, 58, 58, 58, 58, 58, 58, 58, 58, 68, 68, 68, 68, 68, 68, 70, 70, 70, 70, 70, 70, 70, 70, 70, 73, 73, 73, 73, 73, 73, 73, 73, 73, 54, 54, 54, 54, 54, 54, 54, 63, 63, 63, 63, 63, 63, 63, 63, 63, 68, 68, 68, 68, 68, 68, 68, 68, 68, 74, 74, 74, 74, 74, 74, 74, 74, 74, 64, 64, 64, 64, 64, 64, 64, 64, 73, 73, 73, 73, 73, 73, 73, 73, 73, 71, 71, 71, 71, 71, 71, 71, 71, 71, 69, 69, 69, 69, 69, 69, 69, 69, 52, 52, 52, 52, 52, 52, 52, 52, 52, 51, 51, 51, 51, 51, 51, 51, 51, 51, 70, 70, 70, 70, 70, 70, 70, 70, 70, 55, 55, 55, 55, 55, 55, 55, 55, 55, 49, 49, 49, 49, 49, 49, 49, 49, 49, 65, 65, 65, 65, 65, 65, 65, 65, 65, 63, 63, 63, 63, 63, 63, 63, 63, 63, 69, 69, 69, 69, 69, 69, 69, 69, 69, 69, 69, 69, 69, 69, 69, 69, 69, 64, 64, 64, 64, 64, 64, 64, 64, 64, 68, 68, 68, 68, 68, 68, 68, 68, 68, 68, 60, 60, 60, 60, 60, 60, 60, 60, 60, 74, 74, 74, 74, 74, 74, 74, 74, 64, 64, 64, 64, 64, 64, 64, 64, 64, 64, 73, 73, 73, 73, 73, 73, 73, 73, 73, 73, 73, 73, 73, 73, 73, 73, 73, 73, 74, 74, 74, 74, 74, 74, 74, 74, 72, 72, 72, 72, 72, 72, 72, 77, 77, 77, 77, 77, 77, 77, 77, 68, 68, 68, 68, 68, 68, 68, 68, 68, 57, 57, 57, 57, 57, 57, 57, 57, 57, 57, 58, 58, 58, 58, 58, 58, 58, 58, 58, 69, 69, 69, 69, 69, 69, 69, 69, 69, 60, 60, 60, 60, 60, 60, 60, 60, 60, 65, 65, 65, 65, 65, 65, 65, 65, 78, 78, 78, 78, 78, 78, 78, 78, 78, 55, 55, 55, 55, 55, 55, 55, 55, 55, 87, 87, 87, 87, 87, 87, 87, 71, 71, 71, 71, 71, 71, 71, 71, 71, 65, 65, 65, 65, 65, 65, 65, 65, 65, 61, 61, 61, 61, 61, 61, 61, 61, 61, 69, 69, 69, 69, 69, 69, 69, 69, 69, 83, 83, 83, 83, 83, 83, 83, 83, 83, 67, 67, 67, 67, 67, 67, 67, 67, 67, 65, 65, 65, 65, 65, 65, 65, 65, 65, 64, 64, 64, 64, 64, 64, 64, 64, 64, 66, 66, 66, 66, 66, 66, 66, 66, 66, 76, 76, 76, 76, 76, 76, 76, 76, 76, 58, 58, 58, 58, 58, 58, 58, 58, 58, 58, 66, 66, 66, 66, 66, 66, 66, 66, 66, 63, 63, 63, 63, 63, 63, 63, 63, 63, 54, 54, 54, 54, 54, 54, 54, 54, 54, 58, 58, 58, 58, 58, 58, 58, 58, 58, 58, 62, 62, 62, 62, 62, 62, 62, 62, 62, 66, 66, 66, 66, 66, 66, 66, 66, 66, 79, 79, 79, 79, 79, 79, 79, 79, 79, 73, 73, 73, 73, 73, 73, 73, 73, 73, 73, 73, 73, 73, 73, 73, 73, 73, 73, 68, 68, 68, 68, 68, 68, 68, 68, 68, 71, 71, 71, 71, 71, 71, 71, 71, 71, 52, 52, 52, 52, 52, 52, 52, 52, 52, 69, 69, 69, 69, 69, 69, 69, 69, 69, 69, 69, 69, 69, 69, 69, 69, 56, 56, 56, 56, 56, 56, 56, 56, 56, 65, 65, 65, 65, 65, 65, 65, 65, 65, 65, 65, 65, 65, 65, 65, 65, 65, 65, 62, 62, 62, 62, 62, 62, 62, 62, 62, 64, 64, 64, 64, 64, 64, 64, 64, 64, 67, 67, 67, 67, 67, 67, 67, 67, 67, 76, 76, 76, 76, 76, 76, 76, 76, 76, 70, 70, 70, 70, 70, 70, 70, 70, 70, 69, 69, 69, 69, 69, 69, 69, 69, 69, 65, 65, 65, 65, 65, 65, 65, 65, 65, 81, 81, 81, 81, 81, 81, 81, 81, 81, 71, 71, 71, 71, 71, 71, 71, 71, 71, 76, 76, 76, 76, 76, 76, 76, 76, 76, 70, 70, 70, 70, 70, 70, 70, 70, 70, 72, 72, 72, 72, 72, 72, 72, 72, 72, 77, 77, 77, 77, 77, 77, 77, 77, 58, 58, 58, 58, 58, 58, 58, 58, 58, 71, 71, 71, 71, 71, 71, 71, 71, 71, 71, 74, 74, 74, 74, 74, 74, 74, 74, 74, 68, 68, 68, 68, 68, 68, 68, 68, 68, 66, 66, 66, 66, 66, 66, 66, 66, 67, 67, 67, 67, 67, 67, 67, 67, 67, 63, 63, 63, 63, 63, 63, 63, 63, 63, 66, 66, 66, 66, 66, 66, 66, 66, 66, 64, 64, 64, 64, 64, 64, 64, 64, 64, 71, 71, 71, 71, 71, 71, 71, 71, 71, 56, 56, 56, 56, 56, 56, 56, 56, 88, 88, 88, 88, 88, 88, 88, 88, 88, 62, 62, 62, 62, 62, 62, 62, 62, 76, 76, 76, 76, 76, 76, 76, 76, 70, 70, 70, 70, 70, 70, 60, 60, 60, 60, 60, 60, 60, 60, 60, 62, 62, 62, 62, 62, 62, 62, 62, 62, 77, 77, 77, 77, 77, 77, 77, 70, 70, 70, 70, 70, 70, 70, 70, 70, 60, 60, 60, 60, 60, 60, 60, 60, 60, 61, 61, 61, 61, 61, 61, 61, 61, 61, 63, 63, 63, 63, 63, 63, 63, 63, 75, 75, 75, 75, 75, 75, 75, 75, 72, 72, 72, 72, 72, 72, 72, 72, 72, 74, 74, 74, 74, 74, 74, 74, 74, 74, 58, 58, 58, 58, 58, 58, 58, 58, 67, 67, 67, 67, 67, 67, 67, 67, 67, 78, 78, 78, 78, 78, 78, 78, 78, 78, 62, 62, 62, 62, 62, 62, 62, 62, 62, 65, 65, 65, 65, 65, 65, 65, 65, 65, 73, 73, 73, 73, 73, 73, 73, 73, 73, 72, 72, 72, 72, 72, 72, 72, 72, 72, 64, 64, 64, 64, 64, 64, 64, 64, 72, 72, 72, 72, 72, 72, 72, 72, 72, 59, 59, 59, 59, 59, 59, 59, 59, 59, 77, 77, 77, 77, 77, 77, 77, 77, 69, 69, 69, 69, 69, 69, 69, 69, 69, 69, 69, 69, 69, 69, 69, 69, 69, 69, 74, 74, 74, 74, 74, 74, 74, 74, 74, 56, 56, 56, 56, 56, 56, 56, 56, 69, 69, 69, 69, 69, 69, 69, 69, 69, 64, 64, 64, 64, 64, 64, 64, 64, 64, 68, 68, 68, 68, 68, 68, 68, 68, 68, 68, 68, 68, 68, 68, 68, 68, 68, 68, 72, 72, 72, 72, 72, 72, 72, 72, 72, 68, 68, 68, 68, 68, 68, 68, 68, 68, 68, 58, 58, 58, 58, 58, 58, 58, 78, 78, 78, 78, 78, 78, 78, 78, 78, 65, 65, 65, 65, 65, 65, 65, 65, 65, 65, 65, 65, 65, 65, 65, 65, 65, 79, 79, 79, 79, 79, 79, 79, 79, 79, 64, 64, 64, 64, 64, 64, 64, 64, 64, 71, 71, 71, 71, 71, 71, 71, 71, 57, 57, 57, 57, 57, 57, 57, 57, 57, 65, 65, 65, 65, 65, 65, 65, 65, 65, 75, 75, 75, 75, 75, 75, 75, 75, 75, 71, 71, 71, 71, 71, 71, 71, 71, 71, 72, 72, 72, 72, 72, 72, 72, 72, 72, 56, 56, 56, 56, 56, 56, 56, 56, 56, 62, 62, 62, 62, 62, 62, 62, 64, 64, 64, 64, 64, 64, 64, 64, 64, 53, 53, 53, 53, 53, 53, 53, 53, 53, 53, 66, 66, 66, 66, 66, 66, 66, 66, 66, 67, 67, 67, 67, 67, 67, 67, 67, 67, 70, 70, 70, 70, 70, 70, 70, 70, 55, 55, 55, 55, 55, 55, 55, 55, 55, 55, 74, 74, 74, 74, 74, 74, 74, 74, 74, 61, 61, 61, 61, 61, 61, 61, 61, 61, 66, 66, 66, 66, 66, 66, 66, 66, 66, 74, 74, 74, 74, 74, 74, 74, 74, 65, 65, 65, 65, 65, 65, 65, 65, 65, 65, 65, 65, 65, 65, 65, 65, 65, 65, 66, 66, 66, 66, 66, 66, 66, 66, 66, 73, 73, 73, 73, 73, 73, 73, 73, 73, 68, 68, 68, 68, 68, 68, 68, 68, 68, 68, 73, 73, 73, 73, 73, 73, 73, 73, 72, 72, 72, 72, 72, 72, 72, 72, 72, 73, 73, 73, 73, 73, 73, 73, 73, 73], \"coloraxis\": \"coloraxis\"}, \"name\": \"\", \"offsetgroup\": \"\", \"orientation\": \"v\", \"showlegend\": false, \"textposition\": \"auto\", \"type\": \"bar\", \"x\": [\"Ex-smoker\", \"Ex-smoker\", \"Ex-smoker\", \"Ex-smoker\", \"Ex-smoker\", \"Ex-smoker\", \"Ex-smoker\", \"Ex-smoker\", \"Ex-smoker\", \"Ex-smoker\", \"Ex-smoker\", \"Ex-smoker\", \"Ex-smoker\", \"Ex-smoker\", \"Ex-smoker\", \"Ex-smoker\", \"Ex-smoker\", \"Ex-smoker\", \"Ex-smoker\", \"Ex-smoker\", \"Ex-smoker\", \"Ex-smoker\", \"Ex-smoker\", \"Ex-smoker\", \"Ex-smoker\", \"Ex-smoker\", \"Ex-smoker\", \"Ex-smoker\", \"Ex-smoker\", \"Ex-smoker\", \"Ex-smoker\", \"Ex-smoker\", \"Ex-smoker\", \"Ex-smoker\", \"Ex-smoker\", \"Ex-smoker\", \"Never smoked\", \"Never smoked\", \"Never smoked\", \"Never smoked\", \"Never smoked\", \"Never smoked\", \"Never smoked\", \"Never smoked\", \"Never smoked\", \"Ex-smoker\", \"Ex-smoker\", \"Ex-smoker\", \"Ex-smoker\", \"Ex-smoker\", \"Ex-smoker\", \"Ex-smoker\", \"Ex-smoker\", \"Ex-smoker\", \"Ex-smoker\", \"Ex-smoker\", \"Ex-smoker\", \"Ex-smoker\", \"Ex-smoker\", \"Ex-smoker\", \"Ex-smoker\", \"Ex-smoker\", \"Ex-smoker\", \"Ex-smoker\", \"Ex-smoker\", \"Ex-smoker\", \"Ex-smoker\", \"Ex-smoker\", \"Ex-smoker\", \"Ex-smoker\", \"Ex-smoker\", \"Never smoked\", \"Never smoked\", \"Never smoked\", \"Never smoked\", \"Never smoked\", \"Never smoked\", \"Never smoked\", \"Never smoked\", \"Never smoked\", \"Ex-smoker\", \"Ex-smoker\", \"Ex-smoker\", \"Ex-smoker\", \"Ex-smoker\", \"Ex-smoker\", \"Ex-smoker\", \"Ex-smoker\", \"Ex-smoker\", \"Ex-smoker\", \"Ex-smoker\", \"Ex-smoker\", \"Ex-smoker\", \"Ex-smoker\", \"Ex-smoker\", \"Ex-smoker\", \"Ex-smoker\", \"Ex-smoker\", \"Ex-smoker\", \"Ex-smoker\", \"Ex-smoker\", \"Ex-smoker\", \"Ex-smoker\", \"Ex-smoker\", \"Ex-smoker\", \"Ex-smoker\", \"Ex-smoker\", \"Ex-smoker\", \"Ex-smoker\", \"Ex-smoker\", \"Ex-smoker\", \"Ex-smoker\", \"Ex-smoker\", \"Ex-smoker\", \"Ex-smoker\", \"Ex-smoker\", \"Ex-smoker\", \"Ex-smoker\", \"Ex-smoker\", \"Ex-smoker\", \"Ex-smoker\", \"Ex-smoker\", \"Ex-smoker\", \"Ex-smoker\", \"Ex-smoker\", \"Ex-smoker\", \"Ex-smoker\", \"Ex-smoker\", \"Ex-smoker\", \"Ex-smoker\", \"Ex-smoker\", \"Ex-smoker\", \"Ex-smoker\", \"Ex-smoker\", \"Ex-smoker\", \"Ex-smoker\", \"Ex-smoker\", \"Ex-smoker\", \"Ex-smoker\", \"Ex-smoker\", \"Ex-smoker\", \"Ex-smoker\", \"Ex-smoker\", \"Ex-smoker\", \"Ex-smoker\", \"Ex-smoker\", \"Ex-smoker\", \"Ex-smoker\", \"Ex-smoker\", \"Ex-smoker\", \"Ex-smoker\", \"Ex-smoker\", \"Ex-smoker\", \"Ex-smoker\", \"Ex-smoker\", \"Ex-smoker\", \"Ex-smoker\", \"Ex-smoker\", \"Ex-smoker\", \"Ex-smoker\", \"Ex-smoker\", \"Ex-smoker\", \"Ex-smoker\", \"Ex-smoker\", \"Ex-smoker\", \"Ex-smoker\", \"Never smoked\", \"Never smoked\", \"Never smoked\", \"Never smoked\", \"Never smoked\", \"Never smoked\", \"Never smoked\", \"Never smoked\", \"Never smoked\", \"Ex-smoker\", \"Ex-smoker\", \"Ex-smoker\", \"Ex-smoker\", \"Ex-smoker\", \"Ex-smoker\", \"Ex-smoker\", \"Ex-smoker\", \"Ex-smoker\", \"Ex-smoker\", \"Ex-smoker\", \"Ex-smoker\", \"Ex-smoker\", \"Ex-smoker\", \"Ex-smoker\", \"Ex-smoker\", \"Ex-smoker\", \"Ex-smoker\", \"Ex-smoker\", \"Ex-smoker\", \"Ex-smoker\", \"Ex-smoker\", \"Ex-smoker\", \"Ex-smoker\", \"Ex-smoker\", \"Ex-smoker\", \"Ex-smoker\", \"Ex-smoker\", \"Ex-smoker\", \"Ex-smoker\", \"Ex-smoker\", \"Ex-smoker\", \"Ex-smoker\", \"Ex-smoker\", \"Never smoked\", \"Never smoked\", \"Never smoked\", \"Never smoked\", \"Never smoked\", \"Never smoked\", \"Never smoked\", \"Never smoked\", \"Never smoked\", \"Ex-smoker\", \"Ex-smoker\", \"Ex-smoker\", \"Ex-smoker\", \"Ex-smoker\", \"Ex-smoker\", \"Ex-smoker\", \"Ex-smoker\", \"Ex-smoker\", \"Ex-smoker\", \"Ex-smoker\", \"Ex-smoker\", \"Ex-smoker\", \"Ex-smoker\", \"Ex-smoker\", \"Ex-smoker\", \"Ex-smoker\", \"Ex-smoker\", \"Ex-smoker\", \"Ex-smoker\", \"Ex-smoker\", \"Ex-smoker\", \"Ex-smoker\", \"Ex-smoker\", \"Ex-smoker\", \"Ex-smoker\", \"Ex-smoker\", \"Ex-smoker\", \"Ex-smoker\", \"Ex-smoker\", \"Ex-smoker\", \"Ex-smoker\", \"Ex-smoker\", \"Ex-smoker\", \"Never smoked\", \"Never smoked\", \"Never smoked\", \"Never smoked\", \"Never smoked\", \"Never smoked\", \"Never smoked\", \"Never smoked\", \"Never smoked\", \"Never smoked\", \"Never smoked\", \"Never smoked\", \"Never smoked\", \"Never smoked\", \"Never smoked\", \"Never smoked\", \"Never smoked\", \"Never smoked\", \"Ex-smoker\", \"Ex-smoker\", \"Ex-smoker\", \"Ex-smoker\", \"Ex-smoker\", \"Ex-smoker\", \"Ex-smoker\", \"Ex-smoker\", \"Ex-smoker\", \"Ex-smoker\", \"Ex-smoker\", \"Ex-smoker\", \"Ex-smoker\", \"Ex-smoker\", \"Ex-smoker\", \"Ex-smoker\", \"Ex-smoker\", \"Ex-smoker\", \"Currently smokes\", \"Currently smokes\", \"Currently smokes\", \"Currently smokes\", \"Currently smokes\", \"Currently smokes\", \"Currently smokes\", \"Currently smokes\", \"Currently smokes\", \"Never smoked\", \"Never smoked\", \"Never smoked\", \"Never smoked\", \"Never smoked\", \"Never smoked\", \"Never smoked\", \"Never smoked\", \"Never smoked\", \"Never smoked\", \"Never smoked\", \"Never smoked\", \"Never smoked\", \"Never smoked\", \"Never smoked\", \"Never smoked\", \"Never smoked\", \"Never smoked\", \"Ex-smoker\", \"Ex-smoker\", \"Ex-smoker\", \"Ex-smoker\", \"Ex-smoker\", \"Ex-smoker\", \"Ex-smoker\", \"Ex-smoker\", \"Ex-smoker\", \"Ex-smoker\", \"Ex-smoker\", \"Ex-smoker\", \"Ex-smoker\", \"Ex-smoker\", \"Ex-smoker\", \"Ex-smoker\", \"Ex-smoker\", \"Ex-smoker\", \"Ex-smoker\", \"Ex-smoker\", \"Ex-smoker\", \"Ex-smoker\", \"Ex-smoker\", \"Ex-smoker\", \"Ex-smoker\", \"Ex-smoker\", \"Ex-smoker\", \"Ex-smoker\", \"Ex-smoker\", \"Ex-smoker\", \"Ex-smoker\", \"Ex-smoker\", \"Ex-smoker\", \"Ex-smoker\", \"Ex-smoker\", \"Ex-smoker\", \"Ex-smoker\", \"Ex-smoker\", \"Ex-smoker\", \"Ex-smoker\", \"Ex-smoker\", \"Ex-smoker\", \"Ex-smoker\", \"Ex-smoker\", \"Ex-smoker\", \"Never smoked\", \"Never smoked\", \"Never smoked\", \"Never smoked\", \"Never smoked\", \"Never smoked\", \"Never smoked\", \"Never smoked\", \"Ex-smoker\", \"Ex-smoker\", \"Ex-smoker\", \"Ex-smoker\", \"Ex-smoker\", \"Ex-smoker\", \"Ex-smoker\", \"Ex-smoker\", \"Ex-smoker\", \"Ex-smoker\", \"Ex-smoker\", \"Ex-smoker\", \"Ex-smoker\", \"Ex-smoker\", \"Ex-smoker\", \"Ex-smoker\", \"Ex-smoker\", \"Ex-smoker\", \"Ex-smoker\", \"Ex-smoker\", \"Ex-smoker\", \"Ex-smoker\", \"Ex-smoker\", \"Ex-smoker\", \"Ex-smoker\", \"Ex-smoker\", \"Ex-smoker\", \"Ex-smoker\", \"Ex-smoker\", \"Ex-smoker\", \"Ex-smoker\", \"Ex-smoker\", \"Ex-smoker\", \"Ex-smoker\", \"Ex-smoker\", \"Ex-smoker\", \"Ex-smoker\", \"Ex-smoker\", \"Ex-smoker\", \"Ex-smoker\", \"Ex-smoker\", \"Ex-smoker\", \"Ex-smoker\", \"Ex-smoker\", \"Ex-smoker\", \"Ex-smoker\", \"Ex-smoker\", \"Ex-smoker\", \"Ex-smoker\", \"Ex-smoker\", \"Ex-smoker\", \"Currently smokes\", \"Currently smokes\", \"Currently smokes\", \"Currently smokes\", \"Currently smokes\", \"Currently smokes\", \"Currently smokes\", \"Currently smokes\", \"Currently smokes\", \"Ex-smoker\", \"Ex-smoker\", \"Ex-smoker\", \"Ex-smoker\", \"Ex-smoker\", \"Ex-smoker\", \"Ex-smoker\", \"Ex-smoker\", \"Ex-smoker\", \"Ex-smoker\", \"Ex-smoker\", \"Ex-smoker\", \"Ex-smoker\", \"Ex-smoker\", \"Ex-smoker\", \"Ex-smoker\", \"Ex-smoker\", \"Ex-smoker\", \"Ex-smoker\", \"Never smoked\", \"Never smoked\", \"Never smoked\", \"Never smoked\", \"Never smoked\", \"Never smoked\", \"Never smoked\", \"Never smoked\", \"Never smoked\", \"Ex-smoker\", \"Ex-smoker\", \"Ex-smoker\", \"Ex-smoker\", \"Ex-smoker\", \"Ex-smoker\", \"Ex-smoker\", \"Ex-smoker\", \"Ex-smoker\", \"Never smoked\", \"Never smoked\", \"Never smoked\", \"Never smoked\", \"Never smoked\", \"Never smoked\", \"Never smoked\", \"Never smoked\", \"Ex-smoker\", \"Ex-smoker\", \"Ex-smoker\", \"Ex-smoker\", \"Ex-smoker\", \"Ex-smoker\", \"Ex-smoker\", \"Ex-smoker\", \"Ex-smoker\", \"Ex-smoker\", \"Ex-smoker\", \"Ex-smoker\", \"Ex-smoker\", \"Ex-smoker\", \"Ex-smoker\", \"Ex-smoker\", \"Ex-smoker\", \"Ex-smoker\", \"Never smoked\", \"Never smoked\", \"Never smoked\", \"Never smoked\", \"Never smoked\", \"Never smoked\", \"Never smoked\", \"Never smoked\", \"Never smoked\", \"Never smoked\", \"Never smoked\", \"Never smoked\", \"Never smoked\", \"Never smoked\", \"Never smoked\", \"Never smoked\", \"Never smoked\", \"Never smoked\", \"Never smoked\", \"Never smoked\", \"Never smoked\", \"Never smoked\", \"Never smoked\", \"Never smoked\", \"Never smoked\", \"Never smoked\", \"Never smoked\", \"Never smoked\", \"Never smoked\", \"Never smoked\", \"Never smoked\", \"Never smoked\", \"Never smoked\", \"Never smoked\", \"Ex-smoker\", \"Ex-smoker\", \"Ex-smoker\", \"Ex-smoker\", \"Ex-smoker\", \"Ex-smoker\", \"Ex-smoker\", \"Ex-smoker\", \"Ex-smoker\", \"Never smoked\", \"Never smoked\", \"Never smoked\", \"Never smoked\", \"Never smoked\", \"Never smoked\", \"Never smoked\", \"Never smoked\", \"Never smoked\", \"Ex-smoker\", \"Ex-smoker\", \"Ex-smoker\", \"Ex-smoker\", \"Ex-smoker\", \"Ex-smoker\", \"Ex-smoker\", \"Ex-smoker\", \"Ex-smoker\", \"Never smoked\", \"Never smoked\", \"Never smoked\", \"Never smoked\", \"Never smoked\", \"Never smoked\", \"Never smoked\", \"Never smoked\", \"Never smoked\", \"Ex-smoker\", \"Ex-smoker\", \"Ex-smoker\", \"Ex-smoker\", \"Ex-smoker\", \"Ex-smoker\", \"Ex-smoker\", \"Ex-smoker\", \"Ex-smoker\", \"Ex-smoker\", \"Ex-smoker\", \"Ex-smoker\", \"Ex-smoker\", \"Ex-smoker\", \"Ex-smoker\", \"Ex-smoker\", \"Ex-smoker\", \"Ex-smoker\", \"Ex-smoker\", \"Ex-smoker\", \"Ex-smoker\", \"Ex-smoker\", \"Ex-smoker\", \"Ex-smoker\", \"Ex-smoker\", \"Ex-smoker\", \"Ex-smoker\", \"Currently smokes\", \"Currently smokes\", \"Currently smokes\", \"Currently smokes\", \"Currently smokes\", \"Currently smokes\", \"Currently smokes\", \"Currently smokes\", \"Currently smokes\", \"Currently smokes\", \"Ex-smoker\", \"Ex-smoker\", \"Ex-smoker\", \"Ex-smoker\", \"Ex-smoker\", \"Ex-smoker\", \"Ex-smoker\", \"Ex-smoker\", \"Ex-smoker\", \"Ex-smoker\", \"Ex-smoker\", \"Ex-smoker\", \"Ex-smoker\", \"Ex-smoker\", \"Ex-smoker\", \"Ex-smoker\", \"Ex-smoker\", \"Ex-smoker\", \"Ex-smoker\", \"Ex-smoker\", \"Ex-smoker\", \"Ex-smoker\", \"Ex-smoker\", \"Ex-smoker\", \"Ex-smoker\", \"Ex-smoker\", \"Ex-smoker\", \"Ex-smoker\", \"Ex-smoker\", \"Ex-smoker\", \"Ex-smoker\", \"Ex-smoker\", \"Ex-smoker\", \"Ex-smoker\", \"Ex-smoker\", \"Ex-smoker\", \"Ex-smoker\", \"Ex-smoker\", \"Ex-smoker\", \"Ex-smoker\", \"Ex-smoker\", \"Ex-smoker\", \"Ex-smoker\", \"Ex-smoker\", \"Ex-smoker\", \"Ex-smoker\", \"Never smoked\", \"Never smoked\", \"Never smoked\", \"Never smoked\", \"Never smoked\", \"Never smoked\", \"Never smoked\", \"Never smoked\", \"Never smoked\", \"Ex-smoker\", \"Ex-smoker\", \"Ex-smoker\", \"Ex-smoker\", \"Ex-smoker\", \"Ex-smoker\", \"Ex-smoker\", \"Ex-smoker\", \"Ex-smoker\", \"Ex-smoker\", \"Ex-smoker\", \"Ex-smoker\", \"Ex-smoker\", \"Ex-smoker\", \"Ex-smoker\", \"Ex-smoker\", \"Ex-smoker\", \"Ex-smoker\", \"Ex-smoker\", \"Ex-smoker\", \"Ex-smoker\", \"Ex-smoker\", \"Ex-smoker\", \"Ex-smoker\", \"Ex-smoker\", \"Ex-smoker\", \"Ex-smoker\", \"Ex-smoker\", \"Ex-smoker\", \"Ex-smoker\", \"Ex-smoker\", \"Ex-smoker\", \"Ex-smoker\", \"Ex-smoker\", \"Ex-smoker\", \"Ex-smoker\", \"Ex-smoker\", \"Ex-smoker\", \"Ex-smoker\", \"Ex-smoker\", \"Ex-smoker\", \"Ex-smoker\", \"Ex-smoker\", \"Ex-smoker\", \"Ex-smoker\", \"Ex-smoker\", \"Ex-smoker\", \"Ex-smoker\", \"Ex-smoker\", \"Ex-smoker\", \"Ex-smoker\", \"Ex-smoker\", \"Ex-smoker\", \"Ex-smoker\", \"Ex-smoker\", \"Ex-smoker\", \"Ex-smoker\", \"Ex-smoker\", \"Ex-smoker\", \"Ex-smoker\", \"Ex-smoker\", \"Ex-smoker\", \"Ex-smoker\", \"Ex-smoker\", \"Ex-smoker\", \"Ex-smoker\", \"Ex-smoker\", \"Ex-smoker\", \"Ex-smoker\", \"Ex-smoker\", \"Never smoked\", \"Never smoked\", \"Never smoked\", \"Never smoked\", \"Never smoked\", \"Never smoked\", \"Never smoked\", \"Never smoked\", \"Never smoked\", \"Ex-smoker\", \"Ex-smoker\", \"Ex-smoker\", \"Ex-smoker\", \"Ex-smoker\", \"Ex-smoker\", \"Ex-smoker\", \"Ex-smoker\", \"Ex-smoker\", \"Currently smokes\", \"Currently smokes\", \"Currently smokes\", \"Currently smokes\", \"Currently smokes\", \"Currently smokes\", \"Currently smokes\", \"Currently smokes\", \"Currently smokes\", \"Ex-smoker\", \"Ex-smoker\", \"Ex-smoker\", \"Ex-smoker\", \"Ex-smoker\", \"Ex-smoker\", \"Ex-smoker\", \"Ex-smoker\", \"Ex-smoker\", \"Never smoked\", \"Never smoked\", \"Never smoked\", \"Never smoked\", \"Never smoked\", \"Never smoked\", \"Never smoked\", \"Never smoked\", \"Never smoked\", \"Ex-smoker\", \"Ex-smoker\", \"Ex-smoker\", \"Ex-smoker\", \"Ex-smoker\", \"Ex-smoker\", \"Ex-smoker\", \"Ex-smoker\", \"Ex-smoker\", \"Currently smokes\", \"Currently smokes\", \"Currently smokes\", \"Currently smokes\", \"Currently smokes\", \"Currently smokes\", \"Currently smokes\", \"Currently smokes\", \"Currently smokes\", \"Currently smokes\", \"Currently smokes\", \"Currently smokes\", \"Currently smokes\", \"Currently smokes\", \"Currently smokes\", \"Currently smokes\", \"Currently smokes\", \"Currently smokes\", \"Ex-smoker\", \"Ex-smoker\", \"Ex-smoker\", \"Ex-smoker\", \"Ex-smoker\", \"Ex-smoker\", \"Ex-smoker\", \"Ex-smoker\", \"Ex-smoker\", \"Never smoked\", \"Never smoked\", \"Never smoked\", \"Never smoked\", \"Never smoked\", \"Never smoked\", \"Never smoked\", \"Never smoked\", \"Never smoked\", \"Ex-smoker\", \"Ex-smoker\", \"Ex-smoker\", \"Ex-smoker\", \"Ex-smoker\", \"Ex-smoker\", \"Ex-smoker\", \"Ex-smoker\", \"Ex-smoker\", \"Ex-smoker\", \"Ex-smoker\", \"Ex-smoker\", \"Ex-smoker\", \"Ex-smoker\", \"Ex-smoker\", \"Ex-smoker\", \"Ex-smoker\", \"Ex-smoker\", \"Ex-smoker\", \"Ex-smoker\", \"Ex-smoker\", \"Ex-smoker\", \"Ex-smoker\", \"Ex-smoker\", \"Ex-smoker\", \"Ex-smoker\", \"Ex-smoker\", \"Ex-smoker\", \"Ex-smoker\", \"Ex-smoker\", \"Ex-smoker\", \"Ex-smoker\", \"Ex-smoker\", \"Ex-smoker\", \"Ex-smoker\", \"Ex-smoker\", \"Never smoked\", \"Never smoked\", \"Never smoked\", \"Never smoked\", \"Never smoked\", \"Never smoked\", \"Never smoked\", \"Never smoked\", \"Never smoked\", \"Never smoked\", \"Never smoked\", \"Never smoked\", \"Never smoked\", \"Never smoked\", \"Never smoked\", \"Never smoked\", \"Never smoked\", \"Ex-smoker\", \"Ex-smoker\", \"Ex-smoker\", \"Ex-smoker\", \"Ex-smoker\", \"Ex-smoker\", \"Ex-smoker\", \"Ex-smoker\", \"Ex-smoker\", \"Ex-smoker\", \"Ex-smoker\", \"Ex-smoker\", \"Ex-smoker\", \"Ex-smoker\", \"Ex-smoker\", \"Ex-smoker\", \"Ex-smoker\", \"Ex-smoker\", \"Ex-smoker\", \"Never smoked\", \"Never smoked\", \"Never smoked\", \"Never smoked\", \"Never smoked\", \"Never smoked\", \"Never smoked\", \"Never smoked\", \"Never smoked\", \"Ex-smoker\", \"Ex-smoker\", \"Ex-smoker\", \"Ex-smoker\", \"Ex-smoker\", \"Ex-smoker\", \"Ex-smoker\", \"Ex-smoker\", \"Ex-smoker\", \"Ex-smoker\", \"Ex-smoker\", \"Ex-smoker\", \"Ex-smoker\", \"Ex-smoker\", \"Ex-smoker\", \"Ex-smoker\", \"Ex-smoker\", \"Ex-smoker\", \"Ex-smoker\", \"Ex-smoker\", \"Ex-smoker\", \"Ex-smoker\", \"Ex-smoker\", \"Ex-smoker\", \"Ex-smoker\", \"Ex-smoker\", \"Ex-smoker\", \"Ex-smoker\", \"Ex-smoker\", \"Ex-smoker\", \"Ex-smoker\", \"Ex-smoker\", \"Ex-smoker\", \"Ex-smoker\", \"Ex-smoker\", \"Never smoked\", \"Never smoked\", \"Never smoked\", \"Never smoked\", \"Never smoked\", \"Never smoked\", \"Never smoked\", \"Never smoked\", \"Never smoked\", \"Ex-smoker\", \"Ex-smoker\", \"Ex-smoker\", \"Ex-smoker\", \"Ex-smoker\", \"Ex-smoker\", \"Ex-smoker\", \"Ex-smoker\", \"Ex-smoker\", \"Never smoked\", \"Never smoked\", \"Never smoked\", \"Never smoked\", \"Never smoked\", \"Never smoked\", \"Never smoked\", \"Never smoked\", \"Never smoked\", \"Ex-smoker\", \"Ex-smoker\", \"Ex-smoker\", \"Ex-smoker\", \"Ex-smoker\", \"Ex-smoker\", \"Ex-smoker\", \"Ex-smoker\", \"Ex-smoker\", \"Ex-smoker\", \"Ex-smoker\", \"Ex-smoker\", \"Ex-smoker\", \"Ex-smoker\", \"Ex-smoker\", \"Ex-smoker\", \"Ex-smoker\", \"Never smoked\", \"Never smoked\", \"Never smoked\", \"Never smoked\", \"Never smoked\", \"Never smoked\", \"Never smoked\", \"Never smoked\", \"Never smoked\", \"Never smoked\", \"Never smoked\", \"Never smoked\", \"Never smoked\", \"Never smoked\", \"Never smoked\", \"Never smoked\", \"Never smoked\", \"Never smoked\", \"Never smoked\", \"Never smoked\", \"Never smoked\", \"Never smoked\", \"Ex-smoker\", \"Ex-smoker\", \"Ex-smoker\", \"Ex-smoker\", \"Ex-smoker\", \"Ex-smoker\", \"Ex-smoker\", \"Ex-smoker\", \"Ex-smoker\", \"Never smoked\", \"Never smoked\", \"Never smoked\", \"Never smoked\", \"Never smoked\", \"Never smoked\", \"Never smoked\", \"Never smoked\", \"Never smoked\", \"Ex-smoker\", \"Ex-smoker\", \"Ex-smoker\", \"Ex-smoker\", \"Ex-smoker\", \"Ex-smoker\", \"Ex-smoker\", \"Ex-smoker\", \"Ex-smoker\", \"Ex-smoker\", \"Ex-smoker\", \"Ex-smoker\", \"Ex-smoker\", \"Ex-smoker\", \"Ex-smoker\", \"Ex-smoker\", \"Never smoked\", \"Never smoked\", \"Never smoked\", \"Never smoked\", \"Never smoked\", \"Never smoked\", \"Never smoked\", \"Never smoked\", \"Never smoked\", \"Never smoked\", \"Never smoked\", \"Never smoked\", \"Never smoked\", \"Never smoked\", \"Never smoked\", \"Never smoked\", \"Never smoked\", \"Never smoked\", \"Ex-smoker\", \"Ex-smoker\", \"Ex-smoker\", \"Ex-smoker\", \"Ex-smoker\", \"Ex-smoker\", \"Ex-smoker\", \"Ex-smoker\", \"Never smoked\", \"Never smoked\", \"Never smoked\", \"Never smoked\", \"Never smoked\", \"Never smoked\", \"Never smoked\", \"Never smoked\", \"Ex-smoker\", \"Ex-smoker\", \"Ex-smoker\", \"Ex-smoker\", \"Ex-smoker\", \"Ex-smoker\", \"Ex-smoker\", \"Ex-smoker\", \"Ex-smoker\", \"Ex-smoker\", \"Ex-smoker\", \"Ex-smoker\", \"Ex-smoker\", \"Ex-smoker\", \"Ex-smoker\", \"Ex-smoker\", \"Ex-smoker\", \"Ex-smoker\", \"Ex-smoker\", \"Ex-smoker\", \"Ex-smoker\", \"Ex-smoker\", \"Ex-smoker\", \"Ex-smoker\", \"Ex-smoker\", \"Ex-smoker\", \"Never smoked\", \"Never smoked\", \"Never smoked\", \"Never smoked\", \"Never smoked\", \"Never smoked\", \"Never smoked\", \"Never smoked\", \"Never smoked\", \"Ex-smoker\", \"Ex-smoker\", \"Ex-smoker\", \"Ex-smoker\", \"Ex-smoker\", \"Ex-smoker\", \"Ex-smoker\", \"Ex-smoker\", \"Ex-smoker\", \"Ex-smoker\", \"Ex-smoker\", \"Ex-smoker\", \"Ex-smoker\", \"Ex-smoker\", \"Ex-smoker\", \"Ex-smoker\", \"Ex-smoker\", \"Ex-smoker\", \"Never smoked\", \"Never smoked\", \"Never smoked\", \"Never smoked\", \"Never smoked\", \"Never smoked\", \"Never smoked\", \"Never smoked\", \"Never smoked\", \"Never smoked\", \"Never smoked\", \"Never smoked\", \"Never smoked\", \"Never smoked\", \"Never smoked\", \"Never smoked\", \"Never smoked\", \"Never smoked\", \"Ex-smoker\", \"Ex-smoker\", \"Ex-smoker\", \"Ex-smoker\", \"Ex-smoker\", \"Ex-smoker\", \"Ex-smoker\", \"Ex-smoker\", \"Ex-smoker\", \"Ex-smoker\", \"Ex-smoker\", \"Ex-smoker\", \"Ex-smoker\", \"Ex-smoker\", \"Ex-smoker\", \"Ex-smoker\", \"Ex-smoker\", \"Ex-smoker\", \"Ex-smoker\", \"Ex-smoker\", \"Ex-smoker\", \"Ex-smoker\", \"Ex-smoker\", \"Ex-smoker\", \"Ex-smoker\", \"Ex-smoker\", \"Ex-smoker\", \"Ex-smoker\", \"Ex-smoker\", \"Ex-smoker\", \"Ex-smoker\", \"Ex-smoker\", \"Ex-smoker\", \"Ex-smoker\", \"Ex-smoker\", \"Ex-smoker\", \"Ex-smoker\", \"Ex-smoker\", \"Ex-smoker\", \"Ex-smoker\", \"Ex-smoker\", \"Ex-smoker\", \"Ex-smoker\", \"Ex-smoker\", \"Ex-smoker\", \"Ex-smoker\", \"Ex-smoker\", \"Ex-smoker\", \"Ex-smoker\", \"Ex-smoker\", \"Ex-smoker\", \"Ex-smoker\", \"Currently smokes\", \"Currently smokes\", \"Currently smokes\", \"Currently smokes\", \"Currently smokes\", \"Currently smokes\", \"Currently smokes\", \"Currently smokes\", \"Currently smokes\", \"Ex-smoker\", \"Ex-smoker\", \"Ex-smoker\", \"Ex-smoker\", \"Ex-smoker\", \"Ex-smoker\", \"Ex-smoker\", \"Ex-smoker\", \"Ex-smoker\", \"Ex-smoker\", \"Ex-smoker\", \"Ex-smoker\", \"Ex-smoker\", \"Ex-smoker\", \"Ex-smoker\", \"Ex-smoker\", \"Ex-smoker\", \"Ex-smoker\", \"Ex-smoker\", \"Ex-smoker\", \"Ex-smoker\", \"Ex-smoker\", \"Ex-smoker\", \"Ex-smoker\", \"Ex-smoker\", \"Ex-smoker\", \"Ex-smoker\", \"Ex-smoker\", \"Ex-smoker\", \"Ex-smoker\", \"Ex-smoker\", \"Ex-smoker\", \"Ex-smoker\", \"Ex-smoker\", \"Ex-smoker\", \"Ex-smoker\", \"Ex-smoker\", \"Ex-smoker\", \"Ex-smoker\", \"Ex-smoker\", \"Ex-smoker\", \"Ex-smoker\", \"Ex-smoker\", \"Ex-smoker\", \"Currently smokes\", \"Currently smokes\", \"Currently smokes\", \"Currently smokes\", \"Currently smokes\", \"Currently smokes\", \"Currently smokes\", \"Currently smokes\", \"Currently smokes\", \"Ex-smoker\", \"Ex-smoker\", \"Ex-smoker\", \"Ex-smoker\", \"Ex-smoker\", \"Ex-smoker\", \"Ex-smoker\", \"Ex-smoker\", \"Ex-smoker\", \"Never smoked\", \"Never smoked\", \"Never smoked\", \"Never smoked\", \"Never smoked\", \"Never smoked\", \"Never smoked\", \"Never smoked\", \"Never smoked\", \"Never smoked\", \"Never smoked\", \"Never smoked\", \"Never smoked\", \"Never smoked\", \"Never smoked\", \"Never smoked\", \"Never smoked\", \"Ex-smoker\", \"Ex-smoker\", \"Ex-smoker\", \"Ex-smoker\", \"Ex-smoker\", \"Ex-smoker\", \"Ex-smoker\", \"Ex-smoker\", \"Ex-smoker\", \"Currently smokes\", \"Currently smokes\", \"Currently smokes\", \"Currently smokes\", \"Currently smokes\", \"Currently smokes\", \"Currently smokes\", \"Currently smokes\", \"Currently smokes\", \"Ex-smoker\", \"Ex-smoker\", \"Ex-smoker\", \"Ex-smoker\", \"Ex-smoker\", \"Ex-smoker\", \"Ex-smoker\", \"Ex-smoker\", \"Never smoked\", \"Never smoked\", \"Never smoked\", \"Never smoked\", \"Never smoked\", \"Never smoked\", \"Never smoked\", \"Never smoked\", \"Never smoked\", \"Ex-smoker\", \"Ex-smoker\", \"Ex-smoker\", \"Ex-smoker\", \"Ex-smoker\", \"Ex-smoker\", \"Ex-smoker\", \"Ex-smoker\", \"Ex-smoker\", \"Ex-smoker\", \"Ex-smoker\", \"Ex-smoker\", \"Ex-smoker\", \"Ex-smoker\", \"Ex-smoker\", \"Ex-smoker\", \"Ex-smoker\", \"Never smoked\", \"Never smoked\", \"Never smoked\", \"Never smoked\", \"Never smoked\", \"Never smoked\", \"Never smoked\", \"Never smoked\", \"Never smoked\", \"Never smoked\", \"Never smoked\", \"Never smoked\", \"Never smoked\", \"Never smoked\", \"Never smoked\", \"Never smoked\", \"Never smoked\", \"Never smoked\", \"Ex-smoker\", \"Ex-smoker\", \"Ex-smoker\", \"Ex-smoker\", \"Ex-smoker\", \"Ex-smoker\", \"Ex-smoker\", \"Ex-smoker\", \"Ex-smoker\", \"Ex-smoker\", \"Ex-smoker\", \"Ex-smoker\", \"Ex-smoker\", \"Ex-smoker\", \"Ex-smoker\", \"Ex-smoker\", \"Ex-smoker\", \"Ex-smoker\", \"Never smoked\", \"Never smoked\", \"Never smoked\", \"Never smoked\", \"Never smoked\", \"Never smoked\", \"Never smoked\", \"Never smoked\", \"Never smoked\", \"Never smoked\", \"Never smoked\", \"Never smoked\", \"Never smoked\", \"Never smoked\", \"Never smoked\", \"Never smoked\", \"Never smoked\", \"Never smoked\", \"Ex-smoker\", \"Ex-smoker\", \"Ex-smoker\", \"Ex-smoker\", \"Ex-smoker\", \"Ex-smoker\", \"Ex-smoker\", \"Never smoked\", \"Never smoked\", \"Never smoked\", \"Never smoked\", \"Never smoked\", \"Never smoked\", \"Never smoked\", \"Never smoked\", \"Never smoked\", \"Ex-smoker\", \"Ex-smoker\", \"Ex-smoker\", \"Ex-smoker\", \"Ex-smoker\", \"Ex-smoker\", \"Ex-smoker\", \"Ex-smoker\", \"Ex-smoker\", \"Ex-smoker\", \"Ex-smoker\", \"Ex-smoker\", \"Ex-smoker\", \"Ex-smoker\", \"Ex-smoker\", \"Ex-smoker\", \"Ex-smoker\", \"Ex-smoker\", \"Ex-smoker\", \"Never smoked\", \"Never smoked\", \"Never smoked\", \"Never smoked\", \"Never smoked\", \"Never smoked\", \"Never smoked\", \"Never smoked\", \"Never smoked\", \"Ex-smoker\", \"Ex-smoker\", \"Ex-smoker\", \"Ex-smoker\", \"Ex-smoker\", \"Ex-smoker\", \"Ex-smoker\", \"Ex-smoker\", \"Ex-smoker\", \"Ex-smoker\", \"Ex-smoker\", \"Ex-smoker\", \"Ex-smoker\", \"Ex-smoker\", \"Ex-smoker\", \"Ex-smoker\", \"Ex-smoker\", \"Ex-smoker\", \"Ex-smoker\", \"Ex-smoker\", \"Ex-smoker\", \"Ex-smoker\", \"Ex-smoker\", \"Ex-smoker\", \"Ex-smoker\", \"Ex-smoker\", \"Ex-smoker\", \"Never smoked\", \"Never smoked\", \"Never smoked\", \"Never smoked\", \"Never smoked\", \"Never smoked\", \"Never smoked\", \"Never smoked\", \"Never smoked\", \"Ex-smoker\", \"Ex-smoker\", \"Ex-smoker\", \"Ex-smoker\", \"Ex-smoker\", \"Ex-smoker\", \"Ex-smoker\", \"Ex-smoker\", \"Ex-smoker\", \"Ex-smoker\", \"Ex-smoker\", \"Ex-smoker\", \"Ex-smoker\", \"Ex-smoker\", \"Ex-smoker\", \"Ex-smoker\", \"Ex-smoker\", \"Ex-smoker\", \"Ex-smoker\", \"Ex-smoker\", \"Ex-smoker\", \"Ex-smoker\", \"Ex-smoker\", \"Ex-smoker\", \"Ex-smoker\", \"Ex-smoker\", \"Never smoked\", \"Never smoked\", \"Never smoked\", \"Never smoked\", \"Never smoked\", \"Never smoked\", \"Never smoked\", \"Never smoked\", \"Never smoked\", \"Never smoked\", \"Never smoked\", \"Never smoked\", \"Never smoked\", \"Never smoked\", \"Never smoked\", \"Never smoked\", \"Never smoked\", \"Never smoked\", \"Ex-smoker\", \"Ex-smoker\", \"Ex-smoker\", \"Ex-smoker\", \"Ex-smoker\", \"Ex-smoker\", \"Ex-smoker\", \"Ex-smoker\", \"Ex-smoker\", \"Ex-smoker\", \"Ex-smoker\", \"Ex-smoker\", \"Ex-smoker\", \"Ex-smoker\", \"Ex-smoker\", \"Ex-smoker\", \"Ex-smoker\", \"Ex-smoker\", \"Ex-smoker\", \"Ex-smoker\", \"Ex-smoker\", \"Ex-smoker\", \"Ex-smoker\", \"Ex-smoker\", \"Ex-smoker\", \"Ex-smoker\", \"Ex-smoker\", \"Ex-smoker\", \"Ex-smoker\", \"Ex-smoker\", \"Ex-smoker\", \"Ex-smoker\", \"Ex-smoker\", \"Ex-smoker\", \"Ex-smoker\", \"Ex-smoker\", \"Never smoked\", \"Never smoked\", \"Never smoked\", \"Never smoked\", \"Never smoked\", \"Never smoked\", \"Never smoked\", \"Never smoked\", \"Never smoked\"], \"xaxis\": \"x\", \"y\": [2315, 2214, 2061, 2144, 2069, 2101, 2000, 2064, 2057, 3660, 3610, 3895, 3759, 3639, 3578, 3625, 3390, 3214, 3523, 3373, 3327, 2993, 3030, 3103, 2993, 2474, 2518, 3326, 3419, 3541, 3502, 3410, 3477, 3269, 3346, 3193, 3418, 3759, 3276, 3443, 3268, 3449, 3324, 3231, 2971, 3807, 3897, 3615, 3786, 3756, 3238, 3221, 3439, 3027, 3042, 3120, 2890, 2667, 2968, 2697, 2682, 2585, 2100, 2047, 2001, 2054, 2002, 2116, 1946, 1808, 1778, 2297, 2145, 2245, 2250, 2096, 2115, 2058, 1940, 1861, 1536, 1368, 1361, 1465, 1681, 1461, 1337, 1304, 1406, 2903, 3159, 3277, 3042, 3277, 3086, 2880, 2811, 2533, 2884, 2766, 3007, 2981, 2868, 2917, 3002, 2793, 2700, 2472, 2795, 2750, 2697, 2887, 2547, 2564, 2539, 2378, 2506, 2561, 2388, 2694, 2595, 2552, 2328, 2378, 5045, 4825, 4876, 4665, 4753, 4487, 4679, 4743, 3846, 2728, 2603, 2634, 2668, 2684, 2787, 2391, 2195, 2272, 3946, 3905, 3787, 3988, 4000, 3831, 3846, 3878, 3896, 3791, 3555, 3514, 3451, 3626, 3515, 3679, 3961, 3431, 3313, 3235, 3370, 3129, 3236, 3012, 1375, 1477, 1399, 1447, 1466, 1441, 1414, 1387, 1370, 1697, 1569, 1776, 1718, 1682, 1624, 1616, 1520, 1532, 2489, 2522, 2517, 2292, 2251, 2436, 1848, 3255, 3370, 3418, 3284, 3050, 3135, 3292, 3064, 2890, 3969, 2511, 4134, 4024, 4043, 4048, 4128, 3902, 4089, 2301, 2336, 2341, 2158, 2260, 2212, 2239, 2172, 2071, 3456, 3295, 3420, 3608, 3363, 3410, 3256, 3230, 2794, 2827, 2784, 2740, 2819, 2592, 2459, 2626, 2476, 2359, 2357, 2376, 2352, 2414, 2308, 2233, 2356, 2247, 2547, 2409, 2361, 2354, 2410, 2353, 2130, 1709, 1641, 1541, 1529, 1613, 1615, 1623, 1469, 1296, 1185, 2298, 2576, 2182, 2374, 2370, 2480, 2683, 2914, 2853, 3170, 3121, 3223, 3380, 3255, 3391, 3504, 3378, 3391, 1860, 1901, 1823, 1799, 1753, 1780, 1763, 1718, 1385, 2918, 2955, 2873, 2963, 2885, 2837, 2975, 2957, 2875, 3367, 3303, 3424, 3442, 3486, 3076, 3351, 3461, 3327, 2478, 2539, 2571, 2511, 2297, 2241, 2076, 2031, 1918, 3562, 3024, 2958, 2969, 2982, 2877, 2948, 2907, 3695, 3570, 3834, 3794, 3592, 2728, 3475, 3841, 3668, 4916, 4799, 4738, 4856, 4692, 4756, 4753, 4574, 4752, 2934, 2866, 3065, 3089, 3005, 3001, 2769, 2708, 2862, 2833, 2553, 2510, 2294, 2400, 2133, 1651, 2196, 2336, 2404, 2377, 2339, 2346, 2381, 2203, 2089, 2036, 1733, 2479, 2398, 2427, 2547, 2523, 2483, 2399, 2322, 2237, 2076, 2914, 2795, 2808, 2707, 2686, 2850, 2667, 2641, 2611, 2073, 2142, 2274, 2186, 2269, 2228, 2327, 2112, 1725, 1995, 1884, 1806, 1666, 1316, 1085, 938, 919, 2389, 2419, 2400, 2181, 2275, 2235, 2083, 2548, 2509, 2543, 2399, 2507, 2156, 2134, 2446, 2933, 3001, 2904, 2832, 2866, 2788, 3022, 2912, 3037, 2917, 2851, 2905, 2889, 2965, 2950, 2886, 2899, 2994, 2908, 2581, 2427, 2404, 2335, 2279, 2254, 2146, 2155, 2091, 1674, 1674, 1766, 1687, 1586, 1454, 1406, 1484, 1566, 3559, 3587, 3458, 3614, 3661, 3610, 3454, 3350, 3146, 2349, 2584, 2337, 2330, 2320, 2093, 2027, 1872, 2375, 2281, 2276, 2295, 2245, 2227, 2316, 2307, 2455, 1677, 1781, 1773, 1771, 1667, 1643, 1584, 1533, 1551, 2220, 2274, 2174, 2193, 2241, 2102, 2024, 2253, 2184, 2235, 2333, 2266, 2319, 2230, 2154, 2134, 1690, 1648, 1587, 1503, 1537, 1436, 1392, 1351, 1197, 3327, 3407, 3292, 3368, 3364, 3226, 3274, 3208, 2990, 2582, 2614, 2743, 2674, 2579, 2608, 2588, 2630, 2594, 3195, 3203, 3097, 3171, 3115, 3105, 3035, 3051, 3033, 2629, 2729, 2606, 2568, 2560, 2675, 2415, 2112, 2232, 3808, 4036, 4087, 3869, 3906, 3780, 3925, 3907, 3901, 3239, 3390, 3324, 3305, 3276, 3376, 3278, 3362, 3197, 4510, 4443, 4339, 4324, 4247, 4196, 4320, 4267, 4151, 3793, 3742, 3916, 4130, 4050, 3949, 4061, 3835, 3568, 4124, 3981, 4092, 4201, 4130, 3973, 3865, 3852, 4052, 4089, 3247, 3241, 3226, 3156, 3160, 2965, 3105, 2952, 2686, 2841, 2806, 2786, 2944, 3017, 2901, 2809, 2897, 2818, 2102, 2102, 2172, 2136, 2067, 2161, 2296, 2129, 2184, 4562, 4791, 4680, 4635, 4662, 4496, 4537, 4424, 4288, 3744, 3186, 3095, 3143, 2993, 3041, 2975, 2859, 2762, 2711, 2520, 2474, 2462, 2486, 2480, 2527, 2486, 2471, 2263, 1970, 2474, 2205, 2063, 2155, 2020, 2272, 2338, 2388, 2603, 2715, 2740, 2749, 2833, 2830, 2772, 2801, 2623, 2648, 2728, 2861, 2889, 2840, 2697, 2675, 2576, 2563, 3009, 2954, 3102, 2962, 3054, 3049, 2866, 2761, 2860, 2541, 2358, 2350, 2346, 2427, 2449, 2537, 2461, 2393, 3130, 2965, 3197, 2761, 3009, 3175, 3021, 2991, 2743, 3096, 2781, 2826, 2759, 2591, 2428, 2119, 4291, 4488, 4490, 4424, 4307, 4330, 4169, 4193, 4461, 1728, 1929, 1874, 1831, 1783, 1829, 1850, 1653, 1568, 3849, 3799, 3871, 3903, 3930, 4360, 3811, 3792, 3856, 2776, 2400, 1950, 2192, 2360, 1941, 3399, 2312, 3283, 2672, 2683, 2868, 2949, 2907, 2686, 2832, 2844, 2889, 4311, 4279, 4316, 4185, 4029, 4092, 4040, 3641, 3646, 2379, 2722, 2735, 2924, 2829, 2806, 2696, 2522, 2526, 2846, 2860, 2773, 2780, 2809, 2837, 2844, 2845, 2852, 3035, 3376, 3057, 3126, 3220, 3090, 2972, 3289, 3017, 2869, 2853, 2912, 2929, 2886, 2867, 2829, 2874, 2791, 2658, 2289, 2157, 1997, 2110, 2195, 2424, 2081, 2105, 2439, 2550, 2590, 2564, 2582, 2527, 2888, 2802, 2600, 6399, 5678, 5910, 5739, 5763, 5844, 5613, 5895, 5768, 1401, 1416, 1424, 1377, 1450, 1529, 1456, 1391, 1285, 2644, 2345, 2492, 2540, 2549, 2579, 2371, 2384, 2316, 2992, 2637, 2643, 2705, 2679, 2388, 2722, 2656, 2812, 1583, 1001, 997, 1031, 969, 974, 827, 828, 1885, 1905, 1905, 1972, 1851, 1693, 1833, 1657, 1662, 3518, 3531, 3402, 3539, 3649, 3603, 3489, 3410, 3355, 3342, 1909, 1977, 2095, 1841, 1803, 1732, 2095, 1813, 1845, 3829, 3467, 3564, 3574, 3609, 3685, 3429, 3252, 3580, 2080, 2022, 1769, 2002, 1756, 2008, 1848, 1897, 2061, 2129, 2095, 2142, 2120, 2185, 2124, 2179, 2257, 2991, 3132, 2872, 2807, 2779, 2713, 2503, 2762, 2782, 1399, 1365, 1349, 1373, 1331, 1344, 1313, 1290, 1188, 1853, 1715, 1825, 1918, 1785, 1843, 1631, 1644, 1761, 1272, 1481, 1316, 1334, 1384, 1384, 1266, 1424, 1441, 3255, 3246, 3243, 3175, 3102, 2334, 2139, 2161, 2075, 2100, 2065, 2065, 1937, 2039, 2026, 1715, 1808, 1563, 1584, 1647, 1498, 1487, 1317, 1315, 1607, 1938, 1967, 2018, 2239, 2064, 1931, 2044, 2021, 1015, 1065, 1019, 1031, 935, 865, 3020, 2860, 2847, 2708, 2797, 2845, 2911, 2886, 2962, 2080, 1903, 2133, 2167, 2044, 1989, 1965, 1481, 1648, 3107, 2879, 2828, 2908, 3002, 2718, 2738, 4141, 4167, 4086, 4036, 4121, 4089, 3978, 4046, 3796, 1965, 1854, 1957, 1967, 2109, 1955, 1925, 2015, 1984, 1411, 1335, 1284, 1371, 1276, 1528, 1445, 1438, 1304, 2276, 2122, 1970, 2027, 2108, 2365, 2360, 2387, 2283, 2175, 2315, 2300, 2103, 2314, 2135, 1814, 4051, 4027, 4079, 3962, 4043, 3840, 4001, 3618, 3581, 2327, 2361, 2244, 2286, 2174, 2058, 2095, 2144, 2065, 2223, 2099, 2258, 2130, 2163, 1990, 2210, 2166, 1880, 1792, 1841, 1890, 1803, 1932, 1750, 1596, 1409, 2109, 2182, 2297, 2293, 2328, 1741, 1992, 2141, 2126, 2984, 2938, 2776, 2708, 2785, 2817, 2941, 2714, 2555, 3170, 3247, 3292, 3203, 3166, 3106, 2834, 2762, 2883, 3240, 3184, 3180, 3099, 3499, 3118, 2927, 2828, 3187, 1879, 1860, 1745, 1765, 1765, 1919, 1741, 1612, 1571, 2375, 2305, 2263, 2325, 2277, 2173, 1653, 1861, 4143, 2951, 4287, 4143, 4198, 4279, 4238, 4247, 4218, 2460, 2602, 2591, 2585, 2795, 2456, 2357, 2311, 2325, 1412, 1644, 1550, 1561, 1818, 1707, 1581, 1760, 2805, 2848, 2618, 2838, 2830, 2769, 3051, 2734, 2677, 3135, 2986, 2965, 3177, 3272, 3135, 3232, 3153, 3221, 3043, 2694, 2577, 2626, 2557, 2663, 2598, 2505, 2467, 2569, 2549, 2561, 2570, 2542, 2545, 2505, 2294, 3959, 4096, 3949, 3876, 3882, 3904, 3625, 3941, 4058, 3574, 3565, 3446, 3395, 3421, 3454, 3299, 3254, 2968, 2345, 2295, 2346, 2276, 2242, 2253, 2160, 2000, 2222, 2849, 2851, 2798, 2854, 2891, 2773, 2871, 2813, 2701, 2390, 2322, 2305, 2116, 2036, 2062, 1865, 1928, 1901, 1637, 1623, 1542, 1507, 1602, 1520, 1383, 1492, 1699, 1511, 2066, 2074, 2032, 1987, 2020, 1954, 1812, 2808, 2441, 2567, 2788, 2470, 2475, 2627, 2694, 2690, 4418, 3681, 4416, 4323, 4514, 4762, 4730, 4791, 4447, 2030, 2138, 1939, 2034, 2035, 1986, 1823, 2151, 3107, 2998, 2714, 2729, 2760, 2904, 2731, 2687, 2889, 3191, 3067, 3034, 2815, 2828, 3032, 3064, 2466, 2170, 2421, 2335, 2581, 2416, 2398, 2230, 2294, 2122, 1366, 1389, 1467, 1324, 1332, 1593, 1329, 1315, 837, 3128, 3032, 3107, 2932, 2964, 2812, 2963, 2801, 3019, 2308, 2211, 2237, 2244, 2270, 2209, 2243, 2219, 2250, 2470, 2474, 2508, 2468, 2452, 2510, 2479, 2419, 2232, 4284, 4316, 4386, 4319, 4320, 4157, 4186, 4251, 4125, 3338, 3242, 3336, 3271, 3190, 3629, 3623, 3290, 2939, 2415, 2242, 2335, 2202, 2068, 1997, 1996, 3237, 3064, 3109, 3246, 3184, 3121, 3008, 2862, 3036, 3157, 3282, 3042, 3101, 3046, 3029, 3045, 2887, 2989, 2756, 2231, 2104, 2214, 2159, 2040, 2058, 1996, 1830, 1808, 3562, 3936, 3589, 3635, 3885, 3745, 3577, 3576, 3540, 3046, 2878, 2839, 2808, 2592, 2461, 2349, 2083, 3962, 3936, 3895, 3924, 3856, 3949, 4013, 4014, 3797, 3874, 2184, 1971, 1793, 1845, 1734, 1750, 1992, 1889, 1892, 1560, 1546, 1565, 1471, 1603, 1584, 1523, 1412, 1547, 3179, 3201, 3190, 3032, 3188, 3096, 3067, 2944, 2963, 2651, 2377, 2414, 2384, 2181, 2374, 2504, 2416, 1556, 1788, 1843, 1772, 1668, 1799, 1682, 1746, 1650, 2619, 3006, 2622, 2863, 2612, 2301, 2171, 2161, 1612, 3357, 3397, 3273, 3354, 3305, 3265, 3364, 3240, 3303, 3020, 2859, 2783, 2719, 2738, 2694, 2708, 2793, 2727, 2739, 2756, 2755, 2820, 2853, 2716, 2833, 2771, 2628, 2719, 1930, 1936, 1955, 1848, 1897, 1946, 1862, 1713, 3294, 2777, 2700, 3014, 2661, 2778, 2516, 2432, 2578, 2925, 2903, 2916, 2976, 2712, 2978, 2908, 2975, 2774], \"yaxis\": \"y\"}],\n",
              "                        {\"barmode\": \"relative\", \"coloraxis\": {\"colorbar\": {\"title\": {\"text\": \"Age\"}}, \"colorscale\": [[0.0, \"#0d0887\"], [0.1111111111111111, \"#46039f\"], [0.2222222222222222, \"#7201a8\"], [0.3333333333333333, \"#9c179e\"], [0.4444444444444444, \"#bd3786\"], [0.5555555555555556, \"#d8576b\"], [0.6666666666666666, \"#ed7953\"], [0.7777777777777778, \"#fb9f3a\"], [0.8888888888888888, \"#fdca26\"], [1.0, \"#f0f921\"]]}, \"legend\": {\"tracegroupgap\": 0}, \"margin\": {\"t\": 60}, \"template\": {\"data\": {\"bar\": [{\"error_x\": {\"color\": \"#2a3f5f\"}, \"error_y\": {\"color\": \"#2a3f5f\"}, \"marker\": {\"line\": {\"color\": \"#E5ECF6\", \"width\": 0.5}}, \"type\": \"bar\"}], \"barpolar\": [{\"marker\": {\"line\": {\"color\": \"#E5ECF6\", \"width\": 0.5}}, \"type\": \"barpolar\"}], \"carpet\": [{\"aaxis\": {\"endlinecolor\": \"#2a3f5f\", \"gridcolor\": \"white\", \"linecolor\": \"white\", \"minorgridcolor\": \"white\", \"startlinecolor\": \"#2a3f5f\"}, \"baxis\": {\"endlinecolor\": \"#2a3f5f\", \"gridcolor\": \"white\", \"linecolor\": \"white\", \"minorgridcolor\": \"white\", \"startlinecolor\": \"#2a3f5f\"}, \"type\": \"carpet\"}], \"choropleth\": [{\"colorbar\": {\"outlinewidth\": 0, \"ticks\": \"\"}, \"type\": \"choropleth\"}], \"contour\": [{\"colorbar\": {\"outlinewidth\": 0, \"ticks\": \"\"}, \"colorscale\": [[0.0, \"#0d0887\"], [0.1111111111111111, \"#46039f\"], [0.2222222222222222, \"#7201a8\"], [0.3333333333333333, \"#9c179e\"], [0.4444444444444444, \"#bd3786\"], [0.5555555555555556, \"#d8576b\"], [0.6666666666666666, \"#ed7953\"], [0.7777777777777778, \"#fb9f3a\"], [0.8888888888888888, \"#fdca26\"], [1.0, \"#f0f921\"]], \"type\": \"contour\"}], \"contourcarpet\": [{\"colorbar\": {\"outlinewidth\": 0, \"ticks\": \"\"}, \"type\": \"contourcarpet\"}], \"heatmap\": [{\"colorbar\": {\"outlinewidth\": 0, \"ticks\": \"\"}, \"colorscale\": [[0.0, \"#0d0887\"], [0.1111111111111111, \"#46039f\"], [0.2222222222222222, \"#7201a8\"], [0.3333333333333333, \"#9c179e\"], [0.4444444444444444, \"#bd3786\"], [0.5555555555555556, \"#d8576b\"], [0.6666666666666666, \"#ed7953\"], [0.7777777777777778, \"#fb9f3a\"], [0.8888888888888888, \"#fdca26\"], [1.0, \"#f0f921\"]], \"type\": \"heatmap\"}], \"heatmapgl\": [{\"colorbar\": {\"outlinewidth\": 0, \"ticks\": \"\"}, \"colorscale\": [[0.0, \"#0d0887\"], [0.1111111111111111, \"#46039f\"], [0.2222222222222222, \"#7201a8\"], [0.3333333333333333, \"#9c179e\"], [0.4444444444444444, \"#bd3786\"], [0.5555555555555556, \"#d8576b\"], [0.6666666666666666, \"#ed7953\"], [0.7777777777777778, \"#fb9f3a\"], [0.8888888888888888, \"#fdca26\"], [1.0, \"#f0f921\"]], \"type\": \"heatmapgl\"}], \"histogram\": [{\"marker\": {\"colorbar\": {\"outlinewidth\": 0, \"ticks\": \"\"}}, \"type\": \"histogram\"}], \"histogram2d\": [{\"colorbar\": {\"outlinewidth\": 0, \"ticks\": \"\"}, \"colorscale\": [[0.0, \"#0d0887\"], [0.1111111111111111, \"#46039f\"], [0.2222222222222222, \"#7201a8\"], [0.3333333333333333, \"#9c179e\"], [0.4444444444444444, \"#bd3786\"], [0.5555555555555556, \"#d8576b\"], [0.6666666666666666, \"#ed7953\"], [0.7777777777777778, \"#fb9f3a\"], [0.8888888888888888, \"#fdca26\"], [1.0, \"#f0f921\"]], \"type\": \"histogram2d\"}], \"histogram2dcontour\": [{\"colorbar\": {\"outlinewidth\": 0, \"ticks\": \"\"}, \"colorscale\": [[0.0, \"#0d0887\"], [0.1111111111111111, \"#46039f\"], [0.2222222222222222, \"#7201a8\"], [0.3333333333333333, \"#9c179e\"], [0.4444444444444444, \"#bd3786\"], [0.5555555555555556, \"#d8576b\"], [0.6666666666666666, \"#ed7953\"], [0.7777777777777778, \"#fb9f3a\"], [0.8888888888888888, \"#fdca26\"], [1.0, \"#f0f921\"]], \"type\": \"histogram2dcontour\"}], \"mesh3d\": [{\"colorbar\": {\"outlinewidth\": 0, \"ticks\": \"\"}, \"type\": \"mesh3d\"}], \"parcoords\": [{\"line\": {\"colorbar\": {\"outlinewidth\": 0, \"ticks\": \"\"}}, \"type\": \"parcoords\"}], \"pie\": [{\"automargin\": true, \"type\": \"pie\"}], \"scatter\": [{\"marker\": {\"colorbar\": {\"outlinewidth\": 0, \"ticks\": \"\"}}, \"type\": \"scatter\"}], \"scatter3d\": [{\"line\": {\"colorbar\": {\"outlinewidth\": 0, \"ticks\": \"\"}}, \"marker\": {\"colorbar\": {\"outlinewidth\": 0, \"ticks\": \"\"}}, \"type\": \"scatter3d\"}], \"scattercarpet\": [{\"marker\": {\"colorbar\": {\"outlinewidth\": 0, \"ticks\": \"\"}}, \"type\": \"scattercarpet\"}], \"scattergeo\": [{\"marker\": {\"colorbar\": {\"outlinewidth\": 0, \"ticks\": \"\"}}, \"type\": \"scattergeo\"}], \"scattergl\": [{\"marker\": {\"colorbar\": {\"outlinewidth\": 0, \"ticks\": \"\"}}, \"type\": \"scattergl\"}], \"scattermapbox\": [{\"marker\": {\"colorbar\": {\"outlinewidth\": 0, \"ticks\": \"\"}}, \"type\": \"scattermapbox\"}], \"scatterpolar\": [{\"marker\": {\"colorbar\": {\"outlinewidth\": 0, \"ticks\": \"\"}}, \"type\": \"scatterpolar\"}], \"scatterpolargl\": [{\"marker\": {\"colorbar\": {\"outlinewidth\": 0, \"ticks\": \"\"}}, \"type\": \"scatterpolargl\"}], \"scatterternary\": [{\"marker\": {\"colorbar\": {\"outlinewidth\": 0, \"ticks\": \"\"}}, \"type\": \"scatterternary\"}], \"surface\": [{\"colorbar\": {\"outlinewidth\": 0, \"ticks\": \"\"}, \"colorscale\": [[0.0, \"#0d0887\"], [0.1111111111111111, \"#46039f\"], [0.2222222222222222, \"#7201a8\"], [0.3333333333333333, \"#9c179e\"], [0.4444444444444444, \"#bd3786\"], [0.5555555555555556, \"#d8576b\"], [0.6666666666666666, \"#ed7953\"], [0.7777777777777778, \"#fb9f3a\"], [0.8888888888888888, \"#fdca26\"], [1.0, \"#f0f921\"]], \"type\": \"surface\"}], \"table\": [{\"cells\": {\"fill\": {\"color\": \"#EBF0F8\"}, \"line\": {\"color\": \"white\"}}, \"header\": {\"fill\": {\"color\": \"#C8D4E3\"}, \"line\": {\"color\": \"white\"}}, \"type\": \"table\"}]}, \"layout\": {\"annotationdefaults\": {\"arrowcolor\": \"#2a3f5f\", \"arrowhead\": 0, \"arrowwidth\": 1}, \"coloraxis\": {\"colorbar\": {\"outlinewidth\": 0, \"ticks\": \"\"}}, \"colorscale\": {\"diverging\": [[0, \"#8e0152\"], [0.1, \"#c51b7d\"], [0.2, \"#de77ae\"], [0.3, \"#f1b6da\"], [0.4, \"#fde0ef\"], [0.5, \"#f7f7f7\"], [0.6, \"#e6f5d0\"], [0.7, \"#b8e186\"], [0.8, \"#7fbc41\"], [0.9, \"#4d9221\"], [1, \"#276419\"]], \"sequential\": [[0.0, \"#0d0887\"], [0.1111111111111111, \"#46039f\"], [0.2222222222222222, \"#7201a8\"], [0.3333333333333333, \"#9c179e\"], [0.4444444444444444, \"#bd3786\"], [0.5555555555555556, \"#d8576b\"], [0.6666666666666666, \"#ed7953\"], [0.7777777777777778, \"#fb9f3a\"], [0.8888888888888888, \"#fdca26\"], [1.0, \"#f0f921\"]], \"sequentialminus\": [[0.0, \"#0d0887\"], [0.1111111111111111, \"#46039f\"], [0.2222222222222222, \"#7201a8\"], [0.3333333333333333, \"#9c179e\"], [0.4444444444444444, \"#bd3786\"], [0.5555555555555556, \"#d8576b\"], [0.6666666666666666, \"#ed7953\"], [0.7777777777777778, \"#fb9f3a\"], [0.8888888888888888, \"#fdca26\"], [1.0, \"#f0f921\"]]}, \"colorway\": [\"#636efa\", \"#EF553B\", \"#00cc96\", \"#ab63fa\", \"#FFA15A\", \"#19d3f3\", \"#FF6692\", \"#B6E880\", \"#FF97FF\", \"#FECB52\"], \"font\": {\"color\": \"#2a3f5f\"}, \"geo\": {\"bgcolor\": \"white\", \"lakecolor\": \"white\", \"landcolor\": \"#E5ECF6\", \"showlakes\": true, \"showland\": true, \"subunitcolor\": \"white\"}, \"hoverlabel\": {\"align\": \"left\"}, \"hovermode\": \"closest\", \"mapbox\": {\"style\": \"light\"}, \"paper_bgcolor\": \"white\", \"plot_bgcolor\": \"#E5ECF6\", \"polar\": {\"angularaxis\": {\"gridcolor\": \"white\", \"linecolor\": \"white\", \"ticks\": \"\"}, \"bgcolor\": \"#E5ECF6\", \"radialaxis\": {\"gridcolor\": \"white\", \"linecolor\": \"white\", \"ticks\": \"\"}}, \"scene\": {\"xaxis\": {\"backgroundcolor\": \"#E5ECF6\", \"gridcolor\": \"white\", \"gridwidth\": 2, \"linecolor\": \"white\", \"showbackground\": true, \"ticks\": \"\", \"zerolinecolor\": \"white\"}, \"yaxis\": {\"backgroundcolor\": \"#E5ECF6\", \"gridcolor\": \"white\", \"gridwidth\": 2, \"linecolor\": \"white\", \"showbackground\": true, \"ticks\": \"\", \"zerolinecolor\": \"white\"}, \"zaxis\": {\"backgroundcolor\": \"#E5ECF6\", \"gridcolor\": \"white\", \"gridwidth\": 2, \"linecolor\": \"white\", \"showbackground\": true, \"ticks\": \"\", \"zerolinecolor\": \"white\"}}, \"shapedefaults\": {\"line\": {\"color\": \"#2a3f5f\"}}, \"ternary\": {\"aaxis\": {\"gridcolor\": \"white\", \"linecolor\": \"white\", \"ticks\": \"\"}, \"baxis\": {\"gridcolor\": \"white\", \"linecolor\": \"white\", \"ticks\": \"\"}, \"bgcolor\": \"#E5ECF6\", \"caxis\": {\"gridcolor\": \"white\", \"linecolor\": \"white\", \"ticks\": \"\"}}, \"title\": {\"x\": 0.05}, \"xaxis\": {\"automargin\": true, \"gridcolor\": \"white\", \"linecolor\": \"white\", \"ticks\": \"\", \"title\": {\"standoff\": 15}, \"zerolinecolor\": \"white\", \"zerolinewidth\": 2}, \"yaxis\": {\"automargin\": true, \"gridcolor\": \"white\", \"linecolor\": \"white\", \"ticks\": \"\", \"title\": {\"standoff\": 15}, \"zerolinecolor\": \"white\", \"zerolinewidth\": 2}}}, \"xaxis\": {\"anchor\": \"y\", \"domain\": [0.0, 1.0], \"title\": {\"text\": \"SmokingStatus\"}}, \"yaxis\": {\"anchor\": \"x\", \"domain\": [0.0, 1.0], \"title\": {\"text\": \"FVC\"}}},\n",
              "                        {\"responsive\": true}\n",
              "                    ).then(function(){\n",
              "                            \n",
              "var gd = document.getElementById('b065b456-ee66-4641-ab0c-66a6e4a62584');\n",
              "var x = new MutationObserver(function (mutations, observer) {{\n",
              "        var display = window.getComputedStyle(gd).display;\n",
              "        if (!display || display === 'none') {{\n",
              "            console.log([gd, 'removed!']);\n",
              "            Plotly.purge(gd);\n",
              "            observer.disconnect();\n",
              "        }}\n",
              "}});\n",
              "\n",
              "// Listen for the removal of the full notebook cells\n",
              "var notebookContainer = gd.closest('#notebook-container');\n",
              "if (notebookContainer) {{\n",
              "    x.observe(notebookContainer, {childList: true});\n",
              "}}\n",
              "\n",
              "// Listen for the clearing of the current output cell\n",
              "var outputEl = gd.closest('.output');\n",
              "if (outputEl) {{\n",
              "    x.observe(outputEl, {childList: true});\n",
              "}}\n",
              "\n",
              "                        })\n",
              "                };\n",
              "                \n",
              "            </script>\n",
              "        </div>\n",
              "</body>\n",
              "</html>"
            ]
          },
          "metadata": {
            "tags": []
          }
        }
      ]
    },
    {
      "cell_type": "code",
      "metadata": {
        "id": "fgC9KVBX_9Z0",
        "colab": {
          "base_uri": "https://localhost:8080/",
          "height": 218
        },
        "outputId": "3a07b459-f869-4bb5-9db2-95af25847669"
      },
      "source": [
        "#percent\n",
        "\n",
        "train_df['Percent'].value_counts()\n"
      ],
      "execution_count": null,
      "outputs": [
        {
          "output_type": "execute_result",
          "data": {
            "text/plain": [
              "83.282505     2\n",
              "86.559510     2\n",
              "121.595445    2\n",
              "80.474296     2\n",
              "61.885639     2\n",
              "             ..\n",
              "82.589902     1\n",
              "65.508606     1\n",
              "52.391737     1\n",
              "54.591498     1\n",
              "52.749977     1\n",
              "Name: Percent, Length: 1536, dtype: int64"
            ]
          },
          "metadata": {
            "tags": []
          },
          "execution_count": 39
        }
      ]
    },
    {
      "cell_type": "code",
      "metadata": {
        "id": "aMW59A8YMh1c",
        "colab": {
          "base_uri": "https://localhost:8080/",
          "height": 282
        },
        "outputId": "0591485c-f56d-49e2-e950-f966f5bab5ab"
      },
      "source": [
        "plt.scatter(train_df['Percent'],train_df['FVC'],color='red')"
      ],
      "execution_count": null,
      "outputs": [
        {
          "output_type": "execute_result",
          "data": {
            "text/plain": [
              "<matplotlib.collections.PathCollection at 0x7f335aad5470>"
            ]
          },
          "metadata": {
            "tags": []
          },
          "execution_count": 40
        },
        {
          "output_type": "display_data",
          "data": {
            "image/png": "[encoded data removed]",
            "text/plain": [
              "<Figure size 432x288 with 1 Axes>"
            ]
          },
          "metadata": {
            "tags": [],
            "needs_background": "light"
          }
        }
      ]
    },
    {
      "cell_type": "code",
      "metadata": {
        "id": "33qcj94qBUT5"
      },
      "source": [
        "data = train_df.append([test_df, sub_df])"
      ],
      "execution_count": null,
      "outputs": []
    },
    {
      "cell_type": "code",
      "metadata": {
        "id": "RUa698BpDjCJ",
        "colab": {
          "base_uri": "https://localhost:8080/",
          "height": 34
        },
        "outputId": "194c7659-078a-4c19-8fee-26c4ac6d83a8"
      },
      "source": [
        "len(data)"
      ],
      "execution_count": null,
      "outputs": [
        {
          "output_type": "execute_result",
          "data": {
            "text/plain": [
              "2284"
            ]
          },
          "metadata": {
            "tags": []
          },
          "execution_count": 42
        }
      ]
    },
    {
      "cell_type": "code",
      "metadata": {
        "id": "fKyQO-4hDnau",
        "colab": {
          "base_uri": "https://localhost:8080/",
          "height": 34
        },
        "outputId": "12fd8426-3bd1-4d88-aad8-79aa4f1bbd16"
      },
      "source": [
        "len(train_df),len(test_df),len(sub_df)"
      ],
      "execution_count": null,
      "outputs": [
        {
          "output_type": "execute_result",
          "data": {
            "text/plain": [
              "(1549, 5, 730)"
            ]
          },
          "metadata": {
            "tags": []
          },
          "execution_count": 43
        }
      ]
    },
    {
      "cell_type": "code",
      "metadata": {
        "id": "-ihmSqHQDyDj",
        "colab": {
          "base_uri": "https://localhost:8080/",
          "height": 286
        },
        "outputId": "6ee58b51-2a44-4efb-d9d4-4a6ff4e58ecf"
      },
      "source": [
        "data.info()"
      ],
      "execution_count": null,
      "outputs": [
        {
          "output_type": "stream",
          "text": [
            "<class 'pandas.core.frame.DataFrame'>\n",
            "Int64Index: 2284 entries, 0 to 729\n",
            "Data columns (total 9 columns):\n",
            " #   Column         Non-Null Count  Dtype  \n",
            "---  ------         --------------  -----  \n",
            " 0   Patient        1554 non-null   object \n",
            " 1   Weeks          1554 non-null   float64\n",
            " 2   FVC            2284 non-null   int64  \n",
            " 3   Percent        1554 non-null   float64\n",
            " 4   Age            1554 non-null   float64\n",
            " 5   Sex            1554 non-null   object \n",
            " 6   SmokingStatus  1554 non-null   object \n",
            " 7   Patient_Week   730 non-null    object \n",
            " 8   Confidence     730 non-null    float64\n",
            "dtypes: float64(4), int64(1), object(4)\n",
            "memory usage: 178.4+ KB\n"
          ],
          "name": "stdout"
        }
      ]
    },
    {
      "cell_type": "code",
      "metadata": {
        "id": "3o6-dXM3D9f2",
        "colab": {
          "base_uri": "https://localhost:8080/",
          "height": 185
        },
        "outputId": "56844e97-c8a5-4987-e1a8-3cd1a8dba041"
      },
      "source": [
        "data.isnull().sum()"
      ],
      "execution_count": null,
      "outputs": [
        {
          "output_type": "execute_result",
          "data": {
            "text/plain": [
              "Patient           730\n",
              "Weeks             730\n",
              "FVC                 0\n",
              "Percent           730\n",
              "Age               730\n",
              "Sex               730\n",
              "SmokingStatus     730\n",
              "Patient_Week     1554\n",
              "Confidence       1554\n",
              "dtype: int64"
            ]
          },
          "metadata": {
            "tags": []
          },
          "execution_count": 45
        }
      ]
    },
    {
      "cell_type": "code",
      "metadata": {
        "id": "BZ1T8RByMevv"
      },
      "source": [
        "train_df = pd.concat( (train_df,test_df) )"
      ],
      "execution_count": null,
      "outputs": []
    },
    {
      "cell_type": "code",
      "metadata": {
        "id": "NannWsTCNPWo"
      },
      "source": [
        "from sklearn import preprocessing\n",
        "label_encoder=preprocessing.LabelEncoder()\n",
        "train_df['SmokingStatus']=label_encoder.fit_transform(train_df['SmokingStatus'])\n",
        "train_df['Sex']=label_encoder.fit_transform(train_df['Sex'])"
      ],
      "execution_count": null,
      "outputs": []
    },
    {
      "cell_type": "code",
      "metadata": {
        "id": "NN1jaUehEKdg",
        "colab": {
          "base_uri": "https://localhost:8080/",
          "height": 343
        },
        "outputId": "aeeb22c5-2240-44e0-d58e-2ebf63625dcc"
      },
      "source": [
        "train_df['Percent']       = (train_df['Percent'] - train_df['Percent'].mean()) / train_df['Percent'].std()\n",
        "train_df['Age']           = (train_df['Age'] - train_df['Age'].mean()) / train_df['Age'].std()\n",
        "train_df['Sex']           = (train_df['Sex'] - train_df['Sex'].mean()) / train_df['Sex'].std()\n",
        "train_df['SmokingStatus'] = (train_df['SmokingStatus'] - train_df['SmokingStatus'].mean()) / train_df['SmokingStatus'].std()\n",
        "train_df.head(10)"
      ],
      "execution_count": null,
      "outputs": [
        {
          "output_type": "execute_result",
          "data": {
            "text/html": [
              "<div>\n",
              "<style scoped>\n",
              "    .dataframe tbody tr th:only-of-type {\n",
              "        vertical-align: middle;\n",
              "    }\n",
              "\n",
              "    .dataframe tbody tr th {\n",
              "        vertical-align: top;\n",
              "    }\n",
              "\n",
              "    .dataframe thead th {\n",
              "        text-align: right;\n",
              "    }\n",
              "</style>\n",
              "<table border=\"1\" class=\"dataframe\">\n",
              "  <thead>\n",
              "    <tr style=\"text-align: right;\">\n",
              "      <th></th>\n",
              "      <th>Patient</th>\n",
              "      <th>Weeks</th>\n",
              "      <th>FVC</th>\n",
              "      <th>Percent</th>\n",
              "      <th>Age</th>\n",
              "      <th>Sex</th>\n",
              "      <th>SmokingStatus</th>\n",
              "    </tr>\n",
              "  </thead>\n",
              "  <tbody>\n",
              "    <tr>\n",
              "      <th>0</th>\n",
              "      <td>ID00007637202177411956430</td>\n",
              "      <td>-4</td>\n",
              "      <td>2315</td>\n",
              "      <td>-0.980824</td>\n",
              "      <td>1.672875</td>\n",
              "      <td>0.514074</td>\n",
              "      <td>-0.423579</td>\n",
              "    </tr>\n",
              "    <tr>\n",
              "      <th>1</th>\n",
              "      <td>ID00007637202177411956430</td>\n",
              "      <td>5</td>\n",
              "      <td>2214</td>\n",
              "      <td>-1.109228</td>\n",
              "      <td>1.672875</td>\n",
              "      <td>0.514074</td>\n",
              "      <td>-0.423579</td>\n",
              "    </tr>\n",
              "    <tr>\n",
              "      <th>2</th>\n",
              "      <td>ID00007637202177411956430</td>\n",
              "      <td>7</td>\n",
              "      <td>2061</td>\n",
              "      <td>-1.303741</td>\n",
              "      <td>1.672875</td>\n",
              "      <td>0.514074</td>\n",
              "      <td>-0.423579</td>\n",
              "    </tr>\n",
              "    <tr>\n",
              "      <th>3</th>\n",
              "      <td>ID00007637202177411956430</td>\n",
              "      <td>9</td>\n",
              "      <td>2144</td>\n",
              "      <td>-1.198221</td>\n",
              "      <td>1.672875</td>\n",
              "      <td>0.514074</td>\n",
              "      <td>-0.423579</td>\n",
              "    </tr>\n",
              "    <tr>\n",
              "      <th>4</th>\n",
              "      <td>ID00007637202177411956430</td>\n",
              "      <td>11</td>\n",
              "      <td>2069</td>\n",
              "      <td>-1.293571</td>\n",
              "      <td>1.672875</td>\n",
              "      <td>0.514074</td>\n",
              "      <td>-0.423579</td>\n",
              "    </tr>\n",
              "    <tr>\n",
              "      <th>5</th>\n",
              "      <td>ID00007637202177411956430</td>\n",
              "      <td>17</td>\n",
              "      <td>2101</td>\n",
              "      <td>-1.252888</td>\n",
              "      <td>1.672875</td>\n",
              "      <td>0.514074</td>\n",
              "      <td>-0.423579</td>\n",
              "    </tr>\n",
              "    <tr>\n",
              "      <th>6</th>\n",
              "      <td>ID00007637202177411956430</td>\n",
              "      <td>29</td>\n",
              "      <td>2000</td>\n",
              "      <td>-1.381292</td>\n",
              "      <td>1.672875</td>\n",
              "      <td>0.514074</td>\n",
              "      <td>-0.423579</td>\n",
              "    </tr>\n",
              "    <tr>\n",
              "      <th>7</th>\n",
              "      <td>ID00007637202177411956430</td>\n",
              "      <td>41</td>\n",
              "      <td>2064</td>\n",
              "      <td>-1.299927</td>\n",
              "      <td>1.672875</td>\n",
              "      <td>0.514074</td>\n",
              "      <td>-0.423579</td>\n",
              "    </tr>\n",
              "    <tr>\n",
              "      <th>8</th>\n",
              "      <td>ID00007637202177411956430</td>\n",
              "      <td>57</td>\n",
              "      <td>2057</td>\n",
              "      <td>-1.308827</td>\n",
              "      <td>1.672875</td>\n",
              "      <td>0.514074</td>\n",
              "      <td>-0.423579</td>\n",
              "    </tr>\n",
              "    <tr>\n",
              "      <th>9</th>\n",
              "      <td>ID00009637202177434476278</td>\n",
              "      <td>8</td>\n",
              "      <td>3660</td>\n",
              "      <td>0.384760</td>\n",
              "      <td>0.254782</td>\n",
              "      <td>0.514074</td>\n",
              "      <td>-0.423579</td>\n",
              "    </tr>\n",
              "  </tbody>\n",
              "</table>\n",
              "</div>"
            ],
            "text/plain": [
              "                     Patient  Weeks   FVC  ...       Age       Sex  SmokingStatus\n",
              "0  ID00007637202177411956430     -4  2315  ...  1.672875  0.514074      -0.423579\n",
              "1  ID00007637202177411956430      5  2214  ...  1.672875  0.514074      -0.423579\n",
              "2  ID00007637202177411956430      7  2061  ...  1.672875  0.514074      -0.423579\n",
              "3  ID00007637202177411956430      9  2144  ...  1.672875  0.514074      -0.423579\n",
              "4  ID00007637202177411956430     11  2069  ...  1.672875  0.514074      -0.423579\n",
              "5  ID00007637202177411956430     17  2101  ...  1.672875  0.514074      -0.423579\n",
              "6  ID00007637202177411956430     29  2000  ...  1.672875  0.514074      -0.423579\n",
              "7  ID00007637202177411956430     41  2064  ...  1.672875  0.514074      -0.423579\n",
              "8  ID00007637202177411956430     57  2057  ...  1.672875  0.514074      -0.423579\n",
              "9  ID00009637202177434476278      8  3660  ...  0.254782  0.514074      -0.423579\n",
              "\n",
              "[10 rows x 7 columns]"
            ]
          },
          "metadata": {
            "tags": []
          },
          "execution_count": 48
        }
      ]
    },
    {
      "cell_type": "code",
      "metadata": {
        "id": "xPH-Jvssbl_K",
        "colab": {
          "base_uri": "https://localhost:8080/",
          "height": 195
        },
        "outputId": "89226c49-2aa8-4f48-edd1-2ff024eaa593"
      },
      "source": [
        "train_df.head()"
      ],
      "execution_count": null,
      "outputs": [
        {
          "output_type": "execute_result",
          "data": {
            "text/html": [
              "<div>\n",
              "<style scoped>\n",
              "    .dataframe tbody tr th:only-of-type {\n",
              "        vertical-align: middle;\n",
              "    }\n",
              "\n",
              "    .dataframe tbody tr th {\n",
              "        vertical-align: top;\n",
              "    }\n",
              "\n",
              "    .dataframe thead th {\n",
              "        text-align: right;\n",
              "    }\n",
              "</style>\n",
              "<table border=\"1\" class=\"dataframe\">\n",
              "  <thead>\n",
              "    <tr style=\"text-align: right;\">\n",
              "      <th></th>\n",
              "      <th>Patient</th>\n",
              "      <th>Weeks</th>\n",
              "      <th>FVC</th>\n",
              "      <th>Percent</th>\n",
              "      <th>Age</th>\n",
              "      <th>Sex</th>\n",
              "      <th>SmokingStatus</th>\n",
              "    </tr>\n",
              "  </thead>\n",
              "  <tbody>\n",
              "    <tr>\n",
              "      <th>0</th>\n",
              "      <td>ID00007637202177411956430</td>\n",
              "      <td>-4</td>\n",
              "      <td>2315</td>\n",
              "      <td>-0.980824</td>\n",
              "      <td>1.672875</td>\n",
              "      <td>0.514074</td>\n",
              "      <td>-0.423579</td>\n",
              "    </tr>\n",
              "    <tr>\n",
              "      <th>1</th>\n",
              "      <td>ID00007637202177411956430</td>\n",
              "      <td>5</td>\n",
              "      <td>2214</td>\n",
              "      <td>-1.109228</td>\n",
              "      <td>1.672875</td>\n",
              "      <td>0.514074</td>\n",
              "      <td>-0.423579</td>\n",
              "    </tr>\n",
              "    <tr>\n",
              "      <th>2</th>\n",
              "      <td>ID00007637202177411956430</td>\n",
              "      <td>7</td>\n",
              "      <td>2061</td>\n",
              "      <td>-1.303741</td>\n",
              "      <td>1.672875</td>\n",
              "      <td>0.514074</td>\n",
              "      <td>-0.423579</td>\n",
              "    </tr>\n",
              "    <tr>\n",
              "      <th>3</th>\n",
              "      <td>ID00007637202177411956430</td>\n",
              "      <td>9</td>\n",
              "      <td>2144</td>\n",
              "      <td>-1.198221</td>\n",
              "      <td>1.672875</td>\n",
              "      <td>0.514074</td>\n",
              "      <td>-0.423579</td>\n",
              "    </tr>\n",
              "    <tr>\n",
              "      <th>4</th>\n",
              "      <td>ID00007637202177411956430</td>\n",
              "      <td>11</td>\n",
              "      <td>2069</td>\n",
              "      <td>-1.293571</td>\n",
              "      <td>1.672875</td>\n",
              "      <td>0.514074</td>\n",
              "      <td>-0.423579</td>\n",
              "    </tr>\n",
              "  </tbody>\n",
              "</table>\n",
              "</div>"
            ],
            "text/plain": [
              "                     Patient  Weeks   FVC  ...       Age       Sex  SmokingStatus\n",
              "0  ID00007637202177411956430     -4  2315  ...  1.672875  0.514074      -0.423579\n",
              "1  ID00007637202177411956430      5  2214  ...  1.672875  0.514074      -0.423579\n",
              "2  ID00007637202177411956430      7  2061  ...  1.672875  0.514074      -0.423579\n",
              "3  ID00007637202177411956430      9  2144  ...  1.672875  0.514074      -0.423579\n",
              "4  ID00007637202177411956430     11  2069  ...  1.672875  0.514074      -0.423579\n",
              "\n",
              "[5 rows x 7 columns]"
            ]
          },
          "metadata": {
            "tags": []
          },
          "execution_count": 49
        }
      ]
    },
    {
      "cell_type": "code",
      "metadata": {
        "id": "2fQFo2_TMOJs"
      },
      "source": [
        "#keras model\n",
        "\n",
        "# model architecture https://www.kaggle.com/chrisden/6-82-quantile-reg-lr-schedulers-checkpoints\n",
        "\n",
        "from tensorflow.keras.models import Model\n",
        "\n",
        "i = Input(shape=(5,))\n",
        "x = Dense(100, activation=\"relu\", name=\"d1\")(i)\n",
        "x = Dense(100, activation=\"relu\", name=\"d2\")(x)\n",
        "p1 = Dense(3, activation=\"linear\", name=\"p1\")(x)\n",
        "p2 = Dense(3, activation=\"relu\", name=\"p2\")(x)\n",
        "preds=preds =Lambda(lambda x: x[0] + tf.cumsum(x[1], axis = 1), \n",
        "                     name = \"preds\")([p1, p2])\n",
        "\n",
        "\n",
        "model=Model(i,[p1,p2])\n",
        "model.compile(optimizer=tf.keras.optimizers.Adam(lr=0.1, beta_1=0.9, beta_2=0.999, epsilon=None, decay=0.01, amsgrad=False),loss='mse')"
      ],
      "execution_count": null,
      "outputs": []
    },
    {
      "cell_type": "code",
      "metadata": {
        "id": "zgDAaaAaYQIk",
        "colab": {
          "base_uri": "https://localhost:8080/",
          "height": 319
        },
        "outputId": "18f6fc4a-ef6a-4d31-a8b0-d6b34c8cca3c"
      },
      "source": [
        "model.summary()"
      ],
      "execution_count": null,
      "outputs": [
        {
          "output_type": "stream",
          "text": [
            "Model: \"functional_1\"\n",
            "__________________________________________________________________________________________________\n",
            "Layer (type)                    Output Shape         Param #     Connected to                     \n",
            "==================================================================================================\n",
            "input_1 (InputLayer)            [(None, 5)]          0                                            \n",
            "__________________________________________________________________________________________________\n",
            "d1 (Dense)                      (None, 100)          600         input_1[0][0]                    \n",
            "__________________________________________________________________________________________________\n",
            "d2 (Dense)                      (None, 100)          10100       d1[0][0]                         \n",
            "__________________________________________________________________________________________________\n",
            "p1 (Dense)                      (None, 3)            303         d2[0][0]                         \n",
            "__________________________________________________________________________________________________\n",
            "p2 (Dense)                      (None, 3)            303         d2[0][0]                         \n",
            "==================================================================================================\n",
            "Total params: 11,306\n",
            "Trainable params: 11,306\n",
            "Non-trainable params: 0\n",
            "__________________________________________________________________________________________________\n"
          ],
          "name": "stdout"
        }
      ]
    },
    {
      "cell_type": "code",
      "metadata": {
        "id": "CZXKY-MjZuE5",
        "colab": {
          "base_uri": "https://localhost:8080/",
          "height": 1000
        },
        "outputId": "ca686ac1-f938-4801-d4a4-a4279f14a082"
      },
      "source": [
        "r=model.fit(train_df[['Weeks','Percent','Sex','SmokingStatus','Age']],train_df['FVC'],epochs=100,verbose=1)"
      ],
      "execution_count": null,
      "outputs": [
        {
          "output_type": "stream",
          "text": [
            "Epoch 1/100\n",
            "49/49 [==============================] - 0s 1ms/step - loss: 3668399.2500 - p1_loss: 1832280.2500 - p2_loss: 1836119.0000\n",
            "Epoch 2/100\n",
            "49/49 [==============================] - 0s 1ms/step - loss: 321144.1562 - p1_loss: 160728.4062 - p2_loss: 160415.7656\n",
            "Epoch 3/100\n",
            "49/49 [==============================] - 0s 1ms/step - loss: 228704.9219 - p1_loss: 114357.6328 - p2_loss: 114347.3047\n",
            "Epoch 4/100\n",
            "49/49 [==============================] - 0s 1ms/step - loss: 201001.7812 - p1_loss: 100505.1875 - p2_loss: 100496.5859\n",
            "Epoch 5/100\n",
            "49/49 [==============================] - 0s 1ms/step - loss: 220203.5156 - p1_loss: 110128.7734 - p2_loss: 110074.7734\n",
            "Epoch 6/100\n",
            "49/49 [==============================] - 0s 1ms/step - loss: 197868.0938 - p1_loss: 98918.8984 - p2_loss: 98949.1875\n",
            "Epoch 7/100\n",
            "49/49 [==============================] - 0s 1ms/step - loss: 215405.3906 - p1_loss: 107726.3125 - p2_loss: 107679.0312\n",
            "Epoch 8/100\n",
            "49/49 [==============================] - 0s 1ms/step - loss: 195778.6562 - p1_loss: 97894.0547 - p2_loss: 97884.6250\n",
            "Epoch 9/100\n",
            "49/49 [==============================] - 0s 1ms/step - loss: 184594.7969 - p1_loss: 92288.9922 - p2_loss: 92305.8125\n",
            "Epoch 10/100\n",
            "49/49 [==============================] - 0s 2ms/step - loss: 188303.7500 - p1_loss: 94165.7578 - p2_loss: 94137.9844\n",
            "Epoch 11/100\n",
            "49/49 [==============================] - 0s 1ms/step - loss: 176161.9219 - p1_loss: 88086.9062 - p2_loss: 88074.9844\n",
            "Epoch 12/100\n",
            "49/49 [==============================] - 0s 1ms/step - loss: 167373.0312 - p1_loss: 83680.2969 - p2_loss: 83692.7188\n",
            "Epoch 13/100\n",
            "49/49 [==============================] - 0s 1ms/step - loss: 165014.3906 - p1_loss: 82517.2422 - p2_loss: 82497.1250\n",
            "Epoch 14/100\n",
            "49/49 [==============================] - 0s 1ms/step - loss: 175827.8750 - p1_loss: 87902.4141 - p2_loss: 87925.4531\n",
            "Epoch 15/100\n",
            "49/49 [==============================] - 0s 1ms/step - loss: 181624.8281 - p1_loss: 90850.4062 - p2_loss: 90774.4141\n",
            "Epoch 16/100\n",
            "49/49 [==============================] - 0s 1ms/step - loss: 170218.2812 - p1_loss: 85123.5312 - p2_loss: 85094.7266\n",
            "Epoch 17/100\n",
            "49/49 [==============================] - 0s 1ms/step - loss: 165755.7969 - p1_loss: 82892.9922 - p2_loss: 82862.8203\n",
            "Epoch 18/100\n",
            "49/49 [==============================] - 0s 1ms/step - loss: 158240.6719 - p1_loss: 79126.3281 - p2_loss: 79114.3594\n",
            "Epoch 19/100\n",
            "49/49 [==============================] - 0s 1ms/step - loss: 159325.6875 - p1_loss: 79674.3047 - p2_loss: 79651.3906\n",
            "Epoch 20/100\n",
            "49/49 [==============================] - 0s 1ms/step - loss: 151722.5312 - p1_loss: 75873.4531 - p2_loss: 75849.1016\n",
            "Epoch 21/100\n",
            "49/49 [==============================] - 0s 1ms/step - loss: 160284.1719 - p1_loss: 80149.0000 - p2_loss: 80135.1641\n",
            "Epoch 22/100\n",
            "49/49 [==============================] - 0s 1ms/step - loss: 158501.8438 - p1_loss: 79280.2969 - p2_loss: 79221.5938\n",
            "Epoch 23/100\n",
            "49/49 [==============================] - 0s 1ms/step - loss: 153905.0781 - p1_loss: 76968.3828 - p2_loss: 76936.6641\n",
            "Epoch 24/100\n",
            "49/49 [==============================] - 0s 1ms/step - loss: 156629.3906 - p1_loss: 78335.3281 - p2_loss: 78294.0469\n",
            "Epoch 25/100\n",
            "49/49 [==============================] - 0s 1ms/step - loss: 151927.9844 - p1_loss: 75963.8594 - p2_loss: 75964.1250\n",
            "Epoch 26/100\n",
            "49/49 [==============================] - 0s 1ms/step - loss: 154615.4375 - p1_loss: 77312.0469 - p2_loss: 77303.3750\n",
            "Epoch 27/100\n",
            "49/49 [==============================] - 0s 1ms/step - loss: 149398.0469 - p1_loss: 74728.4062 - p2_loss: 74669.6406\n",
            "Epoch 28/100\n",
            "49/49 [==============================] - 0s 1ms/step - loss: 150334.9844 - p1_loss: 75172.3047 - p2_loss: 75162.6797\n",
            "Epoch 29/100\n",
            "49/49 [==============================] - 0s 1ms/step - loss: 150855.0469 - p1_loss: 75449.9141 - p2_loss: 75405.1094\n",
            "Epoch 30/100\n",
            "49/49 [==============================] - 0s 1ms/step - loss: 151708.6250 - p1_loss: 75860.0234 - p2_loss: 75848.6094\n",
            "Epoch 31/100\n",
            "49/49 [==============================] - 0s 1ms/step - loss: 141556.5312 - p1_loss: 70805.7891 - p2_loss: 70750.7578\n",
            "Epoch 32/100\n",
            "49/49 [==============================] - 0s 1ms/step - loss: 144789.7188 - p1_loss: 72405.9609 - p2_loss: 72383.7344\n",
            "Epoch 33/100\n",
            "49/49 [==============================] - 0s 1ms/step - loss: 148787.0781 - p1_loss: 74407.4844 - p2_loss: 74379.6094\n",
            "Epoch 34/100\n",
            "49/49 [==============================] - 0s 1ms/step - loss: 151262.0156 - p1_loss: 75648.5781 - p2_loss: 75613.4375\n",
            "Epoch 35/100\n",
            "49/49 [==============================] - 0s 1ms/step - loss: 142048.9375 - p1_loss: 71026.0000 - p2_loss: 71022.9219\n",
            "Epoch 36/100\n",
            "49/49 [==============================] - 0s 1ms/step - loss: 141486.0156 - p1_loss: 70768.5391 - p2_loss: 70717.4766\n",
            "Epoch 37/100\n",
            "49/49 [==============================] - 0s 1ms/step - loss: 140293.4219 - p1_loss: 70159.4766 - p2_loss: 70133.9375\n",
            "Epoch 38/100\n",
            "49/49 [==============================] - 0s 1ms/step - loss: 144033.9375 - p1_loss: 72030.4062 - p2_loss: 72003.5547\n",
            "Epoch 39/100\n",
            "49/49 [==============================] - 0s 1ms/step - loss: 144714.2344 - p1_loss: 72362.6641 - p2_loss: 72351.5625\n",
            "Epoch 40/100\n",
            "49/49 [==============================] - 0s 1ms/step - loss: 142334.3594 - p1_loss: 71176.5078 - p2_loss: 71157.8672\n",
            "Epoch 41/100\n",
            "49/49 [==============================] - 0s 1ms/step - loss: 140488.9844 - p1_loss: 70261.9688 - p2_loss: 70227.0000\n",
            "Epoch 42/100\n",
            "49/49 [==============================] - 0s 1ms/step - loss: 151425.8906 - p1_loss: 75731.5547 - p2_loss: 75694.3438\n",
            "Epoch 43/100\n",
            "49/49 [==============================] - 0s 1ms/step - loss: 142170.7656 - p1_loss: 71090.3984 - p2_loss: 71080.4141\n",
            "Epoch 44/100\n",
            "49/49 [==============================] - 0s 1ms/step - loss: 144267.3906 - p1_loss: 72141.1016 - p2_loss: 72126.2812\n",
            "Epoch 45/100\n",
            "49/49 [==============================] - 0s 1ms/step - loss: 137901.3906 - p1_loss: 68960.6094 - p2_loss: 68940.7812\n",
            "Epoch 46/100\n",
            "49/49 [==============================] - 0s 1ms/step - loss: 142729.0312 - p1_loss: 71381.2422 - p2_loss: 71347.7734\n",
            "Epoch 47/100\n",
            "49/49 [==============================] - 0s 1ms/step - loss: 137536.9844 - p1_loss: 68781.2891 - p2_loss: 68755.6719\n",
            "Epoch 48/100\n",
            "49/49 [==============================] - 0s 1ms/step - loss: 136760.8281 - p1_loss: 68383.7266 - p2_loss: 68377.1094\n",
            "Epoch 49/100\n",
            "49/49 [==============================] - 0s 1ms/step - loss: 137274.8438 - p1_loss: 68652.3750 - p2_loss: 68622.4375\n",
            "Epoch 50/100\n",
            "49/49 [==============================] - 0s 1ms/step - loss: 137494.8750 - p1_loss: 68765.0312 - p2_loss: 68729.8359\n",
            "Epoch 51/100\n",
            "49/49 [==============================] - 0s 1ms/step - loss: 136688.5156 - p1_loss: 68346.2734 - p2_loss: 68342.2188\n",
            "Epoch 52/100\n",
            "49/49 [==============================] - 0s 1ms/step - loss: 136992.2969 - p1_loss: 68526.1797 - p2_loss: 68466.1172\n",
            "Epoch 53/100\n",
            "49/49 [==============================] - 0s 1ms/step - loss: 136148.9062 - p1_loss: 68083.6719 - p2_loss: 68065.2422\n",
            "Epoch 54/100\n",
            "49/49 [==============================] - 0s 1ms/step - loss: 145102.3594 - p1_loss: 72562.3984 - p2_loss: 72539.9531\n",
            "Epoch 55/100\n",
            "49/49 [==============================] - 0s 1ms/step - loss: 140537.6094 - p1_loss: 70279.9141 - p2_loss: 70257.6641\n",
            "Epoch 56/100\n",
            "49/49 [==============================] - 0s 1ms/step - loss: 134763.2812 - p1_loss: 67393.0625 - p2_loss: 67370.2578\n",
            "Epoch 57/100\n",
            "49/49 [==============================] - 0s 1ms/step - loss: 136271.4375 - p1_loss: 68149.7891 - p2_loss: 68121.6406\n",
            "Epoch 58/100\n",
            "49/49 [==============================] - 0s 1ms/step - loss: 132941.9531 - p1_loss: 66482.6953 - p2_loss: 66459.2344\n",
            "Epoch 59/100\n",
            "49/49 [==============================] - 0s 1ms/step - loss: 134776.5000 - p1_loss: 67395.9141 - p2_loss: 67380.5781\n",
            "Epoch 60/100\n",
            "49/49 [==============================] - 0s 1ms/step - loss: 131858.0938 - p1_loss: 65945.9531 - p2_loss: 65912.1172\n",
            "Epoch 61/100\n",
            "49/49 [==============================] - 0s 1ms/step - loss: 135449.7344 - p1_loss: 67737.0156 - p2_loss: 67712.7188\n",
            "Epoch 62/100\n",
            "49/49 [==============================] - 0s 1ms/step - loss: 133048.3125 - p1_loss: 66533.0000 - p2_loss: 66515.2812\n",
            "Epoch 63/100\n",
            "49/49 [==============================] - 0s 1ms/step - loss: 131132.9219 - p1_loss: 65582.1172 - p2_loss: 65550.8594\n",
            "Epoch 64/100\n",
            "49/49 [==============================] - 0s 1ms/step - loss: 132686.7812 - p1_loss: 66355.2031 - p2_loss: 66331.5859\n",
            "Epoch 65/100\n",
            "49/49 [==============================] - 0s 1ms/step - loss: 130705.0078 - p1_loss: 65367.6445 - p2_loss: 65337.3594\n",
            "Epoch 66/100\n",
            "49/49 [==============================] - 0s 1ms/step - loss: 133655.1406 - p1_loss: 66843.8047 - p2_loss: 66811.3359\n",
            "Epoch 67/100\n",
            "49/49 [==============================] - 0s 1ms/step - loss: 139486.5781 - p1_loss: 69751.0391 - p2_loss: 69735.5078\n",
            "Epoch 68/100\n",
            "49/49 [==============================] - 0s 1ms/step - loss: 131357.6719 - p1_loss: 65692.7812 - p2_loss: 65664.9141\n",
            "Epoch 69/100\n",
            "49/49 [==============================] - 0s 1ms/step - loss: 129887.3516 - p1_loss: 64955.3828 - p2_loss: 64931.9531\n",
            "Epoch 70/100\n",
            "49/49 [==============================] - 0s 1ms/step - loss: 139771.2344 - p1_loss: 69902.4375 - p2_loss: 69868.7578\n",
            "Epoch 71/100\n",
            "49/49 [==============================] - 0s 1ms/step - loss: 135363.6719 - p1_loss: 67687.7656 - p2_loss: 67675.8906\n",
            "Epoch 72/100\n",
            "49/49 [==============================] - 0s 1ms/step - loss: 129415.8359 - p1_loss: 64720.1562 - p2_loss: 64695.6875\n",
            "Epoch 73/100\n",
            "49/49 [==============================] - 0s 2ms/step - loss: 135595.1875 - p1_loss: 67809.9688 - p2_loss: 67785.2188\n",
            "Epoch 74/100\n",
            "49/49 [==============================] - 0s 1ms/step - loss: 131008.4297 - p1_loss: 65519.2734 - p2_loss: 65489.1602\n",
            "Epoch 75/100\n",
            "49/49 [==============================] - 0s 1ms/step - loss: 133307.0312 - p1_loss: 66667.8750 - p2_loss: 66639.1484\n",
            "Epoch 76/100\n",
            "49/49 [==============================] - 0s 1ms/step - loss: 128922.6250 - p1_loss: 64470.6445 - p2_loss: 64451.9688\n",
            "Epoch 77/100\n",
            "49/49 [==============================] - 0s 1ms/step - loss: 128921.4688 - p1_loss: 64475.8672 - p2_loss: 64445.6094\n",
            "Epoch 78/100\n",
            "49/49 [==============================] - 0s 1ms/step - loss: 129619.9609 - p1_loss: 64822.7852 - p2_loss: 64797.1680\n",
            "Epoch 79/100\n",
            "49/49 [==============================] - 0s 1ms/step - loss: 130267.7969 - p1_loss: 65142.7500 - p2_loss: 65125.0508\n",
            "Epoch 80/100\n",
            "49/49 [==============================] - 0s 1ms/step - loss: 128665.9688 - p1_loss: 64342.3281 - p2_loss: 64323.6172\n",
            "Epoch 81/100\n",
            "49/49 [==============================] - 0s 2ms/step - loss: 133839.9531 - p1_loss: 66933.6250 - p2_loss: 66906.3203\n",
            "Epoch 82/100\n",
            "49/49 [==============================] - 0s 1ms/step - loss: 130825.5000 - p1_loss: 65421.5820 - p2_loss: 65403.9375\n",
            "Epoch 83/100\n",
            "49/49 [==============================] - 0s 1ms/step - loss: 127281.7891 - p1_loss: 63656.5820 - p2_loss: 63625.2109\n",
            "Epoch 84/100\n",
            "49/49 [==============================] - 0s 1ms/step - loss: 132059.2656 - p1_loss: 66042.1797 - p2_loss: 66017.1094\n",
            "Epoch 85/100\n",
            "49/49 [==============================] - 0s 1ms/step - loss: 128075.4375 - p1_loss: 64046.8320 - p2_loss: 64028.6016\n",
            "Epoch 86/100\n",
            "49/49 [==============================] - 0s 1ms/step - loss: 127814.3359 - p1_loss: 63924.4023 - p2_loss: 63889.9570\n",
            "Epoch 87/100\n",
            "49/49 [==============================] - 0s 1ms/step - loss: 128466.9219 - p1_loss: 64245.1875 - p2_loss: 64221.7227\n",
            "Epoch 88/100\n",
            "49/49 [==============================] - 0s 1ms/step - loss: 128746.4375 - p1_loss: 64378.9766 - p2_loss: 64367.4844\n",
            "Epoch 89/100\n",
            "49/49 [==============================] - 0s 1ms/step - loss: 127727.9062 - p1_loss: 63881.7188 - p2_loss: 63846.1992\n",
            "Epoch 90/100\n",
            "49/49 [==============================] - 0s 1ms/step - loss: 128107.3594 - p1_loss: 64062.7422 - p2_loss: 64044.6016\n",
            "Epoch 91/100\n",
            "49/49 [==============================] - 0s 1ms/step - loss: 130114.9766 - p1_loss: 65069.8945 - p2_loss: 65045.1016\n",
            "Epoch 92/100\n",
            "49/49 [==============================] - 0s 1ms/step - loss: 126797.7031 - p1_loss: 63408.3672 - p2_loss: 63389.3477\n",
            "Epoch 93/100\n",
            "49/49 [==============================] - 0s 1ms/step - loss: 126584.7891 - p1_loss: 63304.6992 - p2_loss: 63280.0820\n",
            "Epoch 94/100\n",
            "49/49 [==============================] - 0s 1ms/step - loss: 127494.3750 - p1_loss: 63760.4219 - p2_loss: 63733.9648\n",
            "Epoch 95/100\n",
            "49/49 [==============================] - 0s 1ms/step - loss: 125181.0781 - p1_loss: 62603.7852 - p2_loss: 62577.2969\n",
            "Epoch 96/100\n",
            "49/49 [==============================] - 0s 1ms/step - loss: 125179.2344 - p1_loss: 62597.2734 - p2_loss: 62581.9492\n",
            "Epoch 97/100\n",
            "49/49 [==============================] - 0s 1ms/step - loss: 127186.9062 - p1_loss: 63604.2305 - p2_loss: 63582.6758\n",
            "Epoch 98/100\n",
            "49/49 [==============================] - 0s 1ms/step - loss: 126006.1172 - p1_loss: 63012.9570 - p2_loss: 62993.1641\n",
            "Epoch 99/100\n",
            "49/49 [==============================] - 0s 1ms/step - loss: 125275.4219 - p1_loss: 62648.8320 - p2_loss: 62626.5898\n",
            "Epoch 100/100\n",
            "49/49 [==============================] - 0s 1ms/step - loss: 125658.6875 - p1_loss: 62836.6680 - p2_loss: 62822.0352\n"
          ],
          "name": "stdout"
        }
      ]
    },
    {
      "cell_type": "code",
      "metadata": {
        "id": "e0z9fOIkaPJ4",
        "colab": {
          "base_uri": "https://localhost:8080/",
          "height": 84
        },
        "outputId": "b33936b2-3952-40fb-ac02-c2b0788265db"
      },
      "source": [
        "#quantile regression model\n",
        "#linear model\n",
        "\n",
        "from statsmodels.formula.api import quantreg\n",
        "\n",
        "model_1=quantreg('FVC ~ Weeks+Sex+Age+SmokingStatus+Percent', train_df).fit(q=0.15)\n",
        "model_2=quantreg('FVC ~ Weeks+Sex+Age+SmokingStatus+Percent', train_df).fit(q=0.50)\n",
        "model_3=quantreg('FVC ~ Weeks+Percent+Age+Sex+SmokingStatus', train_df).fit( q=0.85 )\n"
      ],
      "execution_count": null,
      "outputs": [
        {
          "output_type": "stream",
          "text": [
            "/usr/local/lib/python3.6/dist-packages/statsmodels/tools/_testing.py:19: FutureWarning:\n",
            "\n",
            "pandas.util.testing is deprecated. Use the functions in the public API at pandas.testing instead.\n",
            "\n"
          ],
          "name": "stderr"
        }
      ]
    },
    {
      "cell_type": "code",
      "metadata": {
        "id": "kV2-s7resBvl"
      },
      "source": [
        "train_df['FVC1'],train_df['FVC2'],train_df['FVC3']=model_1.predict(train_df),model_2.predict(train_df),model_3.predict(train_df)"
      ],
      "execution_count": null,
      "outputs": []
    },
    {
      "cell_type": "code",
      "metadata": {
        "id": "WyrY4Vcbsn3u",
        "colab": {
          "base_uri": "https://localhost:8080/",
          "height": 195
        },
        "outputId": "0ec111fc-6d9b-4b27-bf2d-2962dbfd06f4"
      },
      "source": [
        "train_df.head()"
      ],
      "execution_count": null,
      "outputs": [
        {
          "output_type": "execute_result",
          "data": {
            "text/html": [
              "<div>\n",
              "<style scoped>\n",
              "    .dataframe tbody tr th:only-of-type {\n",
              "        vertical-align: middle;\n",
              "    }\n",
              "\n",
              "    .dataframe tbody tr th {\n",
              "        vertical-align: top;\n",
              "    }\n",
              "\n",
              "    .dataframe thead th {\n",
              "        text-align: right;\n",
              "    }\n",
              "</style>\n",
              "<table border=\"1\" class=\"dataframe\">\n",
              "  <thead>\n",
              "    <tr style=\"text-align: right;\">\n",
              "      <th></th>\n",
              "      <th>Patient</th>\n",
              "      <th>Weeks</th>\n",
              "      <th>FVC</th>\n",
              "      <th>Percent</th>\n",
              "      <th>Age</th>\n",
              "      <th>Sex</th>\n",
              "      <th>SmokingStatus</th>\n",
              "      <th>FVC1</th>\n",
              "      <th>FVC2</th>\n",
              "      <th>FVC3</th>\n",
              "    </tr>\n",
              "  </thead>\n",
              "  <tbody>\n",
              "    <tr>\n",
              "      <th>0</th>\n",
              "      <td>ID00007637202177411956430</td>\n",
              "      <td>-4</td>\n",
              "      <td>2315</td>\n",
              "      <td>-0.980824</td>\n",
              "      <td>1.672875</td>\n",
              "      <td>0.514074</td>\n",
              "      <td>-0.423579</td>\n",
              "      <td>1906.845441</td>\n",
              "      <td>2115.694765</td>\n",
              "      <td>2304.700872</td>\n",
              "    </tr>\n",
              "    <tr>\n",
              "      <th>1</th>\n",
              "      <td>ID00007637202177411956430</td>\n",
              "      <td>5</td>\n",
              "      <td>2214</td>\n",
              "      <td>-1.109228</td>\n",
              "      <td>1.672875</td>\n",
              "      <td>0.514074</td>\n",
              "      <td>-0.423579</td>\n",
              "      <td>1826.888395</td>\n",
              "      <td>2025.968534</td>\n",
              "      <td>2208.437779</td>\n",
              "    </tr>\n",
              "    <tr>\n",
              "      <th>2</th>\n",
              "      <td>ID00007637202177411956430</td>\n",
              "      <td>7</td>\n",
              "      <td>2061</td>\n",
              "      <td>-1.303741</td>\n",
              "      <td>1.672875</td>\n",
              "      <td>0.514074</td>\n",
              "      <td>-0.423579</td>\n",
              "      <td>1715.515763</td>\n",
              "      <td>1899.472326</td>\n",
              "      <td>2061.031680</td>\n",
              "    </tr>\n",
              "    <tr>\n",
              "      <th>3</th>\n",
              "      <td>ID00007637202177411956430</td>\n",
              "      <td>9</td>\n",
              "      <td>2144</td>\n",
              "      <td>-1.198221</td>\n",
              "      <td>1.672875</td>\n",
              "      <td>0.514074</td>\n",
              "      <td>-0.423579</td>\n",
              "      <td>1773.348020</td>\n",
              "      <td>1965.594982</td>\n",
              "      <td>2141.416537</td>\n",
              "    </tr>\n",
              "    <tr>\n",
              "      <th>4</th>\n",
              "      <td>ID00007637202177411956430</td>\n",
              "      <td>11</td>\n",
              "      <td>2069</td>\n",
              "      <td>-1.293571</td>\n",
              "      <td>1.672875</td>\n",
              "      <td>0.514074</td>\n",
              "      <td>-0.423579</td>\n",
              "      <td>1717.899037</td>\n",
              "      <td>1902.760941</td>\n",
              "      <td>2069.297280</td>\n",
              "    </tr>\n",
              "  </tbody>\n",
              "</table>\n",
              "</div>"
            ],
            "text/plain": [
              "                     Patient  Weeks  ...         FVC2         FVC3\n",
              "0  ID00007637202177411956430     -4  ...  2115.694765  2304.700872\n",
              "1  ID00007637202177411956430      5  ...  2025.968534  2208.437779\n",
              "2  ID00007637202177411956430      7  ...  1899.472326  2061.031680\n",
              "3  ID00007637202177411956430      9  ...  1965.594982  2141.416537\n",
              "4  ID00007637202177411956430     11  ...  1902.760941  2069.297280\n",
              "\n",
              "[5 rows x 10 columns]"
            ]
          },
          "metadata": {
            "tags": []
          },
          "execution_count": 55
        }
      ]
    },
    {
      "cell_type": "code",
      "metadata": {
        "id": "vZ23OK0eX90A"
      },
      "source": [
        "train_df[[\"Patient\",\"Weeks\",\"FVC\",\"FVC1\",\"FVC2\",\"FVC3\"]].to_csv(\"my_submission.csv\", index = False)"
      ],
      "execution_count": null,
      "outputs": []
    },
    {
      "cell_type": "code",
      "metadata": {
        "id": "A1MUF7h0u7_R",
        "colab": {
          "base_uri": "https://localhost:8080/",
          "height": 50
        },
        "outputId": "769f2e37-550a-4101-dfac-80104a38b51a"
      },
      "source": [
        "!kaggle competitions submit -c osic-pulmonary-fibrosis-progression -f my_submission.csv -m 'submitted this through google colab'"
      ],
      "execution_count": null,
      "outputs": [
        {
          "output_type": "stream",
          "text": [
            "100% 136k/136k [00:06<00:00, 22.7kB/s]\n",
            "403 - This competition only allows kernel submissions.\n"
          ],
          "name": "stdout"
        }
      ]
    },
    {
      "cell_type": "code",
      "metadata": {
        "id": "1YYidVnUnCxg"
      },
      "source": [
        ""
      ],
      "execution_count": null,
      "outputs": []
    }
  ]
}